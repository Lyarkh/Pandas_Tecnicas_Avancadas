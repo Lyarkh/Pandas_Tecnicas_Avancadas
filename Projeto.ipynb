{
 "cells": [
  {
   "cell_type": "markdown",
   "metadata": {
    "id": "VvKng5_devgH"
   },
   "source": [
    "# PANDAS AVANÇADO\n",
    "---"
   ]
  },
  {
   "cell_type": "markdown",
   "metadata": {
    "id": "99IUfbszevgO"
   },
   "source": [
    "# CARREGANDO OS DADOS\n",
    "---"
   ]
  },
  {
   "cell_type": "markdown",
   "metadata": {
    "id": "VYIHv0csevgP"
   },
   "source": [
    "## Configurações do projeto"
   ]
  },
  {
   "cell_type": "markdown",
   "metadata": {
    "id": "P_gXKCYpevgP"
   },
   "source": [
    "### Importando pacotes"
   ]
  },
  {
   "cell_type": "code",
   "execution_count": 63,
   "metadata": {
    "ExecuteTime": {
     "end_time": "2020-10-25T16:41:53.996410Z",
     "start_time": "2020-10-25T16:41:53.989428Z"
    },
    "id": "s-xCbXDzevgQ"
   },
   "outputs": [],
   "source": [
    "import pandas as pd"
   ]
  },
  {
   "cell_type": "code",
   "execution_count": 64,
   "metadata": {
    "ExecuteTime": {
     "end_time": "2020-10-25T16:41:54.449198Z",
     "start_time": "2020-10-25T16:41:54.436233Z"
    },
    "id": "-BWaF1-uevgQ"
   },
   "outputs": [
    {
     "data": {
      "text/plain": [
       "'1.4.1'"
      ]
     },
     "execution_count": 64,
     "metadata": {},
     "output_type": "execute_result"
    }
   ],
   "source": [
    "pd.__version__"
   ]
  },
  {
   "cell_type": "markdown",
   "metadata": {
    "id": "4S6wyakFevgQ"
   },
   "source": [
    "### Opções de configuração\n",
    "\n",
    "[Documentação](https://pandas.pydata.org/pandas-docs/stable/user_guide/options.html)"
   ]
  },
  {
   "cell_type": "code",
   "execution_count": 65,
   "metadata": {
    "id": "6UVcvI0-evgR"
   },
   "outputs": [
    {
     "data": {
      "text/plain": [
       "30"
      ]
     },
     "execution_count": 65,
     "metadata": {},
     "output_type": "execute_result"
    }
   ],
   "source": [
    "pd.get_option(\"display.max_rows\")"
   ]
  },
  {
   "cell_type": "code",
   "execution_count": 66,
   "metadata": {
    "id": "A8Nvt66tevgR"
   },
   "outputs": [
    {
     "data": {
      "text/plain": [
       "1000"
      ]
     },
     "execution_count": 66,
     "metadata": {},
     "output_type": "execute_result"
    }
   ],
   "source": [
    "pd.get_option(\"display.max_columns\")"
   ]
  },
  {
   "cell_type": "markdown",
   "metadata": {
    "id": "xmP4ARNSevgR"
   },
   "source": [
    "[Opções disponíveis](https://pandas.pydata.org/pandas-docs/stable/user_guide/options.html#available-options)"
   ]
  },
  {
   "cell_type": "code",
   "execution_count": 67,
   "metadata": {
    "id": "rKUvxnvnevgS"
   },
   "outputs": [
    {
     "name": "stdout",
     "output_type": "stream",
     "text": [
      "compute.use_bottleneck : bool\n",
      "    Use the bottleneck library to accelerate if it is installed,\n",
      "    the default is True\n",
      "    Valid values: False,True\n",
      "    [default: True] [currently: True]\n",
      "compute.use_numba : bool\n",
      "    Use the numba engine option for select operations if it is installed,\n",
      "    the default is False\n",
      "    Valid values: False,True\n",
      "    [default: False] [currently: False]\n",
      "compute.use_numexpr : bool\n",
      "    Use the numexpr library to accelerate computation if it is installed,\n",
      "    the default is True\n",
      "    Valid values: False,True\n",
      "    [default: True] [currently: True]\n",
      "display.chop_threshold : float or None\n",
      "    if set to a float value, all float values smaller then the given threshold\n",
      "    will be displayed as exactly 0 by repr and friends.\n",
      "    [default: None] [currently: None]\n",
      "display.colheader_justify : 'left'/'right'\n",
      "    Controls the justification of column headers. used by DataFrameFormatter.\n",
      "    [default: right] [currently: right]\n",
      "display.column_space No description available.\n",
      "    [default: 12] [currently: 12]\n",
      "display.date_dayfirst : boolean\n",
      "    When True, prints and parses dates with the day first, eg 20/01/2005\n",
      "    [default: False] [currently: False]\n",
      "display.date_yearfirst : boolean\n",
      "    When True, prints and parses dates with the year first, eg 2005/01/20\n",
      "    [default: False] [currently: False]\n",
      "display.encoding : str/unicode\n",
      "    Defaults to the detected encoding of the console.\n",
      "    Specifies the encoding to be used for strings returned by to_string,\n",
      "    these are generally strings meant to be displayed on the console.\n",
      "    [default: UTF-8] [currently: UTF-8]\n",
      "display.expand_frame_repr : boolean\n",
      "    Whether to print out the full DataFrame repr for wide DataFrames across\n",
      "    multiple lines, `max_columns` is still respected, but the output will\n",
      "    wrap-around across multiple \"pages\" if its width exceeds `display.width`.\n",
      "    [default: True] [currently: True]\n",
      "display.float_format : callable\n",
      "    The callable should accept a floating point number and return\n",
      "    a string with the desired format of the number. This is used\n",
      "    in some places like SeriesFormatter.\n",
      "    See formats.format.EngFormatter for an example.\n",
      "    [default: None] [currently: None]\n",
      "display.html.border : int\n",
      "    A ``border=value`` attribute is inserted in the ``<table>`` tag\n",
      "    for the DataFrame HTML repr.\n",
      "    [default: 1] [currently: 1]\n",
      "display.html.table_schema : boolean\n",
      "    Whether to publish a Table Schema representation for frontends\n",
      "    that support it.\n",
      "    (default: False)\n",
      "    [default: False] [currently: False]\n",
      "display.html.use_mathjax : boolean\n",
      "    When True, Jupyter notebook will process table contents using MathJax,\n",
      "    rendering mathematical expressions enclosed by the dollar symbol.\n",
      "    (default: True)\n",
      "    [default: True] [currently: True]\n",
      "display.large_repr : 'truncate'/'info'\n",
      "    For DataFrames exceeding max_rows/max_cols, the repr (and HTML repr) can\n",
      "    show a truncated table (the default from 0.13), or switch to the view from\n",
      "    df.info() (the behaviour in earlier versions of pandas).\n",
      "    [default: truncate] [currently: truncate]\n",
      "display.latex.escape : bool\n",
      "    This specifies if the to_latex method of a Dataframe uses escapes special\n",
      "    characters.\n",
      "    Valid values: False,True\n",
      "    [default: True] [currently: True]\n",
      "display.latex.longtable :bool\n",
      "    This specifies if the to_latex method of a Dataframe uses the longtable\n",
      "    format.\n",
      "    Valid values: False,True\n",
      "    [default: False] [currently: False]\n",
      "display.latex.multicolumn : bool\n",
      "    This specifies if the to_latex method of a Dataframe uses multicolumns\n",
      "    to pretty-print MultiIndex columns.\n",
      "    Valid values: False,True\n",
      "    [default: True] [currently: True]\n",
      "display.latex.multicolumn_format : bool\n",
      "    This specifies if the to_latex method of a Dataframe uses multicolumns\n",
      "    to pretty-print MultiIndex columns.\n",
      "    Valid values: False,True\n",
      "    [default: l] [currently: l]\n",
      "display.latex.multirow : bool\n",
      "    This specifies if the to_latex method of a Dataframe uses multirows\n",
      "    to pretty-print MultiIndex rows.\n",
      "    Valid values: False,True\n",
      "    [default: False] [currently: False]\n",
      "display.latex.repr : boolean\n",
      "    Whether to produce a latex DataFrame representation for jupyter\n",
      "    environments that support it.\n",
      "    (default: False)\n",
      "    [default: False] [currently: False]\n",
      "display.max_categories : int\n",
      "    This sets the maximum number of categories pandas should output when\n",
      "    printing out a `Categorical` or a Series of dtype \"category\".\n",
      "    [default: 8] [currently: 8]\n",
      "display.max_columns : int\n",
      "    If max_cols is exceeded, switch to truncate view. Depending on\n",
      "    `large_repr`, objects are either centrally truncated or printed as\n",
      "    a summary view. 'None' value means unlimited.\n",
      "\n",
      "    In case python/IPython is running in a terminal and `large_repr`\n",
      "    equals 'truncate' this can be set to 0 and pandas will auto-detect\n",
      "    the width of the terminal and print a truncated object which fits\n",
      "    the screen width. The IPython notebook, IPython qtconsole, or IDLE\n",
      "    do not run in a terminal and hence it is not possible to do\n",
      "    correct auto-detection.\n",
      "    [default: 20] [currently: 1000]\n",
      "display.max_colwidth : int or None\n",
      "    The maximum width in characters of a column in the repr of\n",
      "    a pandas data structure. When the column overflows, a \"...\"\n",
      "    placeholder is embedded in the output. A 'None' value means unlimited.\n",
      "    [default: 50] [currently: 50]\n",
      "display.max_dir_items : int\n",
      "    The number of items that will be added to `dir(...)`. 'None' value means\n",
      "    unlimited. Because dir is cached, changing this option will not immediately\n",
      "    affect already existing dataframes until a column is deleted or added.\n",
      "\n",
      "    This is for instance used to suggest columns from a dataframe to tab\n",
      "    completion.\n",
      "    [default: 100] [currently: 100]\n",
      "display.max_info_columns : int\n",
      "    max_info_columns is used in DataFrame.info method to decide if\n",
      "    per column information will be printed.\n",
      "    [default: 100] [currently: 100]\n",
      "display.max_info_rows : int or None\n",
      "    df.info() will usually show null-counts for each column.\n",
      "    For large frames this can be quite slow. max_info_rows and max_info_cols\n",
      "    limit this null check only to frames with smaller dimensions than\n",
      "    specified.\n",
      "    [default: 1690785] [currently: 1690785]\n",
      "display.max_rows : int\n",
      "    If max_rows is exceeded, switch to truncate view. Depending on\n",
      "    `large_repr`, objects are either centrally truncated or printed as\n",
      "    a summary view. 'None' value means unlimited.\n",
      "\n",
      "    In case python/IPython is running in a terminal and `large_repr`\n",
      "    equals 'truncate' this can be set to 0 and pandas will auto-detect\n",
      "    the height of the terminal and print a truncated object which fits\n",
      "    the screen height. The IPython notebook, IPython qtconsole, or\n",
      "    IDLE do not run in a terminal and hence it is not possible to do\n",
      "    correct auto-detection.\n",
      "    [default: 60] [currently: 30]\n",
      "display.max_seq_items : int or None\n",
      "    When pretty-printing a long sequence, no more then `max_seq_items`\n",
      "    will be printed. If items are omitted, they will be denoted by the\n",
      "    addition of \"...\" to the resulting string.\n",
      "\n",
      "    If set to None, the number of items to be printed is unlimited.\n",
      "    [default: 100] [currently: 100]\n",
      "display.memory_usage : bool, string or None\n",
      "    This specifies if the memory usage of a DataFrame should be displayed when\n",
      "    df.info() is called. Valid values True,False,'deep'\n",
      "    [default: True] [currently: True]\n",
      "display.min_rows : int\n",
      "    The numbers of rows to show in a truncated view (when `max_rows` is\n",
      "    exceeded). Ignored when `max_rows` is set to None or 0. When set to\n",
      "    None, follows the value of `max_rows`.\n",
      "    [default: 10] [currently: 10]\n",
      "display.multi_sparse : boolean\n",
      "    \"sparsify\" MultiIndex display (don't display repeated\n",
      "    elements in outer levels within groups)\n",
      "    [default: True] [currently: True]\n",
      "display.notebook_repr_html : boolean\n",
      "    When True, IPython notebook will use html representation for\n",
      "    pandas objects (if it is available).\n",
      "    [default: True] [currently: True]\n",
      "display.pprint_nest_depth : int\n",
      "    Controls the number of nested levels to process when pretty-printing\n",
      "    [default: 3] [currently: 3]\n",
      "display.precision : int\n",
      "    Floating point output precision in terms of number of places after the\n",
      "    decimal, for regular formatting as well as scientific notation. Similar\n",
      "    to ``precision`` in :meth:`numpy.set_printoptions`.\n",
      "    [default: 6] [currently: 6]\n",
      "display.show_dimensions : boolean or 'truncate'\n",
      "    Whether to print out dimensions at the end of DataFrame repr.\n",
      "    If 'truncate' is specified, only print out the dimensions if the\n",
      "    frame is truncated (e.g. not display all rows and/or columns)\n",
      "    [default: truncate] [currently: truncate]\n",
      "display.unicode.ambiguous_as_wide : boolean\n",
      "    Whether to use the Unicode East Asian Width to calculate the display text\n",
      "    width.\n",
      "    Enabling this may affect to the performance (default: False)\n",
      "    [default: False] [currently: False]\n",
      "display.unicode.east_asian_width : boolean\n",
      "    Whether to use the Unicode East Asian Width to calculate the display text\n",
      "    width.\n",
      "    Enabling this may affect to the performance (default: False)\n",
      "    [default: False] [currently: False]\n",
      "display.width : int\n",
      "    Width of the display in characters. In case python/IPython is running in\n",
      "    a terminal this can be set to None and pandas will correctly auto-detect\n",
      "    the width.\n",
      "    Note that the IPython notebook, IPython qtconsole, or IDLE do not run in a\n",
      "    terminal and hence it is not possible to correctly detect the width.\n",
      "    [default: 80] [currently: 80]\n",
      "io.excel.ods.reader : string\n",
      "    The default Excel reader engine for 'ods' files. Available options:\n",
      "    auto, odf.\n",
      "    [default: auto] [currently: auto]\n",
      "io.excel.ods.writer : string\n",
      "    The default Excel writer engine for 'ods' files. Available options:\n",
      "    auto, odf.\n",
      "    [default: auto] [currently: auto]\n",
      "io.excel.xls.reader : string\n",
      "    The default Excel reader engine for 'xls' files. Available options:\n",
      "    auto, xlrd.\n",
      "    [default: auto] [currently: auto]\n",
      "io.excel.xls.writer : string\n",
      "    The default Excel writer engine for 'xls' files. Available options:\n",
      "    auto, xlwt.\n",
      "    [default: auto] [currently: auto]\n",
      "    (Deprecated, use `` instead.)\n",
      "io.excel.xlsb.reader : string\n",
      "    The default Excel reader engine for 'xlsb' files. Available options:\n",
      "    auto, pyxlsb.\n",
      "    [default: auto] [currently: auto]\n",
      "io.excel.xlsm.reader : string\n",
      "    The default Excel reader engine for 'xlsm' files. Available options:\n",
      "    auto, xlrd, openpyxl.\n",
      "    [default: auto] [currently: auto]\n",
      "io.excel.xlsm.writer : string\n",
      "    The default Excel writer engine for 'xlsm' files. Available options:\n",
      "    auto, openpyxl.\n",
      "    [default: auto] [currently: auto]\n",
      "io.excel.xlsx.reader : string\n",
      "    The default Excel reader engine for 'xlsx' files. Available options:\n",
      "    auto, xlrd, openpyxl.\n",
      "    [default: auto] [currently: auto]\n",
      "io.excel.xlsx.writer : string\n",
      "    The default Excel writer engine for 'xlsx' files. Available options:\n",
      "    auto, openpyxl, xlsxwriter.\n",
      "    [default: auto] [currently: auto]\n",
      "io.hdf.default_format : format\n",
      "    default format writing format, if None, then\n",
      "    put will default to 'fixed' and append will default to 'table'\n",
      "    [default: None] [currently: None]\n",
      "io.hdf.dropna_table : boolean\n",
      "    drop ALL nan rows when appending to a table\n",
      "    [default: False] [currently: False]\n",
      "io.parquet.engine : string\n",
      "    The default parquet reader/writer engine. Available options:\n",
      "    'auto', 'pyarrow', 'fastparquet', the default is 'auto'\n",
      "    [default: auto] [currently: auto]\n",
      "io.sql.engine : string\n",
      "    The default sql reader/writer engine. Available options:\n",
      "    'auto', 'sqlalchemy', the default is 'auto'\n",
      "    [default: auto] [currently: auto]\n",
      "mode.chained_assignment : string\n",
      "    Raise an exception, warn, or no action if trying to use chained assignment,\n",
      "    The default is warn\n",
      "    [default: warn] [currently: warn]\n",
      "mode.data_manager : string\n",
      "    Internal data manager type; can be \"block\" or \"array\". Defaults to \"block\",\n",
      "    unless overridden by the 'PANDAS_DATA_MANAGER' environment variable (needs\n",
      "    to be set before pandas is imported).\n",
      "    [default: block] [currently: block]\n",
      "mode.sim_interactive : boolean\n",
      "    Whether to simulate interactive mode for purposes of testing\n",
      "    [default: False] [currently: False]\n",
      "mode.string_storage : string\n",
      "    The default storage for StringDtype.\n",
      "    [default: python] [currently: python]\n",
      "mode.use_inf_as_na : boolean\n",
      "    True means treat None, NaN, INF, -INF as NA (old way),\n",
      "    False means None and NaN are null, but INF, -INF are not NA\n",
      "    (new way).\n",
      "    [default: False] [currently: False]\n",
      "mode.use_inf_as_null : boolean\n",
      "    use_inf_as_null had been deprecated and will be removed in a future\n",
      "    version. Use `use_inf_as_na` instead.\n",
      "    [default: False] [currently: False]\n",
      "    (Deprecated, use `mode.use_inf_as_na` instead.)\n",
      "plotting.backend : str\n",
      "    The plotting backend to use. The default value is \"matplotlib\", the\n",
      "    backend provided with pandas. Other backends can be specified by\n",
      "    providing the name of the module that implements the backend.\n",
      "    [default: matplotlib] [currently: matplotlib]\n",
      "plotting.matplotlib.register_converters : bool or 'auto'.\n",
      "    Whether to register converters with matplotlib's units registry for\n",
      "    dates, times, datetimes, and Periods. Toggling to False will remove\n",
      "    the converters, restoring any converters that pandas overwrote.\n",
      "    [default: auto] [currently: auto]\n",
      "styler.format.decimal : str\n",
      "    The character representation for the decimal separator for floats and complex.\n",
      "    [default: .] [currently: .]\n",
      "styler.format.escape : str, optional\n",
      "    Whether to escape certain characters according to the given context; html or latex.\n",
      "    [default: None] [currently: None]\n",
      "styler.format.formatter : str, callable, dict, optional\n",
      "    A formatter object to be used as default within ``Styler.format``.\n",
      "    [default: None] [currently: None]\n",
      "styler.format.na_rep : str, optional\n",
      "    The string representation for values identified as missing.\n",
      "    [default: None] [currently: None]\n",
      "styler.format.precision : int\n",
      "    The precision for floats and complex numbers.\n",
      "    [default: 6] [currently: 6]\n",
      "styler.format.thousands : str, optional\n",
      "    The character representation for thousands separator for floats, int and complex.\n",
      "    [default: None] [currently: None]\n",
      "styler.html.mathjax : bool\n",
      "    If False will render special CSS classes to table attributes that indicate Mathjax\n",
      "    will not be used in Jupyter Notebook.\n",
      "    [default: True] [currently: True]\n",
      "styler.latex.environment : str\n",
      "    The environment to replace ``\\begin{table}``. If \"longtable\" is used results\n",
      "    in a specific longtable environment format.\n",
      "    [default: None] [currently: None]\n",
      "styler.latex.hrules : bool\n",
      "    Whether to add horizontal rules on top and bottom and below the headers.\n",
      "    [default: False] [currently: False]\n",
      "styler.latex.multicol_align : {\"r\", \"c\", \"l\", \"naive-l\", \"naive-r\"}\n",
      "    The specifier for horizontal alignment of sparsified LaTeX multicolumns. Pipe\n",
      "    decorators can also be added to non-naive values to draw vertical\n",
      "    rules, e.g. \"\\|r\" will draw a rule on the left side of right aligned merged cells.\n",
      "    [default: r] [currently: r]\n",
      "styler.latex.multirow_align : {\"c\", \"t\", \"b\"}\n",
      "    The specifier for vertical alignment of sparsified LaTeX multirows.\n",
      "    [default: c] [currently: c]\n",
      "styler.render.encoding : str\n",
      "    The encoding used for output HTML and LaTeX files.\n",
      "    [default: utf-8] [currently: utf-8]\n",
      "styler.render.max_columns : int, optional\n",
      "    The maximum number of columns that will be rendered. May still be reduced to\n",
      "    satsify ``max_elements``, which takes precedence.\n",
      "    [default: None] [currently: None]\n",
      "styler.render.max_elements : int\n",
      "    The maximum number of data-cell (<td>) elements that will be rendered before\n",
      "    trimming will occur over columns, rows or both if needed.\n",
      "    [default: 262144] [currently: 262144]\n",
      "styler.render.max_rows : int, optional\n",
      "    The maximum number of rows that will be rendered. May still be reduced to\n",
      "    satsify ``max_elements``, which takes precedence.\n",
      "    [default: None] [currently: None]\n",
      "styler.render.repr : str\n",
      "    Determine which output to use in Jupyter Notebook in {\"html\", \"latex\"}.\n",
      "    [default: html] [currently: html]\n",
      "styler.sparse.columns : bool\n",
      "    Whether to sparsify the display of hierarchical columns. Setting to False will\n",
      "    display each explicit level element in a hierarchical key for each column.\n",
      "    [default: True] [currently: True]\n",
      "styler.sparse.index : bool\n",
      "    Whether to sparsify the display of a hierarchical index. Setting to False will\n",
      "    display each explicit level element in a hierarchical key for each row.\n",
      "    [default: True] [currently: True]\n"
     ]
    }
   ],
   "source": [
    "# verificando todas as opções de configurações disponíveis\n",
    "pd.describe_option()"
   ]
  },
  {
   "cell_type": "code",
   "execution_count": 68,
   "metadata": {
    "id": "Gptfp9ygevgS"
   },
   "outputs": [],
   "source": [
    "# Setando configurações\n",
    "pd.set_option(\"display.max_columns\", 1000)"
   ]
  },
  {
   "cell_type": "code",
   "execution_count": 69,
   "metadata": {
    "id": "QIif0CPGevgS"
   },
   "outputs": [],
   "source": [
    "pd.set_option(\"display.max_rows\", 30)"
   ]
  },
  {
   "cell_type": "markdown",
   "metadata": {
    "id": "43QYxdBWevgT"
   },
   "source": [
    "## Carregando os dados"
   ]
  },
  {
   "cell_type": "markdown",
   "metadata": {
    "id": "votr38ZYevgT"
   },
   "source": [
    "### Arquivos JSON - `read_json`\n",
    "\n",
    "[Documentação](https://pandas.pydata.org/pandas-docs/stable/reference/api/pandas.read_json.html)\n",
    "\n",
    "## JSON\n",
    "\n",
    "JSON (**J**ava**S**cript **O**bject **N**otation - Notação de Objetos JavaScript) é uma formatação leve de troca de dados. Para seres humanos, é fácil de ler e escrever. Para máquinas, é fácil de interpretar e gerar. Está baseado em um subconjunto da linguagem de programação JavaScript, Standard ECMA-262 3a Edição - Dezembro - 1999. JSON é em formato texto e completamente independente de linguagem, pois usa convenções que são familiares às linguagens C e familiares, incluindo C++, C#, Java, JavaScript, Perl, Python e muitas outras. Estas propriedades fazem com que JSON seja um formato ideal de troca de dados.\n",
    "\n",
    "[fonte](https://www.json.org/json-pt.html)\n",
    "\n",
    "[Online JSON Viewer](http://jsonviewer.stack.hu/)"
   ]
  },
  {
   "cell_type": "code",
   "execution_count": 70,
   "metadata": {
    "id": "mqhtwsPSevgU"
   },
   "outputs": [
    {
     "data": {
      "text/plain": [
       "'{\"A\": [1, 2, 3, 4], \"B\": [5, 6, 7, 8], \"C\": [9, 10, 11, 12]}'"
      ]
     },
     "execution_count": 70,
     "metadata": {},
     "output_type": "execute_result"
    }
   ],
   "source": [
    "data_json = '{\"A\": [1, 2, 3, 4], \"B\": [5, 6, 7, 8], \"C\": [9, 10, 11, 12]}'\n",
    "data_json"
   ]
  },
  {
   "cell_type": "code",
   "execution_count": 71,
   "metadata": {
    "id": "9QbVDt0LevgU"
   },
   "outputs": [
    {
     "data": {
      "text/html": [
       "<div>\n",
       "<style scoped>\n",
       "    .dataframe tbody tr th:only-of-type {\n",
       "        vertical-align: middle;\n",
       "    }\n",
       "\n",
       "    .dataframe tbody tr th {\n",
       "        vertical-align: top;\n",
       "    }\n",
       "\n",
       "    .dataframe thead th {\n",
       "        text-align: right;\n",
       "    }\n",
       "</style>\n",
       "<table border=\"1\" class=\"dataframe\">\n",
       "  <thead>\n",
       "    <tr style=\"text-align: right;\">\n",
       "      <th></th>\n",
       "      <th>A</th>\n",
       "      <th>B</th>\n",
       "      <th>C</th>\n",
       "    </tr>\n",
       "  </thead>\n",
       "  <tbody>\n",
       "    <tr>\n",
       "      <th>0</th>\n",
       "      <td>1</td>\n",
       "      <td>5</td>\n",
       "      <td>9</td>\n",
       "    </tr>\n",
       "    <tr>\n",
       "      <th>1</th>\n",
       "      <td>2</td>\n",
       "      <td>6</td>\n",
       "      <td>10</td>\n",
       "    </tr>\n",
       "    <tr>\n",
       "      <th>2</th>\n",
       "      <td>3</td>\n",
       "      <td>7</td>\n",
       "      <td>11</td>\n",
       "    </tr>\n",
       "    <tr>\n",
       "      <th>3</th>\n",
       "      <td>4</td>\n",
       "      <td>8</td>\n",
       "      <td>12</td>\n",
       "    </tr>\n",
       "  </tbody>\n",
       "</table>\n",
       "</div>"
      ],
      "text/plain": [
       "   A  B   C\n",
       "0  1  5   9\n",
       "1  2  6  10\n",
       "2  3  7  11\n",
       "3  4  8  12"
      ]
     },
     "execution_count": 71,
     "metadata": {},
     "output_type": "execute_result"
    }
   ],
   "source": [
    "dados = pd.read_json(\n",
    "    path_or_buf=data_json,\n",
    "    orient='columns'\n",
    ")\n",
    "dados"
   ]
  },
  {
   "cell_type": "code",
   "execution_count": 72,
   "metadata": {
    "id": "FU7LgMbAevgU"
   },
   "outputs": [
    {
     "data": {
      "text/html": [
       "<div>\n",
       "<style scoped>\n",
       "    .dataframe tbody tr th:only-of-type {\n",
       "        vertical-align: middle;\n",
       "    }\n",
       "\n",
       "    .dataframe tbody tr th {\n",
       "        vertical-align: top;\n",
       "    }\n",
       "\n",
       "    .dataframe thead th {\n",
       "        text-align: right;\n",
       "    }\n",
       "</style>\n",
       "<table border=\"1\" class=\"dataframe\">\n",
       "  <thead>\n",
       "    <tr style=\"text-align: right;\">\n",
       "      <th></th>\n",
       "      <th>0</th>\n",
       "      <th>1</th>\n",
       "      <th>2</th>\n",
       "      <th>3</th>\n",
       "    </tr>\n",
       "  </thead>\n",
       "  <tbody>\n",
       "    <tr>\n",
       "      <th>A</th>\n",
       "      <td>1</td>\n",
       "      <td>2</td>\n",
       "      <td>3</td>\n",
       "      <td>4</td>\n",
       "    </tr>\n",
       "    <tr>\n",
       "      <th>B</th>\n",
       "      <td>5</td>\n",
       "      <td>6</td>\n",
       "      <td>7</td>\n",
       "      <td>8</td>\n",
       "    </tr>\n",
       "    <tr>\n",
       "      <th>C</th>\n",
       "      <td>9</td>\n",
       "      <td>10</td>\n",
       "      <td>11</td>\n",
       "      <td>12</td>\n",
       "    </tr>\n",
       "  </tbody>\n",
       "</table>\n",
       "</div>"
      ],
      "text/plain": [
       "   0   1   2   3\n",
       "A  1   2   3   4\n",
       "B  5   6   7   8\n",
       "C  9  10  11  12"
      ]
     },
     "execution_count": 72,
     "metadata": {},
     "output_type": "execute_result"
    }
   ],
   "source": [
    "dados = pd.read_json(\n",
    "    path_or_buf=data_json,\n",
    "    orient='index'\n",
    ")\n",
    "dados"
   ]
  },
  {
   "cell_type": "code",
   "execution_count": 73,
   "metadata": {
    "id": "xqMteeCFevgU"
   },
   "outputs": [
    {
     "data": {
      "text/html": [
       "<div>\n",
       "<style scoped>\n",
       "    .dataframe tbody tr th:only-of-type {\n",
       "        vertical-align: middle;\n",
       "    }\n",
       "\n",
       "    .dataframe tbody tr th {\n",
       "        vertical-align: top;\n",
       "    }\n",
       "\n",
       "    .dataframe thead th {\n",
       "        text-align: right;\n",
       "    }\n",
       "</style>\n",
       "<table border=\"1\" class=\"dataframe\">\n",
       "  <thead>\n",
       "    <tr style=\"text-align: right;\">\n",
       "      <th></th>\n",
       "      <th>normal</th>\n",
       "      <th>highlights</th>\n",
       "    </tr>\n",
       "  </thead>\n",
       "  <tbody>\n",
       "    <tr>\n",
       "      <th>output</th>\n",
       "      <td>{'listings': [{'imovel': {'tipos': {'proprieda...</td>\n",
       "      <td>{'listings': [{'imovel': {'tipos': {'proprieda...</td>\n",
       "    </tr>\n",
       "  </tbody>\n",
       "</table>\n",
       "</div>"
      ],
      "text/plain": [
       "                                                   normal  \\\n",
       "output  {'listings': [{'imovel': {'tipos': {'proprieda...   \n",
       "\n",
       "                                               highlights  \n",
       "output  {'listings': [{'imovel': {'tipos': {'proprieda...  "
      ]
     },
     "execution_count": 73,
     "metadata": {},
     "output_type": "execute_result"
    }
   ],
   "source": [
    "dados = pd.read_json(\n",
    "    path_or_buf='data/realestates.json',\n",
    "    orient='columns'\n",
    ")\n",
    "dados"
   ]
  },
  {
   "cell_type": "markdown",
   "metadata": {
    "id": "Q0coCxxrevgU"
   },
   "source": [
    "### Arquivos EXCEL - `read_excel`\n",
    "\n",
    "[Documentação](https://pandas.pydata.org/pandas-docs/stable/reference/api/pandas.read_excel.html)"
   ]
  },
  {
   "cell_type": "code",
   "execution_count": 74,
   "metadata": {
    "id": "xoSV41cTevgV",
    "scrolled": true
   },
   "outputs": [
    {
     "data": {
      "text/html": [
       "<div>\n",
       "<style scoped>\n",
       "    .dataframe tbody tr th:only-of-type {\n",
       "        vertical-align: middle;\n",
       "    }\n",
       "\n",
       "    .dataframe tbody tr th {\n",
       "        vertical-align: top;\n",
       "    }\n",
       "\n",
       "    .dataframe thead th {\n",
       "        text-align: right;\n",
       "    }\n",
       "</style>\n",
       "<table border=\"1\" class=\"dataframe\">\n",
       "  <thead>\n",
       "    <tr style=\"text-align: right;\">\n",
       "      <th></th>\n",
       "      <th></th>\n",
       "      <th>valor_m2_bairro</th>\n",
       "    </tr>\n",
       "    <tr>\n",
       "      <th>bairros</th>\n",
       "      <th>tipo</th>\n",
       "      <th></th>\n",
       "    </tr>\n",
       "  </thead>\n",
       "  <tbody>\n",
       "    <tr>\n",
       "      <th rowspan=\"5\" valign=\"top\">São Cristóvão</th>\n",
       "      <th>Casa</th>\n",
       "      <td>13793</td>\n",
       "    </tr>\n",
       "    <tr>\n",
       "      <th>Apartamento</th>\n",
       "      <td>6306</td>\n",
       "    </tr>\n",
       "    <tr>\n",
       "      <th>Cobertura</th>\n",
       "      <td>11695</td>\n",
       "    </tr>\n",
       "    <tr>\n",
       "      <th>Consultório</th>\n",
       "      <td>6991</td>\n",
       "    </tr>\n",
       "    <tr>\n",
       "      <th>Imóvel Comercial</th>\n",
       "      <td>19633</td>\n",
       "    </tr>\n",
       "    <tr>\n",
       "      <th>...</th>\n",
       "      <th>...</th>\n",
       "      <td>...</td>\n",
       "    </tr>\n",
       "    <tr>\n",
       "      <th rowspan=\"5\" valign=\"top\">Vista Alegre</th>\n",
       "      <th>Cobertura</th>\n",
       "      <td>16567</td>\n",
       "    </tr>\n",
       "    <tr>\n",
       "      <th>Consultório</th>\n",
       "      <td>5812</td>\n",
       "    </tr>\n",
       "    <tr>\n",
       "      <th>Imóvel Comercial</th>\n",
       "      <td>12895</td>\n",
       "    </tr>\n",
       "    <tr>\n",
       "      <th>Loja</th>\n",
       "      <td>6182</td>\n",
       "    </tr>\n",
       "    <tr>\n",
       "      <th>Sala Comercial</th>\n",
       "      <td>3377</td>\n",
       "    </tr>\n",
       "  </tbody>\n",
       "</table>\n",
       "<p>1127 rows × 1 columns</p>\n",
       "</div>"
      ],
      "text/plain": [
       "                                valor_m2_bairro\n",
       "bairros       tipo                             \n",
       "São Cristóvão Casa                        13793\n",
       "              Apartamento                  6306\n",
       "              Cobertura                   11695\n",
       "              Consultório                  6991\n",
       "              Imóvel Comercial            19633\n",
       "...                                         ...\n",
       "Vista Alegre  Cobertura                   16567\n",
       "              Consultório                  5812\n",
       "              Imóvel Comercial            12895\n",
       "              Loja                         6182\n",
       "              Sala Comercial               3377\n",
       "\n",
       "[1127 rows x 1 columns]"
      ]
     },
     "execution_count": 74,
     "metadata": {},
     "output_type": "execute_result"
    }
   ],
   "source": [
    "bairros = pd.read_excel(\n",
    "    io = 'data/bairros.xlsx',\n",
    "    sheet_name='Preço médio por tipo',\n",
    "    usecols='C:E',\n",
    "    header=2,\n",
    "    index_col=[0, 1],\n",
    "    names=['bairros', 'tipo', 'valor_m2_bairro']\n",
    ")\n",
    "bairros"
   ]
  },
  {
   "cell_type": "markdown",
   "metadata": {
    "id": "A05bkoTPevgV"
   },
   "source": [
    "# TRANSFORMANDO E TRATANDO OS DADOS\n",
    "---"
   ]
  },
  {
   "cell_type": "markdown",
   "metadata": {
    "id": "Wy7HvxaZevgV"
   },
   "source": [
    "## Transformando dados no formato JSON para uma tabela"
   ]
  },
  {
   "cell_type": "code",
   "execution_count": 75,
   "metadata": {
    "id": "g0533aVtevgV"
   },
   "outputs": [
    {
     "data": {
      "text/html": [
       "<div>\n",
       "<style scoped>\n",
       "    .dataframe tbody tr th:only-of-type {\n",
       "        vertical-align: middle;\n",
       "    }\n",
       "\n",
       "    .dataframe tbody tr th {\n",
       "        vertical-align: top;\n",
       "    }\n",
       "\n",
       "    .dataframe thead th {\n",
       "        text-align: right;\n",
       "    }\n",
       "</style>\n",
       "<table border=\"1\" class=\"dataframe\">\n",
       "  <thead>\n",
       "    <tr style=\"text-align: right;\">\n",
       "      <th></th>\n",
       "      <th>normal</th>\n",
       "      <th>highlights</th>\n",
       "    </tr>\n",
       "  </thead>\n",
       "  <tbody>\n",
       "    <tr>\n",
       "      <th>output</th>\n",
       "      <td>{'listings': [{'imovel': {'tipos': {'proprieda...</td>\n",
       "      <td>{'listings': [{'imovel': {'tipos': {'proprieda...</td>\n",
       "    </tr>\n",
       "  </tbody>\n",
       "</table>\n",
       "</div>"
      ],
      "text/plain": [
       "                                                   normal  \\\n",
       "output  {'listings': [{'imovel': {'tipos': {'proprieda...   \n",
       "\n",
       "                                               highlights  \n",
       "output  {'listings': [{'imovel': {'tipos': {'proprieda...  "
      ]
     },
     "execution_count": 75,
     "metadata": {},
     "output_type": "execute_result"
    }
   ],
   "source": [
    "dados"
   ]
  },
  {
   "cell_type": "markdown",
   "metadata": {
    "id": "bLn7laG1evgV"
   },
   "source": [
    "### `json_normalize`\n",
    "\n",
    "[Documentação](https://pandas.pydata.org/pandas-docs/stable/reference/api/pandas.json_normalize.html)"
   ]
  },
  {
   "cell_type": "code",
   "execution_count": 76,
   "metadata": {
    "id": "NqBTVXNKevgW"
   },
   "outputs": [
    {
     "data": {
      "text/html": [
       "<div>\n",
       "<style scoped>\n",
       "    .dataframe tbody tr th:only-of-type {\n",
       "        vertical-align: middle;\n",
       "    }\n",
       "\n",
       "    .dataframe tbody tr th {\n",
       "        vertical-align: top;\n",
       "    }\n",
       "\n",
       "    .dataframe thead th {\n",
       "        text-align: right;\n",
       "    }\n",
       "</style>\n",
       "<table border=\"1\" class=\"dataframe\">\n",
       "  <thead>\n",
       "    <tr style=\"text-align: right;\">\n",
       "      <th></th>\n",
       "      <th>listings</th>\n",
       "    </tr>\n",
       "  </thead>\n",
       "  <tbody>\n",
       "    <tr>\n",
       "      <th>0</th>\n",
       "      <td>[{'imovel': {'tipos': {'propriedade': 'Casa'},...</td>\n",
       "    </tr>\n",
       "  </tbody>\n",
       "</table>\n",
       "</div>"
      ],
      "text/plain": [
       "                                            listings\n",
       "0  [{'imovel': {'tipos': {'propriedade': 'Casa'},..."
      ]
     },
     "execution_count": 76,
     "metadata": {},
     "output_type": "execute_result"
    }
   ],
   "source": [
    "dados_normal = pd.json_normalize(data=dados.normal)\n",
    "dados_normal"
   ]
  },
  {
   "cell_type": "code",
   "execution_count": 77,
   "metadata": {
    "id": "Tq_44heHevgW"
   },
   "outputs": [
    {
     "data": {
      "text/plain": [
       "[{'imovel': {'tipos': {'propriedade': 'Casa'},\n",
       "   'endereco': {'bairro': 'Barra da Tijuca',\n",
       "    'localizacao': {'type': 'Point',\n",
       "     'coordinates': [-43.3039086, -23.0139692]}},\n",
       "   'vagasGaragem': 4,\n",
       "   'area': 279,\n",
       "   'caracteristicas': {'propriedade': \"['Área de Serviço', 'Terraço', 'Churrasqueira', 'Quarto/WC Empregada', 'Sauna', 'Varanda', 'Gás Encanado', 'Closet', 'Piscina', 'Mobiliado', 'Armários Planejados', 'Acessibilidade']\",\n",
       "    'condominio': \"['Churrasqueira', 'Salão de Jogos', 'Sauna', 'Estacionamento Visitantes', 'Playground', 'Salão de Festas', 'Porteiro 24 Horas', 'Estacionamento Coberto', 'Aceita Pet', 'Sistema de Incêndio', 'Segurança Interna', 'Bicicletário', 'Acessibilidade']\",\n",
       "    'entorno': \"['Próximo a Escola Particular', 'Próximo ao Metrô', 'Próximo a Serviços de Saúde', 'Próximo a Centro Empresarial', 'Próximo a Restaurante', 'Próximo a Academia', 'Próximo a Praia', 'Próximo a Escola Pública', 'Próximo a Farmácia', 'Próximo a Parques e Áreas Verdes', 'Próximo ao Shopping', 'Próximo a Áreas de Lazer', 'Próximo a Mercado', 'Próximo a Comércio Diversos']\"}},\n",
       "  'anuncio': {'tipos': {'publicacao': 'Padrão', 'listagem': 'Lançamento'},\n",
       "   'valores': {'venda': 2400000.0,\n",
       "    'aluguel': 0.0,\n",
       "    'condominio': 790.0,\n",
       "    'iptu': 5700.0},\n",
       "   'descricao': 'Amplo imóvel para venda com 3 quartos, sendo 1 suítes, e 2 banheiros no total.'}},\n",
       " {'imovel': {'tipos': {'propriedade': 'Apartamento'},\n",
       "   'endereco': {'bairro': 'Campo Grande',\n",
       "    'localizacao': {'type': 'Point', 'coordinates': [0, 0]}},\n",
       "   'vagasGaragem': 1,\n",
       "   'area': 60,\n",
       "   'caracteristicas': {'propriedade': \"['Sauna']\",\n",
       "    'condominio': \"['Elevador', 'Playground', 'Salão de Festas', 'Sistema de Incêndio', 'Salão de Jogos', 'Depósito Privativo', 'Porteiro 24 Horas', 'Academia', 'Churrasqueira', 'Quadra Poliesportiva']\",\n",
       "    'entorno': \"['Próximo ao Shopping', 'Próximo a Áreas de Lazer', 'Próximo a Restaurante', 'Próximo a Farmácia', 'Próximo a Academia', 'Próximo a Mercado', 'Próximo a Comércio Diversos', 'Próximo a Centro Empresarial']\"}},\n",
       "  'anuncio': {'tipos': {'publicacao': 'Padrão', 'listagem': 'Usado'},\n",
       "   'valores': {'venda': 200000.0,\n",
       "    'aluguel': 0.0,\n",
       "    'condominio': 0.0,\n",
       "    'iptu': 0.0},\n",
       "   'descricao': 'Amplo imóvel para venda com 2 quartos, sendo 0 suítes, e 1 banheiros no total.'}},\n",
       " {'imovel': {'tipos': {'propriedade': 'Cobertura'},\n",
       "   'endereco': {'bairro': 'Barra da Tijuca',\n",
       "    'localizacao': {'type': 'Point',\n",
       "     'coordinates': [-43.3037186, -22.9951304]}},\n",
       "   'vagasGaragem': 2,\n",
       "   'area': 380,\n",
       "   'caracteristicas': {'propriedade': \"['Acessibilidade', 'Área de Serviço', 'Sauna', 'Ambientes Integrados', 'Gás Encanado', 'Vista Panorâmica', 'Varanda', 'Closet', 'Quarto/WC Empregada', 'Churrasqueira', 'Piscina']\",\n",
       "    'condominio': \"['Sauna', 'Playground', 'Quadra Poliesportiva', 'Salão de Festas', 'Serviço de Transporte no Condomínio', 'Sistema de Incêndio', 'Salão de Jogos', 'Piscina', 'Aceita Pet']\",\n",
       "    'entorno': \"['Próximo a Escola Particular']\"}},\n",
       "  'anuncio': {'tipos': {'publicacao': 'Premium', 'listagem': 'Usado'},\n",
       "   'valores': {'venda': 4400000.0,\n",
       "    'aluguel': 0.0,\n",
       "    'condominio': 1200.0,\n",
       "    'iptu': 850.0},\n",
       "   'descricao': 'Amplo imóvel para venda com 5 quartos, sendo 4 suítes, e 5 banheiros no total.'}},\n",
       " {'imovel': {'tipos': {'propriedade': 'Cobertura'},\n",
       "   'endereco': {'bairro': 'Barra da Tijuca',\n",
       "    'localizacao': {'type': 'Point',\n",
       "     'coordinates': [-43.3548121, -23.0097423]}},\n",
       "   'vagasGaragem': 1,\n",
       "   'area': 73,\n",
       "   'caracteristicas': {'propriedade': \"['Vista Panorâmica', 'Piscina', 'Sauna', 'Closet', 'Mobiliado', 'Armários Planejados', 'Área de Serviço', 'Churrasqueira', 'Varanda']\",\n",
       "    'condominio': \"['Quadra Poliesportiva', 'Aceita Pet', 'Playground', 'Academia', 'Sauna', 'Depósito Privativo', 'Bicicletário', 'Salão de Jogos', 'Estacionamento Visitantes', 'Segurança Interna', 'Comércio/Serviços no Condomínio', 'Churrasqueira', 'Porteiro 24 Horas']\",\n",
       "    'entorno': \"['Próximo a Farmácia', 'Próximo a Academia', 'Próximo a Restaurante', 'Próximo ao Shopping', 'Próximo a Áreas de Lazer', 'Próximo a Escola Pública']\"}},\n",
       "  'anuncio': {'tipos': {'publicacao': 'Padrão', 'listagem': 'Usado'},\n",
       "   'valores': {'venda': 1100000.0,\n",
       "    'aluguel': 0.0,\n",
       "    'condominio': 1300.0,\n",
       "    'iptu': 364.0},\n",
       "   'descricao': 'Amplo imóvel para venda com 2 quartos, sendo 1 suítes, e 2 banheiros no total.'}},\n",
       " {'imovel': {'tipos': {'propriedade': 'Sala Comercial'},\n",
       "   'endereco': {'bairro': 'Glória',\n",
       "    'localizacao': {'type': 'Point',\n",
       "     'coordinates': [-43.1779703, -22.9174894]}},\n",
       "   'vagasGaragem': 1,\n",
       "   'area': 32,\n",
       "   'caracteristicas': {'propriedade': \"['Armários Planejados']\",\n",
       "    'condominio': \"['Quadra Poliesportiva', 'Porteiro 24 Horas', 'Elevador', 'Comércio/Serviços no Condomínio', 'Serviço de Transporte no Condomínio', 'Depósito Privativo', 'Bicicletário']\",\n",
       "    'entorno': \"['Próximo a Centro Empresarial', 'Próximo a Áreas de Lazer', 'Próximo a Escola Particular', 'Próximo a Escola Pública', 'Próximo a Comércio Diversos', 'Próximo a Farmácia', 'Próximo a Restaurante']\"}},\n",
       "  'anuncio': {'tipos': {'publicacao': 'Padrão', 'listagem': 'Usado'},\n",
       "   'valores': {'venda': 260000.0,\n",
       "    'aluguel': 0.0,\n",
       "    'condominio': 450.0,\n",
       "    'iptu': 800.0},\n",
       "   'descricao': 'Amplo imóvel para venda com 0 quartos, sendo 0 suítes, e 1 banheiros no total.'}},\n",
       " {'imovel': {'tipos': {'propriedade': 'Casa'},\n",
       "   'endereco': {'bairro': 'Vila Isabel',\n",
       "    'localizacao': {'type': 'Point', 'coordinates': [0, 0]}},\n",
       "   'vagasGaragem': 2,\n",
       "   'area': 164,\n",
       "   'caracteristicas': {'propriedade': \"['Mobiliado', 'Varanda', 'Closet', 'Churrasqueira', 'Ambientes Integrados', 'Acessibilidade']\",\n",
       "    'condominio': \"['Aceita Pet', 'Quadra Poliesportiva', 'Playground', 'Piscina', 'Sauna', 'Segurança Interna', 'Serviço de Transporte no Condomínio', 'Salão de Festas', 'Churrasqueira', 'Estacionamento Coberto', 'Estacionamento Visitantes', 'Sistema de Incêndio', 'Academia', 'Porteiro 24 Horas', 'Bicicletário', 'Depósito Privativo', 'Salão de Jogos']\",\n",
       "    'entorno': \"['Próximo a Centro Empresarial', 'Próximo a Escola Particular', 'Próximo a Praia', 'Próximo a Mercado', 'Próximo ao Shopping', 'Próximo a Áreas de Lazer', 'Próximo a Farmácia']\"}},\n",
       "  'anuncio': {'tipos': {'publicacao': 'Padrão', 'listagem': 'Lançamento'},\n",
       "   'valores': {'venda': 280000.0,\n",
       "    'aluguel': 0.0,\n",
       "    'condominio': 583.0,\n",
       "    'iptu': 188.0},\n",
       "   'descricao': 'Amplo imóvel para venda com 1 quartos, sendo 0 suítes, e 0 banheiros no total.'}},\n",
       " {'imovel': {'tipos': {'propriedade': 'Casa'},\n",
       "   'endereco': {'bairro': 'Andaraí',\n",
       "    'localizacao': {'type': 'Point',\n",
       "     'coordinates': [-43.252201188, -22.9282608539]}},\n",
       "   'vagasGaragem': 1,\n",
       "   'area': 68,\n",
       "   'caracteristicas': {'propriedade': \"['Churrasqueira', 'Gás Encanado', 'Cozinha Americana', 'Área de Serviço', 'Quarto/WC Empregada', 'Mobiliado', 'Acessibilidade', 'Vista Panorâmica', 'Closet', 'Piscina', 'Ambientes Integrados', 'Terraço']\",\n",
       "    'condominio': \"['Sauna', 'Sistema de Incêndio', 'Estacionamento Visitantes', 'Playground', 'Comércio/Serviços no Condomínio', 'Quadra Poliesportiva', 'Bicicletário', 'Estacionamento Coberto', 'Academia', 'Segurança Interna', 'Depósito Privativo']\",\n",
       "    'entorno': \"['Próximo ao Metrô', 'Próximo ao Shopping', 'Próximo a Restaurante', 'Próximo a Serviços de Saúde', 'Próximo a Escola Particular', 'Próximo a Comércio Diversos', 'Próximo a Praia', 'Próximo a Farmácia', 'Próximo a Mercado', 'Próximo a Parques e Áreas Verdes', 'Próximo a Academia', 'Próximo a Escola Pública']\"}},\n",
       "  'anuncio': {'tipos': {'publicacao': 'Destaque', 'listagem': 'Usado'},\n",
       "   'valores': {'venda': 300000.0,\n",
       "    'aluguel': 0.0,\n",
       "    'condominio': 350.0,\n",
       "    'iptu': 0.0},\n",
       "   'descricao': 'Amplo imóvel para venda com 2 quartos, sendo 0 suítes, e 1 banheiros no total.'}},\n",
       " {'imovel': {'tipos': {'propriedade': 'Apartamento'},\n",
       "   'endereco': {'bairro': 'Copacabana',\n",
       "    'localizacao': {'type': 'Point',\n",
       "     'coordinates': [-43.1749613, -22.964604]}},\n",
       "   'vagasGaragem': 1,\n",
       "   'area': 110,\n",
       "   'caracteristicas': {'propriedade': \"['Quarto/WC Empregada', 'Gás Encanado', 'Sauna', 'Varanda', 'Vista Panorâmica', 'Closet', 'Acessibilidade', 'Terraço', 'Piscina', 'Ambientes Integrados', 'Cozinha Americana', 'Área de Serviço']\",\n",
       "    'condominio': \"['Piscina', 'Comércio/Serviços no Condomínio', 'Segurança Interna', 'Sauna', 'Porteiro 24 Horas', 'Acessibilidade', 'Salão de Jogos', 'Playground', 'Salão de Festas']\",\n",
       "    'entorno': \"['Próximo a Escola Particular', 'Próximo a Comércio Diversos', 'Próximo a Áreas de Lazer', 'Próximo a Praia', 'Próximo a Mercado', 'Próximo a Escola Pública', 'Próximo a Restaurante', 'Próximo a Parques e Áreas Verdes', 'Próximo ao Shopping', 'Próximo a Farmácia']\"}},\n",
       "  'anuncio': {'tipos': {'publicacao': 'Premium', 'listagem': 'Usado'},\n",
       "   'valores': {'venda': 950000.0,\n",
       "    'aluguel': 0.0,\n",
       "    'condominio': 800.0,\n",
       "    'iptu': 120.0},\n",
       "   'descricao': 'Amplo imóvel para venda com 3 quartos, sendo 1 suítes, e 2 banheiros no total.'}},\n",
       " {'imovel': {'tipos': {'propriedade': 'Consultório'},\n",
       "   'endereco': {'bairro': 'Recreio dos Bandeirantes',\n",
       "    'localizacao': {'type': 'Point',\n",
       "     'coordinates': [-43.453754, -23.0102127]}},\n",
       "   'vagasGaragem': 4,\n",
       "   'area': 214,\n",
       "   'caracteristicas': {'propriedade': \"['Acessibilidade', 'Mobiliado', 'Churrasqueira', 'Piscina', 'Armários Planejados', 'Quarto/WC Empregada', 'Ambientes Integrados', 'Sauna', 'Área de Serviço', 'Cozinha Americana', 'Terraço', 'Gás Encanado', 'Varanda']\",\n",
       "    'condominio': \"['Aceita Pet', 'Salão de Festas', 'Sauna', 'Depósito Privativo', 'Estacionamento Coberto', 'Sistema de Incêndio', 'Academia', 'Piscina', 'Estacionamento Visitantes', 'Acessibilidade']\",\n",
       "    'entorno': \"['Próximo a Mercado', 'Próximo a Farmácia']\"}},\n",
       "  'anuncio': {'tipos': {'publicacao': 'Super Destaque', 'listagem': 'Usado'},\n",
       "   'valores': {'venda': 1390000.0,\n",
       "    'aluguel': 0.0,\n",
       "    'condominio': 750.0,\n",
       "    'iptu': 3282.0},\n",
       "   'descricao': 'Amplo imóvel para venda com 4 quartos, sendo 1 suítes, e 2 banheiros no total.'}},\n",
       " {'imovel': {'tipos': {'propriedade': 'Casa'},\n",
       "   'endereco': {'bairro': 'Recreio dos Bandeirantes',\n",
       "    'localizacao': {'type': 'Point',\n",
       "     'coordinates': [-43.5129166, -23.0241139]}},\n",
       "   'vagasGaragem': 1,\n",
       "   'area': 82,\n",
       "   'caracteristicas': {'propriedade': \"['Área de Serviço', 'Terraço', 'Ambientes Integrados', 'Cozinha Americana', 'Gás Encanado', 'Acessibilidade', 'Closet', 'Varanda']\",\n",
       "    'condominio': \"['Piscina', 'Salão de Festas', 'Estacionamento Visitantes', 'Salão de Jogos', 'Academia', 'Sistema de Incêndio', 'Porteiro 24 Horas', 'Segurança Interna', 'Churrasqueira', 'Bicicletário', 'Serviço de Transporte no Condomínio', 'Elevador', 'Estacionamento Coberto', 'Depósito Privativo', 'Quadra Poliesportiva', 'Acessibilidade']\",\n",
       "    'entorno': \"['Próximo ao Metrô', 'Próximo a Comércio Diversos', 'Próximo a Áreas de Lazer']\"}},\n",
       "  'anuncio': {'tipos': {'publicacao': 'Padrão', 'listagem': 'Usado'},\n",
       "   'valores': {'venda': 439000.0,\n",
       "    'aluguel': 0.0,\n",
       "    'condominio': 620.0,\n",
       "    'iptu': 1.0},\n",
       "   'descricao': 'Amplo imóvel para venda com 3 quartos, sendo 1 suítes, e 2 banheiros no total.'}},\n",
       " {'imovel': {'tipos': {'propriedade': 'Casa'},\n",
       "   'endereco': {'bairro': 'Tijuca',\n",
       "    'localizacao': {'type': 'Point', 'coordinates': [-43.2369414, -22.93291]}},\n",
       "   'vagasGaragem': 2,\n",
       "   'area': 230,\n",
       "   'caracteristicas': {'propriedade': \"['Closet', 'Ambientes Integrados', 'Área de Serviço', 'Terraço']\",\n",
       "    'condominio': \"['Segurança Interna', 'Piscina', 'Salão de Jogos']\",\n",
       "    'entorno': \"['Próximo a Centro Empresarial', 'Próximo a Escola Particular', 'Próximo a Parques e Áreas Verdes', 'Próximo a Escola Pública', 'Próximo a Mercado', 'Próximo a Restaurante', 'Próximo a Academia', 'Próximo a Serviços de Saúde', 'Próximo a Áreas de Lazer', 'Próximo a Farmácia']\"}},\n",
       "  'anuncio': {'tipos': {'publicacao': 'Destaque', 'listagem': 'Lançamento'},\n",
       "   'valores': {'venda': 960000.0,\n",
       "    'aluguel': 0.0,\n",
       "    'condominio': 680.0,\n",
       "    'iptu': 900.0},\n",
       "   'descricao': 'Amplo imóvel para venda com 3 quartos, sendo 0 suítes, e 0 banheiros no total.'}},\n",
       " {'imovel': {'tipos': {'propriedade': 'Apartamento'},\n",
       "   'endereco': {'bairro': 'Copacabana',\n",
       "    'localizacao': {'type': 'Point',\n",
       "     'coordinates': [-49.0607072, -26.9225117]}},\n",
       "   'vagasGaragem': 1,\n",
       "   'area': 135,\n",
       "   'caracteristicas': {'propriedade': '[]',\n",
       "    'condominio': \"['Bicicletário']\",\n",
       "    'entorno': \"['Próximo a Farmácia', 'Próximo a Áreas de Lazer', 'Próximo a Escola Pública', 'Próximo ao Metrô', 'Próximo a Academia', 'Próximo a Serviços de Saúde', 'Próximo a Mercado', 'Próximo a Escola Particular', 'Próximo a Comércio Diversos', 'Próximo a Restaurante']\"}},\n",
       "  'anuncio': {'tipos': {'publicacao': 'Padrão', 'listagem': 'Usado'},\n",
       "   'valores': {'venda': 1080000.0,\n",
       "    'aluguel': 0.0,\n",
       "    'condominio': 1000.0,\n",
       "    'iptu': 1900.0},\n",
       "   'descricao': 'Amplo imóvel para venda com 3 quartos, sendo 0 suítes, e 1 banheiros no total.'}},\n",
       " {'imovel': {'tipos': {'propriedade': 'Apartamento'},\n",
       "   'endereco': {'bairro': 'Méier',\n",
       "    'localizacao': {'type': 'Point',\n",
       "     'coordinates': [-49.0607072, -26.9225117]}},\n",
       "   'vagasGaragem': 1,\n",
       "   'area': 63,\n",
       "   'caracteristicas': {'propriedade': \"['Piscina', 'Quarto/WC Empregada', 'Gás Encanado', 'Mobiliado']\",\n",
       "    'condominio': \"['Sauna', 'Estacionamento Coberto', 'Porteiro 24 Horas', 'Aceita Pet', 'Salão de Jogos', 'Bicicletário', 'Churrasqueira', 'Academia', 'Serviço de Transporte no Condomínio', 'Segurança Interna', 'Acessibilidade', 'Depósito Privativo', 'Salão de Festas', 'Comércio/Serviços no Condomínio', 'Piscina']\",\n",
       "    'entorno': \"['Próximo a Comércio Diversos', 'Próximo a Escola Particular', 'Próximo a Farmácia', 'Próximo a Praia', 'Próximo a Escola Pública', 'Próximo a Centro Empresarial', 'Próximo a Áreas de Lazer', 'Próximo ao Metrô', 'Próximo a Academia']\"}},\n",
       "  'anuncio': {'tipos': {'publicacao': 'Padrão', 'listagem': 'Usado'},\n",
       "   'valores': {'venda': 400000.0,\n",
       "    'aluguel': 0.0,\n",
       "    'condominio': 628.0,\n",
       "    'iptu': 661.0},\n",
       "   'descricao': 'Amplo imóvel para venda com 2 quartos, sendo 0 suítes, e 1 banheiros no total.'}},\n",
       " {'imovel': {'tipos': {'propriedade': 'Consultório'},\n",
       "   'endereco': {'bairro': 'Recreio dos Bandeirantes',\n",
       "    'localizacao': {'type': 'Point',\n",
       "     'coordinates': [-43.5010964, -23.0249208]}},\n",
       "   'vagasGaragem': 0,\n",
       "   'area': 0,\n",
       "   'caracteristicas': {'propriedade': \"['Sauna', 'Terraço', 'Closet', 'Gás Encanado', 'Vista Panorâmica']\",\n",
       "    'condominio': \"['Playground', 'Aceita Pet', 'Porteiro 24 Horas']\",\n",
       "    'entorno': \"['Próximo a Restaurante', 'Próximo ao Metrô', 'Próximo a Academia', 'Próximo ao Shopping']\"}},\n",
       "  'anuncio': {'tipos': {'publicacao': 'Padrão', 'listagem': 'Usado'},\n",
       "   'valores': {'venda': 370583.0,\n",
       "    'aluguel': 0.0,\n",
       "    'condominio': 0.0,\n",
       "    'iptu': 0.0},\n",
       "   'descricao': 'Amplo imóvel para venda com 0 quartos, sendo 0 suítes, e 1 banheiros no total.'}},\n",
       " {'imovel': {'tipos': {'propriedade': 'Apartamento'},\n",
       "   'endereco': {'bairro': 'Recreio dos Bandeirantes',\n",
       "    'localizacao': {'type': 'Point',\n",
       "     'coordinates': [-43.4842556, -23.0302751]}},\n",
       "   'vagasGaragem': 1,\n",
       "   'area': 96,\n",
       "   'caracteristicas': {'propriedade': '[]',\n",
       "    'condominio': \"['Quadra Poliesportiva', 'Porteiro 24 Horas']\",\n",
       "    'entorno': \"['Próximo ao Metrô', 'Próximo a Mercado', 'Próximo ao Shopping', 'Próximo a Parques e Áreas Verdes', 'Próximo a Comércio Diversos', 'Próximo a Farmácia', 'Próximo a Escola Particular']\"}},\n",
       "  'anuncio': {'tipos': {'publicacao': 'Padrão', 'listagem': 'Usado'},\n",
       "   'valores': {'venda': 490000.0,\n",
       "    'aluguel': 0.0,\n",
       "    'condominio': 480.0,\n",
       "    'iptu': 200.0},\n",
       "   'descricao': 'Amplo imóvel para venda com 2 quartos, sendo 1 suítes, e 2 banheiros no total.'}},\n",
       " {'imovel': {'tipos': {'propriedade': 'Casa'},\n",
       "   'endereco': {'bairro': 'Vila Isabel',\n",
       "    'localizacao': {'type': 'Point',\n",
       "     'coordinates': [-43.2427336, -22.9185964]}},\n",
       "   'vagasGaragem': 1,\n",
       "   'area': 66,\n",
       "   'caracteristicas': {'propriedade': \"['Quarto/WC Empregada', 'Varanda', 'Piscina', 'Sauna', 'Armários Planejados', 'Ambientes Integrados', 'Cozinha Americana', 'Terraço', 'Vista Panorâmica', 'Mobiliado', 'Churrasqueira', 'Área de Serviço', 'Acessibilidade', 'Closet']\",\n",
       "    'condominio': \"['Quadra Poliesportiva']\",\n",
       "    'entorno': \"['Próximo ao Shopping', 'Próximo a Farmácia', 'Próximo a Centro Empresarial', 'Próximo a Mercado', 'Próximo a Serviços de Saúde', 'Próximo a Comércio Diversos', 'Próximo a Escola Pública', 'Próximo a Restaurante', 'Próximo a Praia', 'Próximo a Escola Particular']\"}},\n",
       "  'anuncio': {'tipos': {'publicacao': 'Padrão', 'listagem': 'Usado'},\n",
       "   'valores': {'venda': 440000.0,\n",
       "    'aluguel': 0.0,\n",
       "    'condominio': 500.0,\n",
       "    'iptu': 25.0},\n",
       "   'descricao': 'Amplo imóvel para venda com 2 quartos, sendo 0 suítes, e 1 banheiros no total.'}},\n",
       " {'imovel': {'tipos': {'propriedade': 'Apartamento'},\n",
       "   'endereco': {'bairro': 'Campo Grande',\n",
       "    'localizacao': {'type': 'Point',\n",
       "     'coordinates': [-43.1728965, -22.9068467]}},\n",
       "   'vagasGaragem': 0,\n",
       "   'area': 40,\n",
       "   'caracteristicas': {'propriedade': \"['Vista Panorâmica', 'Sauna', 'Área de Serviço', 'Piscina', 'Ambientes Integrados', 'Acessibilidade']\",\n",
       "    'condominio': \"['Bicicletário', 'Comércio/Serviços no Condomínio', 'Salão de Festas', 'Estacionamento Coberto', 'Segurança Interna', 'Quadra Poliesportiva', 'Churrasqueira', 'Aceita Pet']\",\n",
       "    'entorno': \"['Próximo a Escola Particular', 'Próximo a Praia', 'Próximo a Academia', 'Próximo a Restaurante', 'Próximo a Mercado', 'Próximo ao Metrô', 'Próximo a Parques e Áreas Verdes', 'Próximo a Comércio Diversos', 'Próximo a Áreas de Lazer', 'Próximo a Farmácia']\"}},\n",
       "  'anuncio': {'tipos': {'publicacao': 'Padrão', 'listagem': 'Usado'},\n",
       "   'valores': {'venda': 700000.0,\n",
       "    'aluguel': 0.0,\n",
       "    'condominio': 0.0,\n",
       "    'iptu': 0.0},\n",
       "   'descricao': 'Amplo imóvel para venda com 2 quartos, sendo 0 suítes, e 1 banheiros no total.'}},\n",
       " {'imovel': {'tipos': {'propriedade': 'Sala Comercial'},\n",
       "   'endereco': {'bairro': 'Copacabana',\n",
       "    'localizacao': {'type': 'Point',\n",
       "     'coordinates': [-43.1857067, -22.9670207]}},\n",
       "   'vagasGaragem': 1,\n",
       "   'area': 80,\n",
       "   'caracteristicas': {'propriedade': \"['Quarto/WC Empregada', 'Churrasqueira', 'Sauna']\",\n",
       "    'condominio': \"['Depósito Privativo', 'Bicicletário', 'Churrasqueira', 'Estacionamento Coberto', 'Comércio/Serviços no Condomínio', 'Segurança Interna', 'Estacionamento Visitantes', 'Acessibilidade', 'Quadra Poliesportiva', 'Sistema de Incêndio', 'Playground']\",\n",
       "    'entorno': \"['Próximo a Farmácia', 'Próximo a Escola Particular', 'Próximo a Academia', 'Próximo ao Shopping', 'Próximo a Praia', 'Próximo a Serviços de Saúde', 'Próximo ao Metrô', 'Próximo a Restaurante']\"}},\n",
       "  'anuncio': {'tipos': {'publicacao': 'Destaque', 'listagem': 'Usado'},\n",
       "   'valores': {'venda': 1000000.0,\n",
       "    'aluguel': 0.0,\n",
       "    'condominio': 630.0,\n",
       "    'iptu': 112.0},\n",
       "   'descricao': 'Amplo imóvel para venda com 2 quartos, sendo 0 suítes, e 1 banheiros no total.'}},\n",
       " {'imovel': {'tipos': {'propriedade': 'Casa'},\n",
       "   'endereco': {'bairro': 'Ipanema',\n",
       "    'localizacao': {'type': 'Point',\n",
       "     'coordinates': [-43.2019364, -22.9832228]}},\n",
       "   'vagasGaragem': 2,\n",
       "   'area': 240,\n",
       "   'caracteristicas': {'propriedade': \"['Sauna', 'Ambientes Integrados', 'Armários Planejados', 'Piscina', 'Cozinha Americana', 'Terraço', 'Varanda', 'Closet', 'Acessibilidade', 'Mobiliado', 'Gás Encanado', 'Churrasqueira']\",\n",
       "    'condominio': \"['Elevador', 'Estacionamento Coberto']\",\n",
       "    'entorno': \"['Próximo a Centro Empresarial']\"}},\n",
       "  'anuncio': {'tipos': {'publicacao': 'Destaque', 'listagem': 'Usado'},\n",
       "   'valores': {'venda': 4500000.0,\n",
       "    'aluguel': 0.0,\n",
       "    'condominio': 2300.0,\n",
       "    'iptu': 0.0},\n",
       "   'descricao': 'Amplo imóvel para venda com 3 quartos, sendo 1 suítes, e 2 banheiros no total.'}},\n",
       " {'imovel': {'tipos': {'propriedade': 'Sala Comercial'},\n",
       "   'endereco': {'bairro': 'Paciência',\n",
       "    'localizacao': {'type': 'Point',\n",
       "     'coordinates': [-43.6220075, -22.8938151]}},\n",
       "   'vagasGaragem': 1,\n",
       "   'area': 45,\n",
       "   'caracteristicas': {'propriedade': \"['Mobiliado', 'Acessibilidade', 'Área de Serviço', 'Vista Panorâmica', 'Gás Encanado', 'Quarto/WC Empregada', 'Terraço', 'Closet']\",\n",
       "    'condominio': \"['Sistema de Incêndio', 'Acessibilidade', 'Salão de Festas', 'Quadra Poliesportiva', 'Bicicletário', 'Playground', 'Serviço de Transporte no Condomínio', 'Sauna', 'Porteiro 24 Horas']\",\n",
       "    'entorno': \"['Próximo a Centro Empresarial', 'Próximo a Comércio Diversos', 'Próximo a Academia', 'Próximo ao Metrô', 'Próximo a Escola Particular', 'Próximo a Escola Pública', 'Próximo a Restaurante', 'Próximo a Praia', 'Próximo a Áreas de Lazer', 'Próximo a Serviços de Saúde']\"}},\n",
       "  'anuncio': {'tipos': {'publicacao': 'Padrão', 'listagem': 'Usado'},\n",
       "   'valores': {'venda': 135000.0,\n",
       "    'aluguel': 0.0,\n",
       "    'condominio': 300.0,\n",
       "    'iptu': 0.0},\n",
       "   'descricao': 'Amplo imóvel para venda com 2 quartos, sendo 0 suítes, e 1 banheiros no total.'}},\n",
       " {'imovel': {'tipos': {'propriedade': 'Apartamento'},\n",
       "   'endereco': {'bairro': 'Freguesia (Jacarepaguá)',\n",
       "    'localizacao': {'type': 'Point',\n",
       "     'coordinates': [-43.1721422, -22.7894064]}},\n",
       "   'vagasGaragem': 1,\n",
       "   'area': 71,\n",
       "   'caracteristicas': {'propriedade': \"['Sauna', 'Gás Encanado', 'Terraço', 'Ambientes Integrados', 'Churrasqueira', 'Área de Serviço', 'Piscina', 'Quarto/WC Empregada', 'Armários Planejados']\",\n",
       "    'condominio': \"['Salão de Festas', 'Bicicletário', 'Academia']\",\n",
       "    'entorno': \"['Próximo a Academia', 'Próximo a Mercado', 'Próximo a Praia', 'Próximo ao Shopping', 'Próximo a Centro Empresarial']\"}},\n",
       "  'anuncio': {'tipos': {'publicacao': 'Destaque', 'listagem': 'Usado'},\n",
       "   'valores': {'venda': 300000.0,\n",
       "    'aluguel': 0.0,\n",
       "    'condominio': 370.0,\n",
       "    'iptu': 243.0},\n",
       "   'descricao': 'Amplo imóvel para venda com 3 quartos, sendo 0 suítes, e 1 banheiros no total.'}},\n",
       " {'imovel': {'tipos': {'propriedade': 'Apartamento'},\n",
       "   'endereco': {'bairro': 'Vargem Pequena',\n",
       "    'localizacao': {'type': 'Point',\n",
       "     'coordinates': [-43.4516177, -22.993534]}},\n",
       "   'vagasGaragem': 0,\n",
       "   'area': 0,\n",
       "   'caracteristicas': {'propriedade': '[]',\n",
       "    'condominio': \"['Quadra Poliesportiva', 'Porteiro 24 Horas', 'Depósito Privativo', 'Serviço de Transporte no Condomínio', 'Salão de Jogos', 'Playground', 'Sistema de Incêndio']\",\n",
       "    'entorno': \"['Próximo ao Shopping', 'Próximo a Parques e Áreas Verdes', 'Próximo a Escola Pública', 'Próximo a Centro Empresarial', 'Próximo a Áreas de Lazer', 'Próximo a Escola Particular', 'Próximo a Comércio Diversos', 'Próximo a Serviços de Saúde', 'Próximo ao Metrô', 'Próximo a Restaurante']\"}},\n",
       "  'anuncio': {'tipos': {'publicacao': 'Destaque', 'listagem': 'Usado'},\n",
       "   'valores': {'venda': 0.0, 'aluguel': 0.0, 'condominio': 0.0, 'iptu': 0.0},\n",
       "   'descricao': 'Amplo imóvel para venda com 0 quartos, sendo 0 suítes, e 1 banheiros no total.'}},\n",
       " {'imovel': {'tipos': {'propriedade': 'Apartamento'},\n",
       "   'endereco': {'bairro': 'Tijuca',\n",
       "    'localizacao': {'type': 'Point',\n",
       "     'coordinates': [-43.2377311, -22.919436]}},\n",
       "   'vagasGaragem': 2,\n",
       "   'area': 136,\n",
       "   'caracteristicas': {'propriedade': \"['Terraço', 'Armários Planejados', 'Ambientes Integrados']\",\n",
       "    'condominio': \"['Comércio/Serviços no Condomínio', 'Depósito Privativo', 'Estacionamento Visitantes', 'Segurança Interna', 'Salão de Jogos', 'Serviço de Transporte no Condomínio', 'Churrasqueira']\",\n",
       "    'entorno': \"['Próximo a Restaurante', 'Próximo a Farmácia', 'Próximo a Mercado', 'Próximo ao Shopping', 'Próximo a Comércio Diversos', 'Próximo a Centro Empresarial', 'Próximo ao Metrô', 'Próximo a Parques e Áreas Verdes']\"}},\n",
       "  'anuncio': {'tipos': {'publicacao': 'Padrão', 'listagem': 'Usado'},\n",
       "   'valores': {'venda': 1285000.0,\n",
       "    'aluguel': 0.0,\n",
       "    'condominio': 1300.0,\n",
       "    'iptu': 0.0},\n",
       "   'descricao': 'Amplo imóvel para venda com 3 quartos, sendo 1 suítes, e 2 banheiros no total.'}},\n",
       " {'imovel': {'tipos': {'propriedade': 'Casa'},\n",
       "   'endereco': {'bairro': 'Recreio dos Bandeirantes',\n",
       "    'localizacao': {'type': 'Point',\n",
       "     'coordinates': [-43.482437, -23.0061018]}},\n",
       "   'vagasGaragem': 2,\n",
       "   'area': 168,\n",
       "   'caracteristicas': {'propriedade': \"['Área de Serviço', 'Quarto/WC Empregada', 'Closet', 'Terraço', 'Mobiliado', 'Armários Planejados', 'Acessibilidade']\",\n",
       "    'condominio': \"['Serviço de Transporte no Condomínio', 'Elevador', 'Estacionamento Visitantes', 'Comércio/Serviços no Condomínio', 'Piscina', 'Porteiro 24 Horas', 'Academia', 'Sistema de Incêndio', 'Bicicletário', 'Salão de Festas', 'Aceita Pet', 'Churrasqueira', 'Playground', 'Quadra Poliesportiva', 'Estacionamento Coberto', 'Acessibilidade', 'Sauna', 'Salão de Jogos', 'Segurança Interna']\",\n",
       "    'entorno': \"['Próximo a Academia', 'Próximo a Escola Particular']\"}},\n",
       "  'anuncio': {'tipos': {'publicacao': 'Padrão', 'listagem': 'Lançamento'},\n",
       "   'valores': {'venda': 409900.0,\n",
       "    'aluguel': 0.0,\n",
       "    'condominio': 490.0,\n",
       "    'iptu': 0.0},\n",
       "   'descricao': 'Amplo imóvel para venda com 2 quartos, sendo 1 suítes, e 2 banheiros no total.'}},\n",
       " {'imovel': {'tipos': {'propriedade': 'Consultório'},\n",
       "   'endereco': {'bairro': 'Recreio dos Bandeirantes',\n",
       "    'localizacao': {'type': 'Point',\n",
       "     'coordinates': [-43.4656992, -23.0226712]}},\n",
       "   'vagasGaragem': 4,\n",
       "   'area': 300,\n",
       "   'caracteristicas': {'propriedade': \"['Cozinha Americana', 'Gás Encanado', 'Mobiliado', 'Área de Serviço', 'Closet', 'Vista Panorâmica', 'Quarto/WC Empregada', 'Terraço', 'Ambientes Integrados', 'Varanda', 'Churrasqueira']\",\n",
       "    'condominio': \"['Estacionamento Visitantes', 'Elevador', 'Aceita Pet', 'Serviço de Transporte no Condomínio']\",\n",
       "    'entorno': \"['Próximo ao Metrô', 'Próximo a Escola Pública']\"}},\n",
       "  'anuncio': {'tipos': {'publicacao': 'Padrão', 'listagem': 'Usado'},\n",
       "   'valores': {'venda': 1600000.0,\n",
       "    'aluguel': 0.0,\n",
       "    'condominio': 0.0,\n",
       "    'iptu': 0.0},\n",
       "   'descricao': 'Amplo imóvel para venda com 4 quartos, sendo 4 suítes, e 5 banheiros no total.'}},\n",
       " {'imovel': {'tipos': {'propriedade': 'Apartamento'},\n",
       "   'endereco': {'bairro': 'Pechincha',\n",
       "    'localizacao': {'type': 'Point',\n",
       "     'coordinates': [-49.0607072, -26.9225117]}},\n",
       "   'vagasGaragem': 2,\n",
       "   'area': 123,\n",
       "   'caracteristicas': {'propriedade': \"['Área de Serviço', 'Ambientes Integrados', 'Vista Panorâmica', 'Quarto/WC Empregada', 'Terraço', 'Varanda', 'Armários Planejados', 'Piscina', 'Acessibilidade', 'Churrasqueira', 'Cozinha Americana', 'Closet', 'Gás Encanado']\",\n",
       "    'condominio': \"['Elevador', 'Salão de Festas', 'Quadra Poliesportiva', 'Acessibilidade', 'Bicicletário', 'Sistema de Incêndio', 'Playground', 'Aceita Pet', 'Estacionamento Visitantes', 'Salão de Jogos', 'Piscina', 'Churrasqueira']\",\n",
       "    'entorno': \"['Próximo a Escola Particular', 'Próximo a Mercado', 'Próximo a Centro Empresarial', 'Próximo a Áreas de Lazer']\"}},\n",
       "  'anuncio': {'tipos': {'publicacao': 'Destaque', 'listagem': 'Usado'},\n",
       "   'valores': {'venda': 505000.0,\n",
       "    'aluguel': 0.0,\n",
       "    'condominio': 500.0,\n",
       "    'iptu': 0.0},\n",
       "   'descricao': 'Amplo imóvel para venda com 3 quartos, sendo 1 suítes, e 2 banheiros no total.'}},\n",
       " {'imovel': {'tipos': {'propriedade': 'Apartamento'},\n",
       "   'endereco': {'bairro': 'Copacabana',\n",
       "    'localizacao': {'type': 'Point',\n",
       "     'coordinates': [-43.1874754, -22.9682656]}},\n",
       "   'vagasGaragem': 1,\n",
       "   'area': 113,\n",
       "   'caracteristicas': {'propriedade': \"['Gás Encanado', 'Cozinha Americana', 'Vista Panorâmica', 'Quarto/WC Empregada', 'Varanda', 'Área de Serviço', 'Sauna', 'Mobiliado', 'Closet', 'Acessibilidade', 'Piscina']\",\n",
       "    'condominio': \"['Sauna', 'Quadra Poliesportiva', 'Porteiro 24 Horas', 'Elevador', 'Depósito Privativo', 'Academia', 'Piscina']\",\n",
       "    'entorno': \"['Próximo a Serviços de Saúde', 'Próximo a Mercado', 'Próximo a Restaurante', 'Próximo a Parques e Áreas Verdes']\"}},\n",
       "  'anuncio': {'tipos': {'publicacao': 'Super Destaque', 'listagem': 'Usado'},\n",
       "   'valores': {'venda': 1190000.0,\n",
       "    'aluguel': 0.0,\n",
       "    'condominio': 750.0,\n",
       "    'iptu': 1904.0},\n",
       "   'descricao': 'Amplo imóvel para venda com 3 quartos, sendo 0 suítes, e 1 banheiros no total.'}},\n",
       " {'imovel': {'tipos': {'propriedade': 'Apartamento'},\n",
       "   'endereco': {'bairro': 'Vargem Pequena',\n",
       "    'localizacao': {'type': 'Point',\n",
       "     'coordinates': [-43.4516177, -22.993534]}},\n",
       "   'vagasGaragem': 0,\n",
       "   'area': 0,\n",
       "   'caracteristicas': {'propriedade': \"['Vista Panorâmica', 'Quarto/WC Empregada', 'Sauna', 'Armários Planejados', 'Cozinha Americana', 'Ambientes Integrados', 'Acessibilidade', 'Área de Serviço', 'Piscina', 'Closet', 'Mobiliado', 'Gás Encanado', 'Churrasqueira']\",\n",
       "    'condominio': \"['Quadra Poliesportiva', 'Bicicletário', 'Playground', 'Estacionamento Coberto', 'Depósito Privativo', 'Comércio/Serviços no Condomínio', 'Serviço de Transporte no Condomínio', 'Estacionamento Visitantes', 'Acessibilidade', 'Elevador', 'Piscina', 'Sauna']\",\n",
       "    'entorno': \"['Próximo ao Metrô', 'Próximo a Academia', 'Próximo a Mercado', 'Próximo a Escola Particular']\"}},\n",
       "  'anuncio': {'tipos': {'publicacao': 'Super Destaque', 'listagem': 'Usado'},\n",
       "   'valores': {'venda': 0.0, 'aluguel': 0.0, 'condominio': 0.0, 'iptu': 0.0},\n",
       "   'descricao': 'Amplo imóvel para venda com 0 quartos, sendo 0 suítes, e 1 banheiros no total.'}},\n",
       " {'imovel': {'tipos': {'propriedade': 'Casa'},\n",
       "   'endereco': {'bairro': 'Freguesia',\n",
       "    'localizacao': {'type': 'Point',\n",
       "     'coordinates': [-43.3273079, -22.9354146]}},\n",
       "   'vagasGaragem': 0,\n",
       "   'area': 0,\n",
       "   'caracteristicas': {'propriedade': \"['Armários Planejados', 'Piscina', 'Churrasqueira', 'Acessibilidade', 'Área de Serviço', 'Terraço', 'Mobiliado', 'Sauna', 'Gás Encanado', 'Varanda', 'Vista Panorâmica']\",\n",
       "    'condominio': \"['Piscina', 'Quadra Poliesportiva', 'Playground', 'Estacionamento Coberto', 'Sistema de Incêndio', 'Elevador', 'Estacionamento Visitantes', 'Sauna', 'Aceita Pet', 'Porteiro 24 Horas', 'Salão de Festas', 'Segurança Interna', 'Salão de Jogos', 'Academia', 'Acessibilidade', 'Bicicletário', 'Serviço de Transporte no Condomínio', 'Comércio/Serviços no Condomínio', 'Churrasqueira', 'Depósito Privativo']\",\n",
       "    'entorno': \"['Próximo a Parques e Áreas Verdes', 'Próximo a Academia', 'Próximo a Serviços de Saúde', 'Próximo a Farmácia', 'Próximo a Escola Pública', 'Próximo a Escola Particular', 'Próximo a Restaurante', 'Próximo ao Metrô', 'Próximo ao Shopping', 'Próximo a Áreas de Lazer', 'Próximo a Comércio Diversos']\"}},\n",
       "  'anuncio': {'tipos': {'publicacao': 'Destaque', 'listagem': 'Lançamento'},\n",
       "   'valores': {'venda': 0.0, 'aluguel': 0.0, 'condominio': 0.0, 'iptu': 0.0},\n",
       "   'descricao': 'Amplo imóvel para venda com 0 quartos, sendo 0 suítes, e 0 banheiros no total.'}},\n",
       " {'imovel': {'tipos': {'propriedade': 'Apartamento'},\n",
       "   'endereco': {'bairro': 'Recreio dos Bandeirantes',\n",
       "    'localizacao': {'type': 'Point',\n",
       "     'coordinates': [-43.4710229, -23.0170387]}},\n",
       "   'vagasGaragem': 2,\n",
       "   'area': 112,\n",
       "   'caracteristicas': {'propriedade': '[]',\n",
       "    'condominio': \"['Salão de Jogos', 'Quadra Poliesportiva', 'Elevador', 'Acessibilidade', 'Sistema de Incêndio', 'Serviço de Transporte no Condomínio', 'Bicicletário', 'Segurança Interna', 'Piscina', 'Churrasqueira', 'Depósito Privativo']\",\n",
       "    'entorno': \"['Próximo a Praia', 'Próximo a Academia', 'Próximo a Centro Empresarial', 'Próximo a Parques e Áreas Verdes', 'Próximo a Comércio Diversos', 'Próximo a Restaurante', 'Próximo a Mercado', 'Próximo a Áreas de Lazer', 'Próximo a Serviços de Saúde', 'Próximo ao Shopping', 'Próximo ao Metrô', 'Próximo a Escola Pública', 'Próximo a Escola Particular']\"}},\n",
       "  'anuncio': {'tipos': {'publicacao': 'Padrão', 'listagem': 'Usado'},\n",
       "   'valores': {'venda': 500000.0,\n",
       "    'aluguel': 0.0,\n",
       "    'condominio': 451.0,\n",
       "    'iptu': 1500.0},\n",
       "   'descricao': 'Amplo imóvel para venda com 2 quartos, sendo 1 suítes, e 2 banheiros no total.'}},\n",
       " {'imovel': {'tipos': {'propriedade': 'Apartamento'},\n",
       "   'endereco': {'bairro': 'Botafogo',\n",
       "    'localizacao': {'type': 'Point',\n",
       "     'coordinates': [-43.190689, -22.9510137]}},\n",
       "   'vagasGaragem': 3,\n",
       "   'area': 195,\n",
       "   'caracteristicas': {'propriedade': \"['Mobiliado', 'Sauna', 'Cozinha Americana', 'Área de Serviço', 'Armários Planejados', 'Acessibilidade', 'Gás Encanado', 'Vista Panorâmica', 'Churrasqueira', 'Terraço']\",\n",
       "    'condominio': \"['Salão de Festas', 'Segurança Interna', 'Comércio/Serviços no Condomínio', 'Piscina', 'Salão de Jogos', 'Elevador', 'Acessibilidade', 'Estacionamento Visitantes', 'Aceita Pet', 'Porteiro 24 Horas', 'Estacionamento Coberto', 'Playground', 'Quadra Poliesportiva', 'Churrasqueira', 'Sistema de Incêndio']\",\n",
       "    'entorno': \"['Próximo a Parques e Áreas Verdes', 'Próximo a Comércio Diversos', 'Próximo ao Metrô', 'Próximo a Farmácia', 'Próximo a Restaurante', 'Próximo a Áreas de Lazer', 'Próximo a Centro Empresarial', 'Próximo ao Shopping', 'Próximo a Praia', 'Próximo a Academia', 'Próximo a Mercado']\"}},\n",
       "  'anuncio': {'tipos': {'publicacao': 'Destaque', 'listagem': 'Lançamento'},\n",
       "   'valores': {'venda': 2582000.0,\n",
       "    'aluguel': 0.0,\n",
       "    'condominio': 0.0,\n",
       "    'iptu': 0.0},\n",
       "   'descricao': 'Amplo imóvel para venda com 3 quartos, sendo 1 suítes, e 2 banheiros no total.'}},\n",
       " {'imovel': {'tipos': {'propriedade': 'Casa'},\n",
       "   'endereco': {'bairro': 'Paciência',\n",
       "    'localizacao': {'type': 'Point', 'coordinates': [0, 0]}},\n",
       "   'vagasGaragem': 0,\n",
       "   'area': 231000,\n",
       "   'caracteristicas': {'propriedade': \"['Cozinha Americana', 'Varanda', 'Vista Panorâmica', 'Closet', 'Acessibilidade', 'Gás Encanado', 'Churrasqueira', 'Área de Serviço', 'Armários Planejados', 'Sauna']\",\n",
       "    'condominio': \"['Sistema de Incêndio', 'Academia', 'Salão de Festas', 'Segurança Interna', 'Comércio/Serviços no Condomínio', 'Sauna', 'Serviço de Transporte no Condomínio', 'Depósito Privativo', 'Salão de Jogos', 'Estacionamento Coberto', 'Bicicletário', 'Elevador', 'Playground', 'Churrasqueira', 'Estacionamento Visitantes', 'Porteiro 24 Horas', 'Aceita Pet', 'Piscina', 'Acessibilidade', 'Quadra Poliesportiva']\",\n",
       "    'entorno': \"['Próximo a Áreas de Lazer', 'Próximo a Parques e Áreas Verdes', 'Próximo a Academia', 'Próximo a Farmácia', 'Próximo a Serviços de Saúde']\"}},\n",
       "  'anuncio': {'tipos': {'publicacao': 'Padrão', 'listagem': 'Usado'},\n",
       "   'valores': {'venda': 24000000.0,\n",
       "    'aluguel': 0.0,\n",
       "    'condominio': 0.0,\n",
       "    'iptu': 0.0},\n",
       "   'descricao': 'Amplo imóvel para venda com 0 quartos, sendo 0 suítes, e 1 banheiros no total.'}},\n",
       " {'imovel': {'tipos': {'propriedade': 'Casa'},\n",
       "   'endereco': {'bairro': 'Ipanema',\n",
       "    'localizacao': {'type': 'Point',\n",
       "     'coordinates': [-43.2052848, -22.9814583]}},\n",
       "   'vagasGaragem': 1,\n",
       "   'area': 120,\n",
       "   'caracteristicas': {'propriedade': \"['Terraço', 'Vista Panorâmica', 'Piscina', 'Acessibilidade', 'Ambientes Integrados', 'Sauna', 'Mobiliado', 'Armários Planejados', 'Churrasqueira', 'Gás Encanado']\",\n",
       "    'condominio': \"['Salão de Festas', 'Acessibilidade', 'Quadra Poliesportiva', 'Salão de Jogos', 'Churrasqueira', 'Serviço de Transporte no Condomínio', 'Aceita Pet', 'Bicicletário', 'Segurança Interna', 'Depósito Privativo', 'Academia', 'Elevador', 'Sauna', 'Sistema de Incêndio', 'Estacionamento Coberto', 'Estacionamento Visitantes']\",\n",
       "    'entorno': \"['Próximo a Comércio Diversos', 'Próximo a Farmácia', 'Próximo a Serviços de Saúde', 'Próximo a Restaurante', 'Próximo ao Shopping', 'Próximo a Escola Pública', 'Próximo a Escola Particular', 'Próximo a Mercado', 'Próximo a Centro Empresarial', 'Próximo a Áreas de Lazer', 'Próximo a Academia', 'Próximo a Praia']\"}},\n",
       "  'anuncio': {'tipos': {'publicacao': 'Super Destaque', 'listagem': 'Usado'},\n",
       "   'valores': {'venda': 2500000.0,\n",
       "    'aluguel': 0.0,\n",
       "    'condominio': 0.0,\n",
       "    'iptu': 0.0},\n",
       "   'descricao': 'Amplo imóvel para venda com 1 quartos, sendo 1 suítes, e 2 banheiros no total.'}},\n",
       " {'imovel': {'tipos': {'propriedade': 'Cobertura'},\n",
       "   'endereco': {'bairro': 'Vila da Penha',\n",
       "    'localizacao': {'type': 'Point',\n",
       "     'coordinates': [-43.3083014, -22.8334376]}},\n",
       "   'vagasGaragem': 1,\n",
       "   'area': 64,\n",
       "   'caracteristicas': {'propriedade': \"['Cozinha Americana', 'Quarto/WC Empregada', 'Área de Serviço', 'Gás Encanado', 'Closet', 'Acessibilidade', 'Piscina']\",\n",
       "    'condominio': \"['Porteiro 24 Horas', 'Piscina', 'Estacionamento Visitantes', 'Salão de Jogos', 'Playground']\",\n",
       "    'entorno': '[]'}},\n",
       "  'anuncio': {'tipos': {'publicacao': 'Destaque', 'listagem': 'Usado'},\n",
       "   'valores': {'venda': 270000.0,\n",
       "    'aluguel': 0.0,\n",
       "    'condominio': 360.0,\n",
       "    'iptu': 0.0},\n",
       "   'descricao': 'Amplo imóvel para venda com 2 quartos, sendo 0 suítes, e 1 banheiros no total.'}},\n",
       " {'imovel': {'tipos': {'propriedade': 'Casa'},\n",
       "   'endereco': {'bairro': 'Jacarepaguá',\n",
       "    'localizacao': {'type': 'Point',\n",
       "     'coordinates': [-43.4152304, -22.9690832]}},\n",
       "   'vagasGaragem': 0,\n",
       "   'area': 0,\n",
       "   'caracteristicas': {'propriedade': \"['Área de Serviço', 'Terraço', 'Piscina', 'Closet', 'Gás Encanado', 'Quarto/WC Empregada', 'Cozinha Americana']\",\n",
       "    'condominio': \"['Playground', 'Acessibilidade', 'Serviço de Transporte no Condomínio']\",\n",
       "    'entorno': \"['Próximo ao Metrô', 'Próximo a Áreas de Lazer', 'Próximo a Academia']\"}},\n",
       "  'anuncio': {'tipos': {'publicacao': 'Padrão', 'listagem': 'Lançamento'},\n",
       "   'valores': {'venda': 0.0, 'aluguel': 0.0, 'condominio': 0.0, 'iptu': 0.0},\n",
       "   'descricao': 'Amplo imóvel para venda com 0 quartos, sendo 0 suítes, e 0 banheiros no total.'}},\n",
       " {'imovel': {'tipos': {'propriedade': 'Apartamento'},\n",
       "   'endereco': {'bairro': 'Pechincha',\n",
       "    'localizacao': {'type': 'Point',\n",
       "     'coordinates': [-43.3490452, -22.9240714]}},\n",
       "   'vagasGaragem': 3,\n",
       "   'area': 348,\n",
       "   'caracteristicas': {'propriedade': \"['Acessibilidade', 'Churrasqueira', 'Sauna', 'Closet', 'Área de Serviço']\",\n",
       "    'condominio': '[]',\n",
       "    'entorno': \"['Próximo a Escola Particular', 'Próximo a Serviços de Saúde']\"}},\n",
       "  'anuncio': {'tipos': {'publicacao': 'Padrão', 'listagem': 'Lançamento'},\n",
       "   'valores': {'venda': 1100000.0,\n",
       "    'aluguel': 0.0,\n",
       "    'condominio': 0.0,\n",
       "    'iptu': 1560.0},\n",
       "   'descricao': 'Amplo imóvel para venda com 3 quartos, sendo 1 suítes, e 2 banheiros no total.'}},\n",
       " {'imovel': {'tipos': {'propriedade': 'Casa'},\n",
       "   'endereco': {'bairro': 'Copacabana',\n",
       "    'localizacao': {'type': 'Point',\n",
       "     'coordinates': [-43.1889208, -22.9751691]}},\n",
       "   'vagasGaragem': 0,\n",
       "   'area': 240,\n",
       "   'caracteristicas': {'propriedade': \"['Sauna', 'Vista Panorâmica', 'Terraço', 'Mobiliado', 'Piscina', 'Closet', 'Cozinha Americana', 'Acessibilidade', 'Varanda', 'Área de Serviço', 'Gás Encanado', 'Quarto/WC Empregada', 'Ambientes Integrados', 'Churrasqueira', 'Armários Planejados']\",\n",
       "    'condominio': \"['Depósito Privativo', 'Elevador', 'Quadra Poliesportiva', 'Estacionamento Coberto', 'Aceita Pet']\",\n",
       "    'entorno': \"['Próximo a Restaurante', 'Próximo ao Metrô', 'Próximo a Escola Pública', 'Próximo a Serviços de Saúde', 'Próximo a Parques e Áreas Verdes', 'Próximo a Farmácia', 'Próximo a Academia', 'Próximo a Praia', 'Próximo a Escola Particular', 'Próximo a Comércio Diversos', 'Próximo a Áreas de Lazer', 'Próximo a Centro Empresarial']\"}},\n",
       "  'anuncio': {'tipos': {'publicacao': 'Premium', 'listagem': 'Lançamento'},\n",
       "   'valores': {'venda': 2730000.0,\n",
       "    'aluguel': 0.0,\n",
       "    'condominio': 1900.0,\n",
       "    'iptu': 1700.0},\n",
       "   'descricao': 'Amplo imóvel para venda com 3 quartos, sendo 0 suítes, e 0 banheiros no total.'}},\n",
       " {'imovel': {'tipos': {'propriedade': 'Casa'},\n",
       "   'endereco': {'bairro': 'Laranjeiras',\n",
       "    'localizacao': {'type': 'Point',\n",
       "     'coordinates': [-43.1919165, -22.9358772]}},\n",
       "   'vagasGaragem': 2,\n",
       "   'area': 85,\n",
       "   'caracteristicas': {'propriedade': \"['Gás Encanado', 'Mobiliado', 'Cozinha Americana']\",\n",
       "    'condominio': \"['Comércio/Serviços no Condomínio', 'Depósito Privativo', 'Acessibilidade', 'Salão de Festas', 'Bicicletário', 'Salão de Jogos', 'Playground', 'Academia', 'Estacionamento Visitantes', 'Segurança Interna', 'Churrasqueira']\",\n",
       "    'entorno': \"['Próximo a Serviços de Saúde', 'Próximo a Centro Empresarial', 'Próximo a Áreas de Lazer', 'Próximo a Escola Particular', 'Próximo ao Metrô', 'Próximo a Comércio Diversos', 'Próximo a Escola Pública', 'Próximo a Academia']\"}},\n",
       "  'anuncio': {'tipos': {'publicacao': 'Premium', 'listagem': 'Usado'},\n",
       "   'valores': {'venda': 1260000.0,\n",
       "    'aluguel': 0.0,\n",
       "    'condominio': 890.0,\n",
       "    'iptu': 1009.0},\n",
       "   'descricao': 'Amplo imóvel para venda com 2 quartos, sendo 1 suítes, e 2 banheiros no total.'}},\n",
       " {'imovel': {'tipos': {'propriedade': 'Apartamento'},\n",
       "   'endereco': {'bairro': 'Ribeira',\n",
       "    'localizacao': {'type': 'Point',\n",
       "     'coordinates': [-43.1710835, -22.8237953]}},\n",
       "   'vagasGaragem': 1,\n",
       "   'area': 58,\n",
       "   'caracteristicas': {'propriedade': \"['Área de Serviço', 'Gás Encanado', 'Cozinha Americana', 'Quarto/WC Empregada', 'Sauna', 'Piscina', 'Terraço', 'Armários Planejados', 'Acessibilidade']\",\n",
       "    'condominio': \"['Acessibilidade', 'Aceita Pet', 'Quadra Poliesportiva', 'Academia', 'Sauna', 'Comércio/Serviços no Condomínio', 'Salão de Jogos', 'Estacionamento Visitantes', 'Piscina', 'Serviço de Transporte no Condomínio', 'Elevador', 'Estacionamento Coberto', 'Playground', 'Porteiro 24 Horas', 'Sistema de Incêndio', 'Churrasqueira', 'Salão de Festas', 'Segurança Interna', 'Bicicletário']\",\n",
       "    'entorno': \"['Próximo a Serviços de Saúde']\"}},\n",
       "  'anuncio': {'tipos': {'publicacao': 'Super Destaque', 'listagem': 'Usado'},\n",
       "   'valores': {'venda': 470000.0,\n",
       "    'aluguel': 0.0,\n",
       "    'condominio': 350.0,\n",
       "    'iptu': 300.0},\n",
       "   'descricao': 'Amplo imóvel para venda com 2 quartos, sendo 0 suítes, e 1 banheiros no total.'}},\n",
       " {'imovel': {'tipos': {'propriedade': 'Imóvel Comercial'},\n",
       "   'endereco': {'bairro': 'Barra da Tijuca',\n",
       "    'localizacao': {'type': 'Point',\n",
       "     'coordinates': [-43.3752545, -23.0031345]}},\n",
       "   'vagasGaragem': 9,\n",
       "   'area': 950,\n",
       "   'caracteristicas': {'propriedade': \"['Acessibilidade', 'Cozinha Americana', 'Varanda', 'Gás Encanado', 'Closet']\",\n",
       "    'condominio': \"['Bicicletário', 'Quadra Poliesportiva']\",\n",
       "    'entorno': \"['Próximo a Áreas de Lazer', 'Próximo a Restaurante', 'Próximo a Farmácia', 'Próximo a Escola Particular', 'Próximo a Parques e Áreas Verdes', 'Próximo a Centro Empresarial', 'Próximo a Comércio Diversos', 'Próximo a Serviços de Saúde', 'Próximo a Praia', 'Próximo a Academia', 'Próximo ao Metrô']\"}},\n",
       "  'anuncio': {'tipos': {'publicacao': 'Padrão', 'listagem': 'Usado'},\n",
       "   'valores': {'venda': 6900000.0,\n",
       "    'aluguel': 0.0,\n",
       "    'condominio': 1000.0,\n",
       "    'iptu': 1800.0},\n",
       "   'descricao': 'Amplo imóvel para venda com 6 quartos, sendo 5 suítes, e 6 banheiros no total.'}},\n",
       " {'imovel': {'tipos': {'propriedade': 'Casa'},\n",
       "   'endereco': {'bairro': 'Jacarepaguá',\n",
       "    'localizacao': {'type': 'Point', 'coordinates': [0, 0]}},\n",
       "   'vagasGaragem': 1,\n",
       "   'area': 50,\n",
       "   'caracteristicas': {'propriedade': \"['Sauna', 'Piscina', 'Closet', 'Varanda', 'Acessibilidade', 'Armários Planejados', 'Mobiliado']\",\n",
       "    'condominio': \"['Quadra Poliesportiva', 'Comércio/Serviços no Condomínio', 'Serviço de Transporte no Condomínio', 'Salão de Festas', 'Playground', 'Estacionamento Coberto', 'Aceita Pet', 'Academia']\",\n",
       "    'entorno': \"['Próximo ao Shopping', 'Próximo a Escola Particular', 'Próximo a Comércio Diversos', 'Próximo a Restaurante', 'Próximo a Escola Pública', 'Próximo a Mercado', 'Próximo a Praia', 'Próximo a Academia']\"}},\n",
       "  'anuncio': {'tipos': {'publicacao': 'Padrão', 'listagem': 'Usado'},\n",
       "   'valores': {'venda': 244000.0,\n",
       "    'aluguel': 0.0,\n",
       "    'condominio': 450.0,\n",
       "    'iptu': 330.0},\n",
       "   'descricao': 'Amplo imóvel para venda com 2 quartos, sendo 0 suítes, e 1 banheiros no total.'}},\n",
       " {'imovel': {'tipos': {'propriedade': 'Apartamento'},\n",
       "   'endereco': {'bairro': 'Botafogo',\n",
       "    'localizacao': {'type': 'Point',\n",
       "     'coordinates': [-43.187335, -22.9564526]}},\n",
       "   'vagasGaragem': 0,\n",
       "   'area': 0,\n",
       "   'caracteristicas': {'propriedade': \"['Mobiliado', 'Vista Panorâmica']\",\n",
       "    'condominio': \"['Comércio/Serviços no Condomínio', 'Playground', 'Depósito Privativo', 'Sauna', 'Serviço de Transporte no Condomínio', 'Churrasqueira', 'Quadra Poliesportiva', 'Segurança Interna', 'Piscina', 'Aceita Pet', 'Porteiro 24 Horas', 'Elevador', 'Bicicletário', 'Sistema de Incêndio', 'Salão de Festas', 'Academia', 'Estacionamento Coberto', 'Acessibilidade', 'Salão de Jogos', 'Estacionamento Visitantes']\",\n",
       "    'entorno': '[]'}},\n",
       "  'anuncio': {'tipos': {'publicacao': 'Padrão', 'listagem': 'Usado'},\n",
       "   'valores': {'venda': 1890000.0,\n",
       "    'aluguel': 0.0,\n",
       "    'condominio': 0.0,\n",
       "    'iptu': 0.0},\n",
       "   'descricao': 'Amplo imóvel para venda com 0 quartos, sendo 0 suítes, e 1 banheiros no total.'}},\n",
       " {'imovel': {'tipos': {'propriedade': 'Apartamento'},\n",
       "   'endereco': {'bairro': 'Copacabana',\n",
       "    'localizacao': {'type': 'Point', 'coordinates': [0, 0]}},\n",
       "   'vagasGaragem': 0,\n",
       "   'area': 70,\n",
       "   'caracteristicas': {'propriedade': '[]',\n",
       "    'condominio': '[]',\n",
       "    'entorno': \"['Próximo a Serviços de Saúde', 'Próximo a Parques e Áreas Verdes', 'Próximo a Escola Particular', 'Próximo a Praia', 'Próximo a Comércio Diversos', 'Próximo a Escola Pública', 'Próximo a Restaurante', 'Próximo ao Metrô', 'Próximo a Farmácia', 'Próximo a Academia', 'Próximo a Mercado', 'Próximo a Áreas de Lazer', 'Próximo ao Shopping']\"}},\n",
       "  'anuncio': {'tipos': {'publicacao': 'Padrão', 'listagem': 'Usado'},\n",
       "   'valores': {'venda': 735000.0,\n",
       "    'aluguel': 0.0,\n",
       "    'condominio': 800.0,\n",
       "    'iptu': 700.0},\n",
       "   'descricao': 'Amplo imóvel para venda com 2 quartos, sendo 0 suítes, e 1 banheiros no total.'}},\n",
       " {'imovel': {'tipos': {'propriedade': 'Casa'},\n",
       "   'endereco': {'bairro': 'Botafogo',\n",
       "    'localizacao': {'type': 'Point',\n",
       "     'coordinates': [-43.1816275, -22.9443828]}},\n",
       "   'vagasGaragem': 2,\n",
       "   'area': 199,\n",
       "   'caracteristicas': {'propriedade': \"['Cozinha Americana', 'Vista Panorâmica', 'Gás Encanado', 'Terraço', 'Acessibilidade', 'Ambientes Integrados', 'Sauna', 'Piscina', 'Churrasqueira', 'Mobiliado', 'Varanda', 'Quarto/WC Empregada']\",\n",
       "    'condominio': \"['Porteiro 24 Horas', 'Playground', 'Segurança Interna', 'Academia', 'Depósito Privativo', 'Estacionamento Coberto']\",\n",
       "    'entorno': \"['Próximo ao Metrô', 'Próximo a Escola Particular', 'Próximo a Áreas de Lazer', 'Próximo ao Shopping', 'Próximo a Escola Pública', 'Próximo a Centro Empresarial', 'Próximo a Parques e Áreas Verdes', 'Próximo a Serviços de Saúde', 'Próximo a Restaurante', 'Próximo a Academia', 'Próximo a Farmácia', 'Próximo a Mercado', 'Próximo a Praia', 'Próximo a Comércio Diversos']\"}},\n",
       "  'anuncio': {'tipos': {'publicacao': 'Super Destaque', 'listagem': 'Usado'},\n",
       "   'valores': {'venda': 2190000.0,\n",
       "    'aluguel': 0.0,\n",
       "    'condominio': 2050.0,\n",
       "    'iptu': 397.0},\n",
       "   'descricao': 'Amplo imóvel para venda com 4 quartos, sendo 1 suítes, e 2 banheiros no total.'}},\n",
       " {'imovel': {'tipos': {'propriedade': 'Apartamento'},\n",
       "   'endereco': {'bairro': 'Lapa',\n",
       "    'localizacao': {'type': 'Point',\n",
       "     'coordinates': [-43.1825899, -22.9144053]}},\n",
       "   'vagasGaragem': 2,\n",
       "   'area': 170,\n",
       "   'caracteristicas': {'propriedade': \"['Mobiliado', 'Varanda', 'Cozinha Americana', 'Armários Planejados', 'Closet', 'Gás Encanado', 'Ambientes Integrados', 'Vista Panorâmica', 'Terraço', 'Acessibilidade', 'Quarto/WC Empregada', 'Área de Serviço', 'Piscina', 'Churrasqueira']\",\n",
       "    'condominio': \"['Elevador', 'Bicicletário', 'Porteiro 24 Horas', 'Salão de Jogos', 'Churrasqueira', 'Playground', 'Acessibilidade', 'Academia', 'Aceita Pet', 'Serviço de Transporte no Condomínio', 'Comércio/Serviços no Condomínio', 'Piscina', 'Estacionamento Visitantes', 'Quadra Poliesportiva', 'Sauna', 'Estacionamento Coberto']\",\n",
       "    'entorno': \"['Próximo a Serviços de Saúde', 'Próximo a Escola Particular', 'Próximo a Parques e Áreas Verdes']\"}},\n",
       "  'anuncio': {'tipos': {'publicacao': 'Destaque', 'listagem': 'Lançamento'},\n",
       "   'valores': {'venda': 690000.0,\n",
       "    'aluguel': 0.0,\n",
       "    'condominio': 480.0,\n",
       "    'iptu': 0.0},\n",
       "   'descricao': 'Amplo imóvel para venda com 2 quartos, sendo 1 suítes, e 2 banheiros no total.'}},\n",
       " {'imovel': {'tipos': {'propriedade': 'Cobertura'},\n",
       "   'endereco': {'bairro': 'Copacabana',\n",
       "    'localizacao': {'type': 'Point',\n",
       "     'coordinates': [-43.1888153, -22.9778673]}},\n",
       "   'vagasGaragem': 2,\n",
       "   'area': 250,\n",
       "   'caracteristicas': {'propriedade': \"['Ambientes Integrados', 'Sauna', 'Piscina', 'Vista Panorâmica', 'Closet', 'Área de Serviço', 'Varanda', 'Cozinha Americana', 'Gás Encanado', 'Churrasqueira', 'Mobiliado', 'Armários Planejados', 'Acessibilidade', 'Terraço', 'Quarto/WC Empregada']\",\n",
       "    'condominio': \"['Estacionamento Visitantes', 'Estacionamento Coberto', 'Bicicletário', 'Piscina', 'Quadra Poliesportiva', 'Sauna', 'Segurança Interna', 'Depósito Privativo', 'Serviço de Transporte no Condomínio', 'Elevador', 'Salão de Jogos', 'Aceita Pet', 'Porteiro 24 Horas', 'Playground', 'Sistema de Incêndio', 'Churrasqueira', 'Academia', 'Acessibilidade', 'Salão de Festas', 'Comércio/Serviços no Condomínio']\",\n",
       "    'entorno': \"['Próximo a Serviços de Saúde', 'Próximo a Academia', 'Próximo a Restaurante', 'Próximo a Praia', 'Próximo a Parques e Áreas Verdes', 'Próximo a Centro Empresarial', 'Próximo a Farmácia', 'Próximo a Mercado']\"}},\n",
       "  'anuncio': {'tipos': {'publicacao': 'Destaque', 'listagem': 'Lançamento'},\n",
       "   'valores': {'venda': 3000000.0,\n",
       "    'aluguel': 0.0,\n",
       "    'condominio': 1800.0,\n",
       "    'iptu': 500.0},\n",
       "   'descricao': 'Amplo imóvel para venda com 3 quartos, sendo 1 suítes, e 2 banheiros no total.'}},\n",
       " {'imovel': {'tipos': {'propriedade': 'Apartamento'},\n",
       "   'endereco': {'bairro': 'Rocha',\n",
       "    'localizacao': {'type': 'Point',\n",
       "     'coordinates': [-43.2499016, -22.9017852]}},\n",
       "   'vagasGaragem': 0,\n",
       "   'area': 67,\n",
       "   'caracteristicas': {'propriedade': \"['Acessibilidade', 'Gás Encanado', 'Área de Serviço', 'Closet', 'Quarto/WC Empregada', 'Sauna', 'Armários Planejados', 'Vista Panorâmica', 'Cozinha Americana']\",\n",
       "    'condominio': \"['Segurança Interna', 'Depósito Privativo', 'Academia', 'Sistema de Incêndio', 'Elevador']\",\n",
       "    'entorno': \"['Próximo a Comércio Diversos', 'Próximo a Escola Particular', 'Próximo a Academia', 'Próximo a Praia', 'Próximo a Farmácia', 'Próximo a Mercado', 'Próximo a Parques e Áreas Verdes', 'Próximo a Serviços de Saúde']\"}},\n",
       "  'anuncio': {'tipos': {'publicacao': 'Super Destaque', 'listagem': 'Usado'},\n",
       "   'valores': {'venda': 320000.0,\n",
       "    'aluguel': 0.0,\n",
       "    'condominio': 0.0,\n",
       "    'iptu': 135.0},\n",
       "   'descricao': 'Amplo imóvel para venda com 2 quartos, sendo 0 suítes, e 1 banheiros no total.'}},\n",
       " {'imovel': {'tipos': {'propriedade': 'Casa'},\n",
       "   'endereco': {'bairro': 'Barra da Tijuca',\n",
       "    'localizacao': {'type': 'Point', 'coordinates': [-43.3413206, -22.99961]}},\n",
       "   'vagasGaragem': 0,\n",
       "   'area': 370,\n",
       "   'caracteristicas': {'propriedade': \"['Acessibilidade', 'Quarto/WC Empregada', 'Armários Planejados', 'Área de Serviço', 'Ambientes Integrados', 'Varanda', 'Sauna']\",\n",
       "    'condominio': \"['Churrasqueira', 'Depósito Privativo', 'Quadra Poliesportiva', 'Comércio/Serviços no Condomínio', 'Estacionamento Coberto', 'Acessibilidade', 'Segurança Interna', 'Sauna', 'Piscina', 'Elevador', 'Bicicletário', 'Salão de Jogos', 'Sistema de Incêndio', 'Academia', 'Estacionamento Visitantes', 'Playground', 'Serviço de Transporte no Condomínio', 'Salão de Festas']\",\n",
       "    'entorno': \"['Próximo a Restaurante', 'Próximo a Comércio Diversos', 'Próximo a Academia', 'Próximo a Serviços de Saúde', 'Próximo ao Shopping']\"}},\n",
       "  'anuncio': {'tipos': {'publicacao': 'Super Destaque', 'listagem': 'Usado'},\n",
       "   'valores': {'venda': 3200000.0,\n",
       "    'aluguel': 0.0,\n",
       "    'condominio': 2520.0,\n",
       "    'iptu': 7600.0},\n",
       "   'descricao': 'Amplo imóvel para venda com 4 quartos, sendo 1 suítes, e 2 banheiros no total.'}},\n",
       " {'imovel': {'tipos': {'propriedade': 'Casa'},\n",
       "   'endereco': {'bairro': 'Copacabana',\n",
       "    'localizacao': {'type': 'Point',\n",
       "     'coordinates': [-43.1918012, -22.9756286]}},\n",
       "   'vagasGaragem': 0,\n",
       "   'area': 30,\n",
       "   'caracteristicas': {'propriedade': \"['Cozinha Americana', 'Mobiliado', 'Sauna', 'Piscina', 'Varanda', 'Vista Panorâmica', 'Ambientes Integrados', 'Churrasqueira', 'Acessibilidade', 'Terraço']\",\n",
       "    'condominio': \"['Estacionamento Coberto', 'Quadra Poliesportiva', 'Aceita Pet', 'Porteiro 24 Horas', 'Depósito Privativo', 'Serviço de Transporte no Condomínio', 'Salão de Festas', 'Acessibilidade', 'Estacionamento Visitantes', 'Playground', 'Salão de Jogos']\",\n",
       "    'entorno': \"['Próximo ao Shopping', 'Próximo a Mercado', 'Próximo a Restaurante']\"}},\n",
       "  'anuncio': {'tipos': {'publicacao': 'Padrão', 'listagem': 'Usado'},\n",
       "   'valores': {'venda': 650000.0,\n",
       "    'aluguel': 0.0,\n",
       "    'condominio': 0.0,\n",
       "    'iptu': 0.0},\n",
       "   'descricao': 'Amplo imóvel para venda com 1 quartos, sendo 0 suítes, e 1 banheiros no total.'}},\n",
       " {'imovel': {'tipos': {'propriedade': 'Casa'},\n",
       "   'endereco': {'bairro': 'Flamengo',\n",
       "    'localizacao': {'type': 'Point',\n",
       "     'coordinates': [-43.1758048, -22.9339568]}},\n",
       "   'vagasGaragem': 0,\n",
       "   'area': 46,\n",
       "   'caracteristicas': {'propriedade': \"['Varanda', 'Closet', 'Armários Planejados', 'Piscina', 'Ambientes Integrados', 'Mobiliado', 'Área de Serviço', 'Acessibilidade', 'Churrasqueira', 'Cozinha Americana', 'Terraço']\",\n",
       "    'condominio': \"['Serviço de Transporte no Condomínio', 'Bicicletário', 'Sauna', 'Comércio/Serviços no Condomínio', 'Estacionamento Visitantes', 'Acessibilidade', 'Elevador', 'Churrasqueira', 'Depósito Privativo', 'Academia', 'Playground', 'Segurança Interna', 'Quadra Poliesportiva', 'Sistema de Incêndio']\",\n",
       "    'entorno': '[]'}},\n",
       "  'anuncio': {'tipos': {'publicacao': 'Padrão', 'listagem': 'Usado'},\n",
       "   'valores': {'venda': 510000.0,\n",
       "    'aluguel': 0.0,\n",
       "    'condominio': 535.0,\n",
       "    'iptu': 724.0},\n",
       "   'descricao': 'Amplo imóvel para venda com 1 quartos, sendo 0 suítes, e 1 banheiros no total.'}}]"
      ]
     },
     "execution_count": 77,
     "metadata": {},
     "output_type": "execute_result"
    }
   ],
   "source": [
    "dados_normal['listings'].iloc[0]"
   ]
  },
  {
   "cell_type": "code",
   "execution_count": 78,
   "metadata": {
    "id": "NyQdnK6tevgW"
   },
   "outputs": [
    {
     "data": {
      "text/plain": [
       "list"
      ]
     },
     "execution_count": 78,
     "metadata": {},
     "output_type": "execute_result"
    }
   ],
   "source": [
    "type(dados_normal['listings'].iloc[0])"
   ]
  },
  {
   "cell_type": "code",
   "execution_count": 79,
   "metadata": {
    "id": "Sz6n0-4gevgW",
    "scrolled": true
   },
   "outputs": [
    {
     "data": {
      "text/plain": [
       "50"
      ]
     },
     "execution_count": 79,
     "metadata": {},
     "output_type": "execute_result"
    }
   ],
   "source": [
    "len(dados_normal['listings'].iloc[0])"
   ]
  },
  {
   "cell_type": "code",
   "execution_count": 80,
   "metadata": {
    "id": "nyYi0xgEevgW"
   },
   "outputs": [
    {
     "data": {
      "text/html": [
       "<div>\n",
       "<style scoped>\n",
       "    .dataframe tbody tr th:only-of-type {\n",
       "        vertical-align: middle;\n",
       "    }\n",
       "\n",
       "    .dataframe tbody tr th {\n",
       "        vertical-align: top;\n",
       "    }\n",
       "\n",
       "    .dataframe thead th {\n",
       "        text-align: right;\n",
       "    }\n",
       "</style>\n",
       "<table border=\"1\" class=\"dataframe\">\n",
       "  <thead>\n",
       "    <tr style=\"text-align: right;\">\n",
       "      <th></th>\n",
       "      <th>imovel_tipos_propriedade</th>\n",
       "      <th>imovel_endereco_bairro</th>\n",
       "      <th>imovel_endereco_localizacao_type</th>\n",
       "      <th>imovel_endereco_localizacao_coordinates</th>\n",
       "      <th>imovel_vagasGaragem</th>\n",
       "      <th>imovel_area</th>\n",
       "      <th>imovel_caracteristicas_propriedade</th>\n",
       "      <th>imovel_caracteristicas_condominio</th>\n",
       "      <th>imovel_caracteristicas_entorno</th>\n",
       "      <th>anuncio_tipos_publicacao</th>\n",
       "      <th>anuncio_tipos_listagem</th>\n",
       "      <th>anuncio_valores_venda</th>\n",
       "      <th>anuncio_valores_aluguel</th>\n",
       "      <th>anuncio_valores_condominio</th>\n",
       "      <th>anuncio_valores_iptu</th>\n",
       "      <th>anuncio_descricao</th>\n",
       "    </tr>\n",
       "  </thead>\n",
       "  <tbody>\n",
       "    <tr>\n",
       "      <th>0</th>\n",
       "      <td>Casa</td>\n",
       "      <td>Barra da Tijuca</td>\n",
       "      <td>Point</td>\n",
       "      <td>[-43.3039086, -23.0139692]</td>\n",
       "      <td>4</td>\n",
       "      <td>279</td>\n",
       "      <td>['Área de Serviço', 'Terraço', 'Churrasqueira'...</td>\n",
       "      <td>['Churrasqueira', 'Salão de Jogos', 'Sauna', '...</td>\n",
       "      <td>['Próximo a Escola Particular', 'Próximo ao Me...</td>\n",
       "      <td>Padrão</td>\n",
       "      <td>Lançamento</td>\n",
       "      <td>2400000.0</td>\n",
       "      <td>0.0</td>\n",
       "      <td>790.0</td>\n",
       "      <td>5700.0</td>\n",
       "      <td>Amplo imóvel para venda com 3 quartos, sendo 1...</td>\n",
       "    </tr>\n",
       "    <tr>\n",
       "      <th>1</th>\n",
       "      <td>Apartamento</td>\n",
       "      <td>Campo Grande</td>\n",
       "      <td>Point</td>\n",
       "      <td>[0, 0]</td>\n",
       "      <td>1</td>\n",
       "      <td>60</td>\n",
       "      <td>['Sauna']</td>\n",
       "      <td>['Elevador', 'Playground', 'Salão de Festas', ...</td>\n",
       "      <td>['Próximo ao Shopping', 'Próximo a Áreas de La...</td>\n",
       "      <td>Padrão</td>\n",
       "      <td>Usado</td>\n",
       "      <td>200000.0</td>\n",
       "      <td>0.0</td>\n",
       "      <td>0.0</td>\n",
       "      <td>0.0</td>\n",
       "      <td>Amplo imóvel para venda com 2 quartos, sendo 0...</td>\n",
       "    </tr>\n",
       "    <tr>\n",
       "      <th>2</th>\n",
       "      <td>Cobertura</td>\n",
       "      <td>Barra da Tijuca</td>\n",
       "      <td>Point</td>\n",
       "      <td>[-43.3037186, -22.9951304]</td>\n",
       "      <td>2</td>\n",
       "      <td>380</td>\n",
       "      <td>['Acessibilidade', 'Área de Serviço', 'Sauna',...</td>\n",
       "      <td>['Sauna', 'Playground', 'Quadra Poliesportiva'...</td>\n",
       "      <td>['Próximo a Escola Particular']</td>\n",
       "      <td>Premium</td>\n",
       "      <td>Usado</td>\n",
       "      <td>4400000.0</td>\n",
       "      <td>0.0</td>\n",
       "      <td>1200.0</td>\n",
       "      <td>850.0</td>\n",
       "      <td>Amplo imóvel para venda com 5 quartos, sendo 4...</td>\n",
       "    </tr>\n",
       "    <tr>\n",
       "      <th>3</th>\n",
       "      <td>Cobertura</td>\n",
       "      <td>Barra da Tijuca</td>\n",
       "      <td>Point</td>\n",
       "      <td>[-43.3548121, -23.0097423]</td>\n",
       "      <td>1</td>\n",
       "      <td>73</td>\n",
       "      <td>['Vista Panorâmica', 'Piscina', 'Sauna', 'Clos...</td>\n",
       "      <td>['Quadra Poliesportiva', 'Aceita Pet', 'Playgr...</td>\n",
       "      <td>['Próximo a Farmácia', 'Próximo a Academia', '...</td>\n",
       "      <td>Padrão</td>\n",
       "      <td>Usado</td>\n",
       "      <td>1100000.0</td>\n",
       "      <td>0.0</td>\n",
       "      <td>1300.0</td>\n",
       "      <td>364.0</td>\n",
       "      <td>Amplo imóvel para venda com 2 quartos, sendo 1...</td>\n",
       "    </tr>\n",
       "    <tr>\n",
       "      <th>4</th>\n",
       "      <td>Sala Comercial</td>\n",
       "      <td>Glória</td>\n",
       "      <td>Point</td>\n",
       "      <td>[-43.1779703, -22.9174894]</td>\n",
       "      <td>1</td>\n",
       "      <td>32</td>\n",
       "      <td>['Armários Planejados']</td>\n",
       "      <td>['Quadra Poliesportiva', 'Porteiro 24 Horas', ...</td>\n",
       "      <td>['Próximo a Centro Empresarial', 'Próximo a Ár...</td>\n",
       "      <td>Padrão</td>\n",
       "      <td>Usado</td>\n",
       "      <td>260000.0</td>\n",
       "      <td>0.0</td>\n",
       "      <td>450.0</td>\n",
       "      <td>800.0</td>\n",
       "      <td>Amplo imóvel para venda com 0 quartos, sendo 0...</td>\n",
       "    </tr>\n",
       "    <tr>\n",
       "      <th>...</th>\n",
       "      <td>...</td>\n",
       "      <td>...</td>\n",
       "      <td>...</td>\n",
       "      <td>...</td>\n",
       "      <td>...</td>\n",
       "      <td>...</td>\n",
       "      <td>...</td>\n",
       "      <td>...</td>\n",
       "      <td>...</td>\n",
       "      <td>...</td>\n",
       "      <td>...</td>\n",
       "      <td>...</td>\n",
       "      <td>...</td>\n",
       "      <td>...</td>\n",
       "      <td>...</td>\n",
       "      <td>...</td>\n",
       "    </tr>\n",
       "    <tr>\n",
       "      <th>45</th>\n",
       "      <td>Cobertura</td>\n",
       "      <td>Copacabana</td>\n",
       "      <td>Point</td>\n",
       "      <td>[-43.1888153, -22.9778673]</td>\n",
       "      <td>2</td>\n",
       "      <td>250</td>\n",
       "      <td>['Ambientes Integrados', 'Sauna', 'Piscina', '...</td>\n",
       "      <td>['Estacionamento Visitantes', 'Estacionamento ...</td>\n",
       "      <td>['Próximo a Serviços de Saúde', 'Próximo a Aca...</td>\n",
       "      <td>Destaque</td>\n",
       "      <td>Lançamento</td>\n",
       "      <td>3000000.0</td>\n",
       "      <td>0.0</td>\n",
       "      <td>1800.0</td>\n",
       "      <td>500.0</td>\n",
       "      <td>Amplo imóvel para venda com 3 quartos, sendo 1...</td>\n",
       "    </tr>\n",
       "    <tr>\n",
       "      <th>46</th>\n",
       "      <td>Apartamento</td>\n",
       "      <td>Rocha</td>\n",
       "      <td>Point</td>\n",
       "      <td>[-43.2499016, -22.9017852]</td>\n",
       "      <td>0</td>\n",
       "      <td>67</td>\n",
       "      <td>['Acessibilidade', 'Gás Encanado', 'Área de Se...</td>\n",
       "      <td>['Segurança Interna', 'Depósito Privativo', 'A...</td>\n",
       "      <td>['Próximo a Comércio Diversos', 'Próximo a Esc...</td>\n",
       "      <td>Super Destaque</td>\n",
       "      <td>Usado</td>\n",
       "      <td>320000.0</td>\n",
       "      <td>0.0</td>\n",
       "      <td>0.0</td>\n",
       "      <td>135.0</td>\n",
       "      <td>Amplo imóvel para venda com 2 quartos, sendo 0...</td>\n",
       "    </tr>\n",
       "    <tr>\n",
       "      <th>47</th>\n",
       "      <td>Casa</td>\n",
       "      <td>Barra da Tijuca</td>\n",
       "      <td>Point</td>\n",
       "      <td>[-43.3413206, -22.99961]</td>\n",
       "      <td>0</td>\n",
       "      <td>370</td>\n",
       "      <td>['Acessibilidade', 'Quarto/WC Empregada', 'Arm...</td>\n",
       "      <td>['Churrasqueira', 'Depósito Privativo', 'Quadr...</td>\n",
       "      <td>['Próximo a Restaurante', 'Próximo a Comércio ...</td>\n",
       "      <td>Super Destaque</td>\n",
       "      <td>Usado</td>\n",
       "      <td>3200000.0</td>\n",
       "      <td>0.0</td>\n",
       "      <td>2520.0</td>\n",
       "      <td>7600.0</td>\n",
       "      <td>Amplo imóvel para venda com 4 quartos, sendo 1...</td>\n",
       "    </tr>\n",
       "    <tr>\n",
       "      <th>48</th>\n",
       "      <td>Casa</td>\n",
       "      <td>Copacabana</td>\n",
       "      <td>Point</td>\n",
       "      <td>[-43.1918012, -22.9756286]</td>\n",
       "      <td>0</td>\n",
       "      <td>30</td>\n",
       "      <td>['Cozinha Americana', 'Mobiliado', 'Sauna', 'P...</td>\n",
       "      <td>['Estacionamento Coberto', 'Quadra Poliesporti...</td>\n",
       "      <td>['Próximo ao Shopping', 'Próximo a Mercado', '...</td>\n",
       "      <td>Padrão</td>\n",
       "      <td>Usado</td>\n",
       "      <td>650000.0</td>\n",
       "      <td>0.0</td>\n",
       "      <td>0.0</td>\n",
       "      <td>0.0</td>\n",
       "      <td>Amplo imóvel para venda com 1 quartos, sendo 0...</td>\n",
       "    </tr>\n",
       "    <tr>\n",
       "      <th>49</th>\n",
       "      <td>Casa</td>\n",
       "      <td>Flamengo</td>\n",
       "      <td>Point</td>\n",
       "      <td>[-43.1758048, -22.9339568]</td>\n",
       "      <td>0</td>\n",
       "      <td>46</td>\n",
       "      <td>['Varanda', 'Closet', 'Armários Planejados', '...</td>\n",
       "      <td>['Serviço de Transporte no Condomínio', 'Bicic...</td>\n",
       "      <td>[]</td>\n",
       "      <td>Padrão</td>\n",
       "      <td>Usado</td>\n",
       "      <td>510000.0</td>\n",
       "      <td>0.0</td>\n",
       "      <td>535.0</td>\n",
       "      <td>724.0</td>\n",
       "      <td>Amplo imóvel para venda com 1 quartos, sendo 0...</td>\n",
       "    </tr>\n",
       "  </tbody>\n",
       "</table>\n",
       "<p>50 rows × 16 columns</p>\n",
       "</div>"
      ],
      "text/plain": [
       "   imovel_tipos_propriedade imovel_endereco_bairro  \\\n",
       "0                      Casa        Barra da Tijuca   \n",
       "1               Apartamento           Campo Grande   \n",
       "2                 Cobertura        Barra da Tijuca   \n",
       "3                 Cobertura        Barra da Tijuca   \n",
       "4            Sala Comercial                 Glória   \n",
       "..                      ...                    ...   \n",
       "45                Cobertura             Copacabana   \n",
       "46              Apartamento                  Rocha   \n",
       "47                     Casa        Barra da Tijuca   \n",
       "48                     Casa             Copacabana   \n",
       "49                     Casa               Flamengo   \n",
       "\n",
       "   imovel_endereco_localizacao_type imovel_endereco_localizacao_coordinates  \\\n",
       "0                             Point              [-43.3039086, -23.0139692]   \n",
       "1                             Point                                  [0, 0]   \n",
       "2                             Point              [-43.3037186, -22.9951304]   \n",
       "3                             Point              [-43.3548121, -23.0097423]   \n",
       "4                             Point              [-43.1779703, -22.9174894]   \n",
       "..                              ...                                     ...   \n",
       "45                            Point              [-43.1888153, -22.9778673]   \n",
       "46                            Point              [-43.2499016, -22.9017852]   \n",
       "47                            Point                [-43.3413206, -22.99961]   \n",
       "48                            Point              [-43.1918012, -22.9756286]   \n",
       "49                            Point              [-43.1758048, -22.9339568]   \n",
       "\n",
       "    imovel_vagasGaragem  imovel_area  \\\n",
       "0                     4          279   \n",
       "1                     1           60   \n",
       "2                     2          380   \n",
       "3                     1           73   \n",
       "4                     1           32   \n",
       "..                  ...          ...   \n",
       "45                    2          250   \n",
       "46                    0           67   \n",
       "47                    0          370   \n",
       "48                    0           30   \n",
       "49                    0           46   \n",
       "\n",
       "                   imovel_caracteristicas_propriedade  \\\n",
       "0   ['Área de Serviço', 'Terraço', 'Churrasqueira'...   \n",
       "1                                           ['Sauna']   \n",
       "2   ['Acessibilidade', 'Área de Serviço', 'Sauna',...   \n",
       "3   ['Vista Panorâmica', 'Piscina', 'Sauna', 'Clos...   \n",
       "4                             ['Armários Planejados']   \n",
       "..                                                ...   \n",
       "45  ['Ambientes Integrados', 'Sauna', 'Piscina', '...   \n",
       "46  ['Acessibilidade', 'Gás Encanado', 'Área de Se...   \n",
       "47  ['Acessibilidade', 'Quarto/WC Empregada', 'Arm...   \n",
       "48  ['Cozinha Americana', 'Mobiliado', 'Sauna', 'P...   \n",
       "49  ['Varanda', 'Closet', 'Armários Planejados', '...   \n",
       "\n",
       "                    imovel_caracteristicas_condominio  \\\n",
       "0   ['Churrasqueira', 'Salão de Jogos', 'Sauna', '...   \n",
       "1   ['Elevador', 'Playground', 'Salão de Festas', ...   \n",
       "2   ['Sauna', 'Playground', 'Quadra Poliesportiva'...   \n",
       "3   ['Quadra Poliesportiva', 'Aceita Pet', 'Playgr...   \n",
       "4   ['Quadra Poliesportiva', 'Porteiro 24 Horas', ...   \n",
       "..                                                ...   \n",
       "45  ['Estacionamento Visitantes', 'Estacionamento ...   \n",
       "46  ['Segurança Interna', 'Depósito Privativo', 'A...   \n",
       "47  ['Churrasqueira', 'Depósito Privativo', 'Quadr...   \n",
       "48  ['Estacionamento Coberto', 'Quadra Poliesporti...   \n",
       "49  ['Serviço de Transporte no Condomínio', 'Bicic...   \n",
       "\n",
       "                       imovel_caracteristicas_entorno  \\\n",
       "0   ['Próximo a Escola Particular', 'Próximo ao Me...   \n",
       "1   ['Próximo ao Shopping', 'Próximo a Áreas de La...   \n",
       "2                     ['Próximo a Escola Particular']   \n",
       "3   ['Próximo a Farmácia', 'Próximo a Academia', '...   \n",
       "4   ['Próximo a Centro Empresarial', 'Próximo a Ár...   \n",
       "..                                                ...   \n",
       "45  ['Próximo a Serviços de Saúde', 'Próximo a Aca...   \n",
       "46  ['Próximo a Comércio Diversos', 'Próximo a Esc...   \n",
       "47  ['Próximo a Restaurante', 'Próximo a Comércio ...   \n",
       "48  ['Próximo ao Shopping', 'Próximo a Mercado', '...   \n",
       "49                                                 []   \n",
       "\n",
       "   anuncio_tipos_publicacao anuncio_tipos_listagem  anuncio_valores_venda  \\\n",
       "0                    Padrão             Lançamento              2400000.0   \n",
       "1                    Padrão                  Usado               200000.0   \n",
       "2                   Premium                  Usado              4400000.0   \n",
       "3                    Padrão                  Usado              1100000.0   \n",
       "4                    Padrão                  Usado               260000.0   \n",
       "..                      ...                    ...                    ...   \n",
       "45                 Destaque             Lançamento              3000000.0   \n",
       "46           Super Destaque                  Usado               320000.0   \n",
       "47           Super Destaque                  Usado              3200000.0   \n",
       "48                   Padrão                  Usado               650000.0   \n",
       "49                   Padrão                  Usado               510000.0   \n",
       "\n",
       "    anuncio_valores_aluguel  anuncio_valores_condominio  anuncio_valores_iptu  \\\n",
       "0                       0.0                       790.0                5700.0   \n",
       "1                       0.0                         0.0                   0.0   \n",
       "2                       0.0                      1200.0                 850.0   \n",
       "3                       0.0                      1300.0                 364.0   \n",
       "4                       0.0                       450.0                 800.0   \n",
       "..                      ...                         ...                   ...   \n",
       "45                      0.0                      1800.0                 500.0   \n",
       "46                      0.0                         0.0                 135.0   \n",
       "47                      0.0                      2520.0                7600.0   \n",
       "48                      0.0                         0.0                   0.0   \n",
       "49                      0.0                       535.0                 724.0   \n",
       "\n",
       "                                    anuncio_descricao  \n",
       "0   Amplo imóvel para venda com 3 quartos, sendo 1...  \n",
       "1   Amplo imóvel para venda com 2 quartos, sendo 0...  \n",
       "2   Amplo imóvel para venda com 5 quartos, sendo 4...  \n",
       "3   Amplo imóvel para venda com 2 quartos, sendo 1...  \n",
       "4   Amplo imóvel para venda com 0 quartos, sendo 0...  \n",
       "..                                                ...  \n",
       "45  Amplo imóvel para venda com 3 quartos, sendo 1...  \n",
       "46  Amplo imóvel para venda com 2 quartos, sendo 0...  \n",
       "47  Amplo imóvel para venda com 4 quartos, sendo 1...  \n",
       "48  Amplo imóvel para venda com 1 quartos, sendo 0...  \n",
       "49  Amplo imóvel para venda com 1 quartos, sendo 0...  \n",
       "\n",
       "[50 rows x 16 columns]"
      ]
     },
     "execution_count": 80,
     "metadata": {},
     "output_type": "execute_result"
    }
   ],
   "source": [
    "dados_normal_listings = pd.json_normalize(data=dados_normal['listings'].iloc[0], sep='_')\n",
    "dados_normal_listings"
   ]
  },
  {
   "cell_type": "code",
   "execution_count": 81,
   "metadata": {
    "id": "DJqqVu0YevgX"
   },
   "outputs": [
    {
     "data": {
      "text/html": [
       "<div>\n",
       "<style scoped>\n",
       "    .dataframe tbody tr th:only-of-type {\n",
       "        vertical-align: middle;\n",
       "    }\n",
       "\n",
       "    .dataframe tbody tr th {\n",
       "        vertical-align: top;\n",
       "    }\n",
       "\n",
       "    .dataframe thead th {\n",
       "        text-align: right;\n",
       "    }\n",
       "</style>\n",
       "<table border=\"1\" class=\"dataframe\">\n",
       "  <thead>\n",
       "    <tr style=\"text-align: right;\">\n",
       "      <th></th>\n",
       "      <th>imovel_tipos_propriedade</th>\n",
       "      <th>imovel_endereco_bairro</th>\n",
       "      <th>imovel_endereco_localizacao_type</th>\n",
       "      <th>imovel_endereco_localizacao_coordinates</th>\n",
       "      <th>imovel_vagasGaragem</th>\n",
       "      <th>imovel_area</th>\n",
       "      <th>imovel_caracteristicas_propriedade</th>\n",
       "      <th>imovel_caracteristicas_condominio</th>\n",
       "      <th>imovel_caracteristicas_entorno</th>\n",
       "      <th>anuncio_tipos_publicacao</th>\n",
       "      <th>anuncio_tipos_listagem</th>\n",
       "      <th>anuncio_valores_venda</th>\n",
       "      <th>anuncio_valores_aluguel</th>\n",
       "      <th>anuncio_valores_condominio</th>\n",
       "      <th>anuncio_valores_iptu</th>\n",
       "      <th>anuncio_descricao</th>\n",
       "    </tr>\n",
       "  </thead>\n",
       "  <tbody>\n",
       "    <tr>\n",
       "      <th>0</th>\n",
       "      <td>Casa</td>\n",
       "      <td>Barra da Tijuca</td>\n",
       "      <td>Point</td>\n",
       "      <td>[-43.3039086, -23.0139692]</td>\n",
       "      <td>4</td>\n",
       "      <td>279</td>\n",
       "      <td>['Área de Serviço', 'Terraço', 'Churrasqueira'...</td>\n",
       "      <td>['Churrasqueira', 'Salão de Jogos', 'Sauna', '...</td>\n",
       "      <td>['Próximo a Escola Particular', 'Próximo ao Me...</td>\n",
       "      <td>Padrão</td>\n",
       "      <td>Lançamento</td>\n",
       "      <td>2400000.0</td>\n",
       "      <td>0.0</td>\n",
       "      <td>790.0</td>\n",
       "      <td>5700.0</td>\n",
       "      <td>Amplo imóvel para venda com 3 quartos, sendo 1...</td>\n",
       "    </tr>\n",
       "    <tr>\n",
       "      <th>1</th>\n",
       "      <td>Apartamento</td>\n",
       "      <td>Campo Grande</td>\n",
       "      <td>Point</td>\n",
       "      <td>[0, 0]</td>\n",
       "      <td>1</td>\n",
       "      <td>60</td>\n",
       "      <td>['Sauna']</td>\n",
       "      <td>['Elevador', 'Playground', 'Salão de Festas', ...</td>\n",
       "      <td>['Próximo ao Shopping', 'Próximo a Áreas de La...</td>\n",
       "      <td>Padrão</td>\n",
       "      <td>Usado</td>\n",
       "      <td>200000.0</td>\n",
       "      <td>0.0</td>\n",
       "      <td>0.0</td>\n",
       "      <td>0.0</td>\n",
       "      <td>Amplo imóvel para venda com 2 quartos, sendo 0...</td>\n",
       "    </tr>\n",
       "    <tr>\n",
       "      <th>2</th>\n",
       "      <td>Cobertura</td>\n",
       "      <td>Barra da Tijuca</td>\n",
       "      <td>Point</td>\n",
       "      <td>[-43.3037186, -22.9951304]</td>\n",
       "      <td>2</td>\n",
       "      <td>380</td>\n",
       "      <td>['Acessibilidade', 'Área de Serviço', 'Sauna',...</td>\n",
       "      <td>['Sauna', 'Playground', 'Quadra Poliesportiva'...</td>\n",
       "      <td>['Próximo a Escola Particular']</td>\n",
       "      <td>Premium</td>\n",
       "      <td>Usado</td>\n",
       "      <td>4400000.0</td>\n",
       "      <td>0.0</td>\n",
       "      <td>1200.0</td>\n",
       "      <td>850.0</td>\n",
       "      <td>Amplo imóvel para venda com 5 quartos, sendo 4...</td>\n",
       "    </tr>\n",
       "    <tr>\n",
       "      <th>3</th>\n",
       "      <td>Cobertura</td>\n",
       "      <td>Barra da Tijuca</td>\n",
       "      <td>Point</td>\n",
       "      <td>[-43.3548121, -23.0097423]</td>\n",
       "      <td>1</td>\n",
       "      <td>73</td>\n",
       "      <td>['Vista Panorâmica', 'Piscina', 'Sauna', 'Clos...</td>\n",
       "      <td>['Quadra Poliesportiva', 'Aceita Pet', 'Playgr...</td>\n",
       "      <td>['Próximo a Farmácia', 'Próximo a Academia', '...</td>\n",
       "      <td>Padrão</td>\n",
       "      <td>Usado</td>\n",
       "      <td>1100000.0</td>\n",
       "      <td>0.0</td>\n",
       "      <td>1300.0</td>\n",
       "      <td>364.0</td>\n",
       "      <td>Amplo imóvel para venda com 2 quartos, sendo 1...</td>\n",
       "    </tr>\n",
       "    <tr>\n",
       "      <th>4</th>\n",
       "      <td>Sala Comercial</td>\n",
       "      <td>Glória</td>\n",
       "      <td>Point</td>\n",
       "      <td>[-43.1779703, -22.9174894]</td>\n",
       "      <td>1</td>\n",
       "      <td>32</td>\n",
       "      <td>['Armários Planejados']</td>\n",
       "      <td>['Quadra Poliesportiva', 'Porteiro 24 Horas', ...</td>\n",
       "      <td>['Próximo a Centro Empresarial', 'Próximo a Ár...</td>\n",
       "      <td>Padrão</td>\n",
       "      <td>Usado</td>\n",
       "      <td>260000.0</td>\n",
       "      <td>0.0</td>\n",
       "      <td>450.0</td>\n",
       "      <td>800.0</td>\n",
       "      <td>Amplo imóvel para venda com 0 quartos, sendo 0...</td>\n",
       "    </tr>\n",
       "    <tr>\n",
       "      <th>...</th>\n",
       "      <td>...</td>\n",
       "      <td>...</td>\n",
       "      <td>...</td>\n",
       "      <td>...</td>\n",
       "      <td>...</td>\n",
       "      <td>...</td>\n",
       "      <td>...</td>\n",
       "      <td>...</td>\n",
       "      <td>...</td>\n",
       "      <td>...</td>\n",
       "      <td>...</td>\n",
       "      <td>...</td>\n",
       "      <td>...</td>\n",
       "      <td>...</td>\n",
       "      <td>...</td>\n",
       "      <td>...</td>\n",
       "    </tr>\n",
       "    <tr>\n",
       "      <th>45</th>\n",
       "      <td>Cobertura</td>\n",
       "      <td>Copacabana</td>\n",
       "      <td>Point</td>\n",
       "      <td>[-43.1888153, -22.9778673]</td>\n",
       "      <td>2</td>\n",
       "      <td>250</td>\n",
       "      <td>['Ambientes Integrados', 'Sauna', 'Piscina', '...</td>\n",
       "      <td>['Estacionamento Visitantes', 'Estacionamento ...</td>\n",
       "      <td>['Próximo a Serviços de Saúde', 'Próximo a Aca...</td>\n",
       "      <td>Destaque</td>\n",
       "      <td>Lançamento</td>\n",
       "      <td>3000000.0</td>\n",
       "      <td>0.0</td>\n",
       "      <td>1800.0</td>\n",
       "      <td>500.0</td>\n",
       "      <td>Amplo imóvel para venda com 3 quartos, sendo 1...</td>\n",
       "    </tr>\n",
       "    <tr>\n",
       "      <th>46</th>\n",
       "      <td>Apartamento</td>\n",
       "      <td>Rocha</td>\n",
       "      <td>Point</td>\n",
       "      <td>[-43.2499016, -22.9017852]</td>\n",
       "      <td>0</td>\n",
       "      <td>67</td>\n",
       "      <td>['Acessibilidade', 'Gás Encanado', 'Área de Se...</td>\n",
       "      <td>['Segurança Interna', 'Depósito Privativo', 'A...</td>\n",
       "      <td>['Próximo a Comércio Diversos', 'Próximo a Esc...</td>\n",
       "      <td>Super Destaque</td>\n",
       "      <td>Usado</td>\n",
       "      <td>320000.0</td>\n",
       "      <td>0.0</td>\n",
       "      <td>0.0</td>\n",
       "      <td>135.0</td>\n",
       "      <td>Amplo imóvel para venda com 2 quartos, sendo 0...</td>\n",
       "    </tr>\n",
       "    <tr>\n",
       "      <th>47</th>\n",
       "      <td>Casa</td>\n",
       "      <td>Barra da Tijuca</td>\n",
       "      <td>Point</td>\n",
       "      <td>[-43.3413206, -22.99961]</td>\n",
       "      <td>0</td>\n",
       "      <td>370</td>\n",
       "      <td>['Acessibilidade', 'Quarto/WC Empregada', 'Arm...</td>\n",
       "      <td>['Churrasqueira', 'Depósito Privativo', 'Quadr...</td>\n",
       "      <td>['Próximo a Restaurante', 'Próximo a Comércio ...</td>\n",
       "      <td>Super Destaque</td>\n",
       "      <td>Usado</td>\n",
       "      <td>3200000.0</td>\n",
       "      <td>0.0</td>\n",
       "      <td>2520.0</td>\n",
       "      <td>7600.0</td>\n",
       "      <td>Amplo imóvel para venda com 4 quartos, sendo 1...</td>\n",
       "    </tr>\n",
       "    <tr>\n",
       "      <th>48</th>\n",
       "      <td>Casa</td>\n",
       "      <td>Copacabana</td>\n",
       "      <td>Point</td>\n",
       "      <td>[-43.1918012, -22.9756286]</td>\n",
       "      <td>0</td>\n",
       "      <td>30</td>\n",
       "      <td>['Cozinha Americana', 'Mobiliado', 'Sauna', 'P...</td>\n",
       "      <td>['Estacionamento Coberto', 'Quadra Poliesporti...</td>\n",
       "      <td>['Próximo ao Shopping', 'Próximo a Mercado', '...</td>\n",
       "      <td>Padrão</td>\n",
       "      <td>Usado</td>\n",
       "      <td>650000.0</td>\n",
       "      <td>0.0</td>\n",
       "      <td>0.0</td>\n",
       "      <td>0.0</td>\n",
       "      <td>Amplo imóvel para venda com 1 quartos, sendo 0...</td>\n",
       "    </tr>\n",
       "    <tr>\n",
       "      <th>49</th>\n",
       "      <td>Casa</td>\n",
       "      <td>Flamengo</td>\n",
       "      <td>Point</td>\n",
       "      <td>[-43.1758048, -22.9339568]</td>\n",
       "      <td>0</td>\n",
       "      <td>46</td>\n",
       "      <td>['Varanda', 'Closet', 'Armários Planejados', '...</td>\n",
       "      <td>['Serviço de Transporte no Condomínio', 'Bicic...</td>\n",
       "      <td>[]</td>\n",
       "      <td>Padrão</td>\n",
       "      <td>Usado</td>\n",
       "      <td>510000.0</td>\n",
       "      <td>0.0</td>\n",
       "      <td>535.0</td>\n",
       "      <td>724.0</td>\n",
       "      <td>Amplo imóvel para venda com 1 quartos, sendo 0...</td>\n",
       "    </tr>\n",
       "  </tbody>\n",
       "</table>\n",
       "<p>50 rows × 16 columns</p>\n",
       "</div>"
      ],
      "text/plain": [
       "   imovel_tipos_propriedade imovel_endereco_bairro  \\\n",
       "0                      Casa        Barra da Tijuca   \n",
       "1               Apartamento           Campo Grande   \n",
       "2                 Cobertura        Barra da Tijuca   \n",
       "3                 Cobertura        Barra da Tijuca   \n",
       "4            Sala Comercial                 Glória   \n",
       "..                      ...                    ...   \n",
       "45                Cobertura             Copacabana   \n",
       "46              Apartamento                  Rocha   \n",
       "47                     Casa        Barra da Tijuca   \n",
       "48                     Casa             Copacabana   \n",
       "49                     Casa               Flamengo   \n",
       "\n",
       "   imovel_endereco_localizacao_type imovel_endereco_localizacao_coordinates  \\\n",
       "0                             Point              [-43.3039086, -23.0139692]   \n",
       "1                             Point                                  [0, 0]   \n",
       "2                             Point              [-43.3037186, -22.9951304]   \n",
       "3                             Point              [-43.3548121, -23.0097423]   \n",
       "4                             Point              [-43.1779703, -22.9174894]   \n",
       "..                              ...                                     ...   \n",
       "45                            Point              [-43.1888153, -22.9778673]   \n",
       "46                            Point              [-43.2499016, -22.9017852]   \n",
       "47                            Point                [-43.3413206, -22.99961]   \n",
       "48                            Point              [-43.1918012, -22.9756286]   \n",
       "49                            Point              [-43.1758048, -22.9339568]   \n",
       "\n",
       "    imovel_vagasGaragem  imovel_area  \\\n",
       "0                     4          279   \n",
       "1                     1           60   \n",
       "2                     2          380   \n",
       "3                     1           73   \n",
       "4                     1           32   \n",
       "..                  ...          ...   \n",
       "45                    2          250   \n",
       "46                    0           67   \n",
       "47                    0          370   \n",
       "48                    0           30   \n",
       "49                    0           46   \n",
       "\n",
       "                   imovel_caracteristicas_propriedade  \\\n",
       "0   ['Área de Serviço', 'Terraço', 'Churrasqueira'...   \n",
       "1                                           ['Sauna']   \n",
       "2   ['Acessibilidade', 'Área de Serviço', 'Sauna',...   \n",
       "3   ['Vista Panorâmica', 'Piscina', 'Sauna', 'Clos...   \n",
       "4                             ['Armários Planejados']   \n",
       "..                                                ...   \n",
       "45  ['Ambientes Integrados', 'Sauna', 'Piscina', '...   \n",
       "46  ['Acessibilidade', 'Gás Encanado', 'Área de Se...   \n",
       "47  ['Acessibilidade', 'Quarto/WC Empregada', 'Arm...   \n",
       "48  ['Cozinha Americana', 'Mobiliado', 'Sauna', 'P...   \n",
       "49  ['Varanda', 'Closet', 'Armários Planejados', '...   \n",
       "\n",
       "                    imovel_caracteristicas_condominio  \\\n",
       "0   ['Churrasqueira', 'Salão de Jogos', 'Sauna', '...   \n",
       "1   ['Elevador', 'Playground', 'Salão de Festas', ...   \n",
       "2   ['Sauna', 'Playground', 'Quadra Poliesportiva'...   \n",
       "3   ['Quadra Poliesportiva', 'Aceita Pet', 'Playgr...   \n",
       "4   ['Quadra Poliesportiva', 'Porteiro 24 Horas', ...   \n",
       "..                                                ...   \n",
       "45  ['Estacionamento Visitantes', 'Estacionamento ...   \n",
       "46  ['Segurança Interna', 'Depósito Privativo', 'A...   \n",
       "47  ['Churrasqueira', 'Depósito Privativo', 'Quadr...   \n",
       "48  ['Estacionamento Coberto', 'Quadra Poliesporti...   \n",
       "49  ['Serviço de Transporte no Condomínio', 'Bicic...   \n",
       "\n",
       "                       imovel_caracteristicas_entorno  \\\n",
       "0   ['Próximo a Escola Particular', 'Próximo ao Me...   \n",
       "1   ['Próximo ao Shopping', 'Próximo a Áreas de La...   \n",
       "2                     ['Próximo a Escola Particular']   \n",
       "3   ['Próximo a Farmácia', 'Próximo a Academia', '...   \n",
       "4   ['Próximo a Centro Empresarial', 'Próximo a Ár...   \n",
       "..                                                ...   \n",
       "45  ['Próximo a Serviços de Saúde', 'Próximo a Aca...   \n",
       "46  ['Próximo a Comércio Diversos', 'Próximo a Esc...   \n",
       "47  ['Próximo a Restaurante', 'Próximo a Comércio ...   \n",
       "48  ['Próximo ao Shopping', 'Próximo a Mercado', '...   \n",
       "49                                                 []   \n",
       "\n",
       "   anuncio_tipos_publicacao anuncio_tipos_listagem  anuncio_valores_venda  \\\n",
       "0                    Padrão             Lançamento              2400000.0   \n",
       "1                    Padrão                  Usado               200000.0   \n",
       "2                   Premium                  Usado              4400000.0   \n",
       "3                    Padrão                  Usado              1100000.0   \n",
       "4                    Padrão                  Usado               260000.0   \n",
       "..                      ...                    ...                    ...   \n",
       "45                 Destaque             Lançamento              3000000.0   \n",
       "46           Super Destaque                  Usado               320000.0   \n",
       "47           Super Destaque                  Usado              3200000.0   \n",
       "48                   Padrão                  Usado               650000.0   \n",
       "49                   Padrão                  Usado               510000.0   \n",
       "\n",
       "    anuncio_valores_aluguel  anuncio_valores_condominio  anuncio_valores_iptu  \\\n",
       "0                       0.0                       790.0                5700.0   \n",
       "1                       0.0                         0.0                   0.0   \n",
       "2                       0.0                      1200.0                 850.0   \n",
       "3                       0.0                      1300.0                 364.0   \n",
       "4                       0.0                       450.0                 800.0   \n",
       "..                      ...                         ...                   ...   \n",
       "45                      0.0                      1800.0                 500.0   \n",
       "46                      0.0                         0.0                 135.0   \n",
       "47                      0.0                      2520.0                7600.0   \n",
       "48                      0.0                         0.0                   0.0   \n",
       "49                      0.0                       535.0                 724.0   \n",
       "\n",
       "                                    anuncio_descricao  \n",
       "0   Amplo imóvel para venda com 3 quartos, sendo 1...  \n",
       "1   Amplo imóvel para venda com 2 quartos, sendo 0...  \n",
       "2   Amplo imóvel para venda com 5 quartos, sendo 4...  \n",
       "3   Amplo imóvel para venda com 2 quartos, sendo 1...  \n",
       "4   Amplo imóvel para venda com 0 quartos, sendo 0...  \n",
       "..                                                ...  \n",
       "45  Amplo imóvel para venda com 3 quartos, sendo 1...  \n",
       "46  Amplo imóvel para venda com 2 quartos, sendo 0...  \n",
       "47  Amplo imóvel para venda com 4 quartos, sendo 1...  \n",
       "48  Amplo imóvel para venda com 1 quartos, sendo 0...  \n",
       "49  Amplo imóvel para venda com 1 quartos, sendo 0...  \n",
       "\n",
       "[50 rows x 16 columns]"
      ]
     },
     "execution_count": 81,
     "metadata": {},
     "output_type": "execute_result"
    }
   ],
   "source": [
    "dados_normal_listings = pd.json_normalize(data=dados.normal, sep='_', record_path=['listings'])\n",
    "dados_normal_listings"
   ]
  },
  {
   "cell_type": "code",
   "execution_count": 82,
   "metadata": {
    "id": "x4ZlYa3vevgX",
    "scrolled": true
   },
   "outputs": [
    {
     "data": {
      "text/html": [
       "<div>\n",
       "<style scoped>\n",
       "    .dataframe tbody tr th:only-of-type {\n",
       "        vertical-align: middle;\n",
       "    }\n",
       "\n",
       "    .dataframe tbody tr th {\n",
       "        vertical-align: top;\n",
       "    }\n",
       "\n",
       "    .dataframe thead th {\n",
       "        text-align: right;\n",
       "    }\n",
       "</style>\n",
       "<table border=\"1\" class=\"dataframe\">\n",
       "  <thead>\n",
       "    <tr style=\"text-align: right;\">\n",
       "      <th></th>\n",
       "      <th>imovel_tipos_propriedade</th>\n",
       "      <th>imovel_endereco_bairro</th>\n",
       "      <th>imovel_endereco_localizacao_type</th>\n",
       "      <th>imovel_endereco_localizacao_coordinates</th>\n",
       "      <th>imovel_vagasGaragem</th>\n",
       "      <th>imovel_area</th>\n",
       "      <th>imovel_caracteristicas_propriedade</th>\n",
       "      <th>imovel_caracteristicas_condominio</th>\n",
       "      <th>imovel_caracteristicas_entorno</th>\n",
       "      <th>anuncio_tipos_publicacao</th>\n",
       "      <th>anuncio_tipos_listagem</th>\n",
       "      <th>anuncio_valores_venda</th>\n",
       "      <th>anuncio_valores_aluguel</th>\n",
       "      <th>anuncio_valores_condominio</th>\n",
       "      <th>anuncio_valores_iptu</th>\n",
       "      <th>anuncio_descricao</th>\n",
       "    </tr>\n",
       "  </thead>\n",
       "  <tbody>\n",
       "    <tr>\n",
       "      <th>0</th>\n",
       "      <td>Casa</td>\n",
       "      <td>Engenho Novo</td>\n",
       "      <td>Point</td>\n",
       "      <td>[-43.2634918, -22.8971768]</td>\n",
       "      <td>0</td>\n",
       "      <td>0</td>\n",
       "      <td>['Sauna', 'Terraço', 'Acessibilidade', 'Mobili...</td>\n",
       "      <td>['Estacionamento Coberto', 'Estacionamento Vis...</td>\n",
       "      <td>['Próximo a Serviços de Saúde', 'Próximo ao Sh...</td>\n",
       "      <td>Padrão</td>\n",
       "      <td>Usado</td>\n",
       "      <td>195772.0</td>\n",
       "      <td>0.0</td>\n",
       "      <td>0.0</td>\n",
       "      <td>0.0</td>\n",
       "      <td>Amplo imóvel para venda com 0 quartos, sendo 0...</td>\n",
       "    </tr>\n",
       "    <tr>\n",
       "      <th>1</th>\n",
       "      <td>Cobertura</td>\n",
       "      <td>Vargem Grande</td>\n",
       "      <td>Point</td>\n",
       "      <td>[-43.4907917, -22.988122]</td>\n",
       "      <td>1</td>\n",
       "      <td>61</td>\n",
       "      <td>[]</td>\n",
       "      <td>['Estacionamento Visitantes', 'Estacionamento ...</td>\n",
       "      <td>['Próximo ao Metrô', 'Próximo a Praia', 'Próxi...</td>\n",
       "      <td>Destaque</td>\n",
       "      <td>Usado</td>\n",
       "      <td>305000.0</td>\n",
       "      <td>0.0</td>\n",
       "      <td>667.0</td>\n",
       "      <td>162.0</td>\n",
       "      <td>Amplo imóvel para venda com 2 quartos, sendo 0...</td>\n",
       "    </tr>\n",
       "    <tr>\n",
       "      <th>2</th>\n",
       "      <td>Imóvel Comercial</td>\n",
       "      <td>Ribeira</td>\n",
       "      <td>Point</td>\n",
       "      <td>[-43.1690005, -22.8239272]</td>\n",
       "      <td>4</td>\n",
       "      <td>180</td>\n",
       "      <td>['Vista Panorâmica', 'Acessibilidade', 'Área d...</td>\n",
       "      <td>['Segurança Interna', 'Salão de Festas', 'Acad...</td>\n",
       "      <td>['Próximo a Restaurante', 'Próximo a Praia', '...</td>\n",
       "      <td>Padrão</td>\n",
       "      <td>Usado</td>\n",
       "      <td>1050000.0</td>\n",
       "      <td>0.0</td>\n",
       "      <td>0.0</td>\n",
       "      <td>315.0</td>\n",
       "      <td>Amplo imóvel para venda com 3 quartos, sendo 1...</td>\n",
       "    </tr>\n",
       "    <tr>\n",
       "      <th>3</th>\n",
       "      <td>Apartamento</td>\n",
       "      <td>Praça Seca</td>\n",
       "      <td>Point</td>\n",
       "      <td>[0, 0]</td>\n",
       "      <td>1</td>\n",
       "      <td>50</td>\n",
       "      <td>['Sauna', 'Quarto/WC Empregada']</td>\n",
       "      <td>['Salão de Jogos', 'Segurança Interna', 'Estac...</td>\n",
       "      <td>['Próximo ao Shopping', 'Próximo a Escola Part...</td>\n",
       "      <td>Padrão</td>\n",
       "      <td>Usado</td>\n",
       "      <td>250000.0</td>\n",
       "      <td>0.0</td>\n",
       "      <td>350.0</td>\n",
       "      <td>150.0</td>\n",
       "      <td>Amplo imóvel para venda com 2 quartos, sendo 0...</td>\n",
       "    </tr>\n",
       "    <tr>\n",
       "      <th>4</th>\n",
       "      <td>Apartamento</td>\n",
       "      <td>Honório Gurgel</td>\n",
       "      <td>Point</td>\n",
       "      <td>[-43.3614243, -22.8416031]</td>\n",
       "      <td>0</td>\n",
       "      <td>148</td>\n",
       "      <td>['Terraço', 'Piscina', 'Gás Encanado', 'Acessi...</td>\n",
       "      <td>['Sauna', 'Bicicletário', 'Academia', 'Serviço...</td>\n",
       "      <td>['Próximo a Serviços de Saúde', 'Próximo a Far...</td>\n",
       "      <td>Destaque</td>\n",
       "      <td>Lançamento</td>\n",
       "      <td>165000.0</td>\n",
       "      <td>0.0</td>\n",
       "      <td>270.0</td>\n",
       "      <td>0.0</td>\n",
       "      <td>Amplo imóvel para venda com 2 quartos, sendo 0...</td>\n",
       "    </tr>\n",
       "    <tr>\n",
       "      <th>5</th>\n",
       "      <td>Apartamento</td>\n",
       "      <td>Barra da Tijuca</td>\n",
       "      <td>Point</td>\n",
       "      <td>[-43.3245375, -23.006984]</td>\n",
       "      <td>1</td>\n",
       "      <td>79</td>\n",
       "      <td>['Terraço', 'Acessibilidade', 'Armários Planej...</td>\n",
       "      <td>['Salão de Festas', 'Estacionamento Visitantes...</td>\n",
       "      <td>['Próximo a Mercado', 'Próximo a Parques e Áre...</td>\n",
       "      <td>Premium</td>\n",
       "      <td>Usado</td>\n",
       "      <td>900000.0</td>\n",
       "      <td>0.0</td>\n",
       "      <td>1400.0</td>\n",
       "      <td>180.0</td>\n",
       "      <td>Amplo imóvel para venda com 3 quartos, sendo 1...</td>\n",
       "    </tr>\n",
       "    <tr>\n",
       "      <th>6</th>\n",
       "      <td>Consultório</td>\n",
       "      <td>Tijuca</td>\n",
       "      <td>Point</td>\n",
       "      <td>[-43.2558939, -22.9444082]</td>\n",
       "      <td>1</td>\n",
       "      <td>126</td>\n",
       "      <td>['Armários Planejados', 'Closet', 'Gás Encanad...</td>\n",
       "      <td>['Bicicletário', 'Salão de Jogos', 'Segurança ...</td>\n",
       "      <td>['Próximo a Praia', 'Próximo a Serviços de Saú...</td>\n",
       "      <td>Padrão</td>\n",
       "      <td>Usado</td>\n",
       "      <td>630000.0</td>\n",
       "      <td>0.0</td>\n",
       "      <td>0.0</td>\n",
       "      <td>1500.0</td>\n",
       "      <td>Amplo imóvel para venda com 2 quartos, sendo 2...</td>\n",
       "    </tr>\n",
       "    <tr>\n",
       "      <th>7</th>\n",
       "      <td>Apartamento</td>\n",
       "      <td>Recreio dos Bandeirantes</td>\n",
       "      <td>Point</td>\n",
       "      <td>[-43.480981, -23.0160348]</td>\n",
       "      <td>1</td>\n",
       "      <td>126</td>\n",
       "      <td>['Sauna', 'Cozinha Americana', 'Terraço', 'Gás...</td>\n",
       "      <td>['Estacionamento Visitantes', 'Salão de Festas...</td>\n",
       "      <td>['Próximo a Escola Pública', 'Próximo ao Metrô...</td>\n",
       "      <td>Padrão</td>\n",
       "      <td>Usado</td>\n",
       "      <td>475000.0</td>\n",
       "      <td>0.0</td>\n",
       "      <td>920.0</td>\n",
       "      <td>0.0</td>\n",
       "      <td>Amplo imóvel para venda com 2 quartos, sendo 1...</td>\n",
       "    </tr>\n",
       "    <tr>\n",
       "      <th>8</th>\n",
       "      <td>Apartamento</td>\n",
       "      <td>Tijuca</td>\n",
       "      <td>Point</td>\n",
       "      <td>[-43.2266348, -22.9220052]</td>\n",
       "      <td>0</td>\n",
       "      <td>0</td>\n",
       "      <td>['Ambientes Integrados', 'Varanda', 'Terraço',...</td>\n",
       "      <td>['Elevador', 'Acessibilidade', 'Estacionamento...</td>\n",
       "      <td>[]</td>\n",
       "      <td>Padrão</td>\n",
       "      <td>Usado</td>\n",
       "      <td>0.0</td>\n",
       "      <td>0.0</td>\n",
       "      <td>0.0</td>\n",
       "      <td>0.0</td>\n",
       "      <td>Amplo imóvel para venda com 0 quartos, sendo 0...</td>\n",
       "    </tr>\n",
       "    <tr>\n",
       "      <th>9</th>\n",
       "      <td>Apartamento</td>\n",
       "      <td>Lagoa</td>\n",
       "      <td>Point</td>\n",
       "      <td>[-43.2112318, -22.9625433]</td>\n",
       "      <td>1</td>\n",
       "      <td>56</td>\n",
       "      <td>['Sauna', 'Piscina', 'Cozinha Americana', 'Vis...</td>\n",
       "      <td>['Quadra Poliesportiva', 'Bicicletário', 'Pisc...</td>\n",
       "      <td>['Próximo a Farmácia', 'Próximo a Áreas de Laz...</td>\n",
       "      <td>Padrão</td>\n",
       "      <td>Usado</td>\n",
       "      <td>1200000.0</td>\n",
       "      <td>0.0</td>\n",
       "      <td>1608.0</td>\n",
       "      <td>3284.0</td>\n",
       "      <td>Amplo imóvel para venda com 1 quartos, sendo 1...</td>\n",
       "    </tr>\n",
       "    <tr>\n",
       "      <th>10</th>\n",
       "      <td>Apartamento</td>\n",
       "      <td>Vila Isabel</td>\n",
       "      <td>Point</td>\n",
       "      <td>[-43.2508337, -22.9167328]</td>\n",
       "      <td>1</td>\n",
       "      <td>70</td>\n",
       "      <td>['Gás Encanado', 'Quarto/WC Empregada', 'Terra...</td>\n",
       "      <td>['Academia']</td>\n",
       "      <td>['Próximo a Mercado', 'Próximo a Praia', 'Próx...</td>\n",
       "      <td>Padrão</td>\n",
       "      <td>Usado</td>\n",
       "      <td>370000.0</td>\n",
       "      <td>0.0</td>\n",
       "      <td>500.0</td>\n",
       "      <td>0.0</td>\n",
       "      <td>Amplo imóvel para venda com 2 quartos, sendo 0...</td>\n",
       "    </tr>\n",
       "    <tr>\n",
       "      <th>11</th>\n",
       "      <td>Apartamento</td>\n",
       "      <td>Tijuca</td>\n",
       "      <td>Point</td>\n",
       "      <td>[-49.0607072, -26.9225117]</td>\n",
       "      <td>1</td>\n",
       "      <td>40</td>\n",
       "      <td>['Sauna', 'Acessibilidade', 'Mobiliado', 'Chur...</td>\n",
       "      <td>['Acessibilidade', 'Sistema de Incêndio', 'Por...</td>\n",
       "      <td>['Próximo a Mercado', 'Próximo a Escola Partic...</td>\n",
       "      <td>Padrão</td>\n",
       "      <td>Usado</td>\n",
       "      <td>450000.0</td>\n",
       "      <td>0.0</td>\n",
       "      <td>827.0</td>\n",
       "      <td>146.0</td>\n",
       "      <td>Amplo imóvel para venda com 0 quartos, sendo 0...</td>\n",
       "    </tr>\n",
       "    <tr>\n",
       "      <th>12</th>\n",
       "      <td>Apartamento</td>\n",
       "      <td>Copacabana</td>\n",
       "      <td>Point</td>\n",
       "      <td>[-43.1913165, -22.9658986]</td>\n",
       "      <td>2</td>\n",
       "      <td>200</td>\n",
       "      <td>[]</td>\n",
       "      <td>['Salão de Jogos', 'Sistema de Incêndio', 'Sau...</td>\n",
       "      <td>['Próximo a Farmácia', 'Próximo a Restaurante'...</td>\n",
       "      <td>Padrão</td>\n",
       "      <td>Usado</td>\n",
       "      <td>3000000.0</td>\n",
       "      <td>0.0</td>\n",
       "      <td>4000.0</td>\n",
       "      <td>3000.0</td>\n",
       "      <td>Amplo imóvel para venda com 3 quartos, sendo 2...</td>\n",
       "    </tr>\n",
       "    <tr>\n",
       "      <th>13</th>\n",
       "      <td>Cobertura</td>\n",
       "      <td>Méier</td>\n",
       "      <td>Point</td>\n",
       "      <td>[-43.279874, -22.894531]</td>\n",
       "      <td>0</td>\n",
       "      <td>0</td>\n",
       "      <td>[]</td>\n",
       "      <td>['Playground', 'Elevador', 'Salão de Festas', ...</td>\n",
       "      <td>['Próximo a Restaurante', 'Próximo a Mercado',...</td>\n",
       "      <td>Padrão</td>\n",
       "      <td>Usado</td>\n",
       "      <td>350000.0</td>\n",
       "      <td>0.0</td>\n",
       "      <td>0.0</td>\n",
       "      <td>0.0</td>\n",
       "      <td>Amplo imóvel para venda com 0 quartos, sendo 0...</td>\n",
       "    </tr>\n",
       "    <tr>\n",
       "      <th>14</th>\n",
       "      <td>Cobertura</td>\n",
       "      <td>Méier</td>\n",
       "      <td>Point</td>\n",
       "      <td>[0, 0]</td>\n",
       "      <td>0</td>\n",
       "      <td>62</td>\n",
       "      <td>['Terraço', 'Área de Serviço', 'Sauna', 'Churr...</td>\n",
       "      <td>['Acessibilidade', 'Bicicletário', 'Aceita Pet...</td>\n",
       "      <td>['Próximo ao Metrô', 'Próximo a Restaurante', ...</td>\n",
       "      <td>Padrão</td>\n",
       "      <td>Usado</td>\n",
       "      <td>265000.0</td>\n",
       "      <td>0.0</td>\n",
       "      <td>220.0</td>\n",
       "      <td>0.0</td>\n",
       "      <td>Amplo imóvel para venda com 3 quartos, sendo 0...</td>\n",
       "    </tr>\n",
       "    <tr>\n",
       "      <th>15</th>\n",
       "      <td>Apartamento</td>\n",
       "      <td>Copacabana</td>\n",
       "      <td>Point</td>\n",
       "      <td>[-43.1943902, -22.9816847]</td>\n",
       "      <td>1</td>\n",
       "      <td>216</td>\n",
       "      <td>['Cozinha Americana', 'Quarto/WC Empregada', '...</td>\n",
       "      <td>['Elevador', 'Salão de Festas', 'Porteiro 24 H...</td>\n",
       "      <td>['Próximo a Farmácia', 'Próximo a Academia', '...</td>\n",
       "      <td>Padrão</td>\n",
       "      <td>Usado</td>\n",
       "      <td>1800000.0</td>\n",
       "      <td>0.0</td>\n",
       "      <td>2000.0</td>\n",
       "      <td>2300.0</td>\n",
       "      <td>Amplo imóvel para venda com 4 quartos, sendo 2...</td>\n",
       "    </tr>\n",
       "    <tr>\n",
       "      <th>16</th>\n",
       "      <td>Apartamento</td>\n",
       "      <td>Leblon</td>\n",
       "      <td>Point</td>\n",
       "      <td>[-43.2253114, -22.9843603]</td>\n",
       "      <td>1</td>\n",
       "      <td>218</td>\n",
       "      <td>['Piscina', 'Gás Encanado']</td>\n",
       "      <td>['Academia', 'Aceita Pet', 'Sistema de Incêndi...</td>\n",
       "      <td>['Próximo a Comércio Diversos', 'Próximo a Cen...</td>\n",
       "      <td>Premium</td>\n",
       "      <td>Usado</td>\n",
       "      <td>4500000.0</td>\n",
       "      <td>0.0</td>\n",
       "      <td>3600.0</td>\n",
       "      <td>7000.0</td>\n",
       "      <td>Amplo imóvel para venda com 3 quartos, sendo 1...</td>\n",
       "    </tr>\n",
       "    <tr>\n",
       "      <th>17</th>\n",
       "      <td>Casa</td>\n",
       "      <td>Copacabana</td>\n",
       "      <td>Point</td>\n",
       "      <td>[-43.1951842, -22.9818646]</td>\n",
       "      <td>0</td>\n",
       "      <td>25</td>\n",
       "      <td>['Closet', 'Armários Planejados', 'Quarto/WC E...</td>\n",
       "      <td>['Bicicletário', 'Sistema de Incêndio', 'Segur...</td>\n",
       "      <td>[]</td>\n",
       "      <td>Destaque</td>\n",
       "      <td>Usado</td>\n",
       "      <td>350000.0</td>\n",
       "      <td>0.0</td>\n",
       "      <td>290.0</td>\n",
       "      <td>182.0</td>\n",
       "      <td>Amplo imóvel para venda com 1 quartos, sendo 0...</td>\n",
       "    </tr>\n",
       "    <tr>\n",
       "      <th>18</th>\n",
       "      <td>Sala Comercial</td>\n",
       "      <td>Cachambi</td>\n",
       "      <td>Point</td>\n",
       "      <td>[-43.2781994, -22.8917611]</td>\n",
       "      <td>2</td>\n",
       "      <td>138</td>\n",
       "      <td>['Gás Encanado', 'Acessibilidade', 'Ambientes ...</td>\n",
       "      <td>['Playground', 'Depósito Privativo', 'Academia...</td>\n",
       "      <td>['Próximo a Praia', 'Próximo a Serviços de Saú...</td>\n",
       "      <td>Premium</td>\n",
       "      <td>Usado</td>\n",
       "      <td>619000.0</td>\n",
       "      <td>0.0</td>\n",
       "      <td>506.0</td>\n",
       "      <td>1404.0</td>\n",
       "      <td>Amplo imóvel para venda com 3 quartos, sendo 1...</td>\n",
       "    </tr>\n",
       "    <tr>\n",
       "      <th>19</th>\n",
       "      <td>Apartamento</td>\n",
       "      <td>Tijuca</td>\n",
       "      <td>Point</td>\n",
       "      <td>[-43.2356544, -22.9264543]</td>\n",
       "      <td>0</td>\n",
       "      <td>100</td>\n",
       "      <td>['Churrasqueira', 'Gás Encanado', 'Quarto/WC E...</td>\n",
       "      <td>['Academia', 'Quadra Poliesportiva', 'Sauna', ...</td>\n",
       "      <td>['Próximo a Comércio Diversos', 'Próximo a Áre...</td>\n",
       "      <td>Padrão</td>\n",
       "      <td>Usado</td>\n",
       "      <td>580000.0</td>\n",
       "      <td>0.0</td>\n",
       "      <td>0.0</td>\n",
       "      <td>0.0</td>\n",
       "      <td>Amplo imóvel para venda com 3 quartos, sendo 1...</td>\n",
       "    </tr>\n",
       "  </tbody>\n",
       "</table>\n",
       "</div>"
      ],
      "text/plain": [
       "   imovel_tipos_propriedade    imovel_endereco_bairro  \\\n",
       "0                      Casa              Engenho Novo   \n",
       "1                 Cobertura             Vargem Grande   \n",
       "2          Imóvel Comercial                   Ribeira   \n",
       "3               Apartamento                Praça Seca   \n",
       "4               Apartamento            Honório Gurgel   \n",
       "5               Apartamento           Barra da Tijuca   \n",
       "6               Consultório                    Tijuca   \n",
       "7               Apartamento  Recreio dos Bandeirantes   \n",
       "8               Apartamento                    Tijuca   \n",
       "9               Apartamento                     Lagoa   \n",
       "10              Apartamento               Vila Isabel   \n",
       "11              Apartamento                    Tijuca   \n",
       "12              Apartamento                Copacabana   \n",
       "13                Cobertura                     Méier   \n",
       "14                Cobertura                     Méier   \n",
       "15              Apartamento                Copacabana   \n",
       "16              Apartamento                    Leblon   \n",
       "17                     Casa                Copacabana   \n",
       "18           Sala Comercial                  Cachambi   \n",
       "19              Apartamento                    Tijuca   \n",
       "\n",
       "   imovel_endereco_localizacao_type imovel_endereco_localizacao_coordinates  \\\n",
       "0                             Point              [-43.2634918, -22.8971768]   \n",
       "1                             Point               [-43.4907917, -22.988122]   \n",
       "2                             Point              [-43.1690005, -22.8239272]   \n",
       "3                             Point                                  [0, 0]   \n",
       "4                             Point              [-43.3614243, -22.8416031]   \n",
       "5                             Point               [-43.3245375, -23.006984]   \n",
       "6                             Point              [-43.2558939, -22.9444082]   \n",
       "7                             Point               [-43.480981, -23.0160348]   \n",
       "8                             Point              [-43.2266348, -22.9220052]   \n",
       "9                             Point              [-43.2112318, -22.9625433]   \n",
       "10                            Point              [-43.2508337, -22.9167328]   \n",
       "11                            Point              [-49.0607072, -26.9225117]   \n",
       "12                            Point              [-43.1913165, -22.9658986]   \n",
       "13                            Point                [-43.279874, -22.894531]   \n",
       "14                            Point                                  [0, 0]   \n",
       "15                            Point              [-43.1943902, -22.9816847]   \n",
       "16                            Point              [-43.2253114, -22.9843603]   \n",
       "17                            Point              [-43.1951842, -22.9818646]   \n",
       "18                            Point              [-43.2781994, -22.8917611]   \n",
       "19                            Point              [-43.2356544, -22.9264543]   \n",
       "\n",
       "    imovel_vagasGaragem  imovel_area  \\\n",
       "0                     0            0   \n",
       "1                     1           61   \n",
       "2                     4          180   \n",
       "3                     1           50   \n",
       "4                     0          148   \n",
       "5                     1           79   \n",
       "6                     1          126   \n",
       "7                     1          126   \n",
       "8                     0            0   \n",
       "9                     1           56   \n",
       "10                    1           70   \n",
       "11                    1           40   \n",
       "12                    2          200   \n",
       "13                    0            0   \n",
       "14                    0           62   \n",
       "15                    1          216   \n",
       "16                    1          218   \n",
       "17                    0           25   \n",
       "18                    2          138   \n",
       "19                    0          100   \n",
       "\n",
       "                   imovel_caracteristicas_propriedade  \\\n",
       "0   ['Sauna', 'Terraço', 'Acessibilidade', 'Mobili...   \n",
       "1                                                  []   \n",
       "2   ['Vista Panorâmica', 'Acessibilidade', 'Área d...   \n",
       "3                    ['Sauna', 'Quarto/WC Empregada']   \n",
       "4   ['Terraço', 'Piscina', 'Gás Encanado', 'Acessi...   \n",
       "5   ['Terraço', 'Acessibilidade', 'Armários Planej...   \n",
       "6   ['Armários Planejados', 'Closet', 'Gás Encanad...   \n",
       "7   ['Sauna', 'Cozinha Americana', 'Terraço', 'Gás...   \n",
       "8   ['Ambientes Integrados', 'Varanda', 'Terraço',...   \n",
       "9   ['Sauna', 'Piscina', 'Cozinha Americana', 'Vis...   \n",
       "10  ['Gás Encanado', 'Quarto/WC Empregada', 'Terra...   \n",
       "11  ['Sauna', 'Acessibilidade', 'Mobiliado', 'Chur...   \n",
       "12                                                 []   \n",
       "13                                                 []   \n",
       "14  ['Terraço', 'Área de Serviço', 'Sauna', 'Churr...   \n",
       "15  ['Cozinha Americana', 'Quarto/WC Empregada', '...   \n",
       "16                        ['Piscina', 'Gás Encanado']   \n",
       "17  ['Closet', 'Armários Planejados', 'Quarto/WC E...   \n",
       "18  ['Gás Encanado', 'Acessibilidade', 'Ambientes ...   \n",
       "19  ['Churrasqueira', 'Gás Encanado', 'Quarto/WC E...   \n",
       "\n",
       "                    imovel_caracteristicas_condominio  \\\n",
       "0   ['Estacionamento Coberto', 'Estacionamento Vis...   \n",
       "1   ['Estacionamento Visitantes', 'Estacionamento ...   \n",
       "2   ['Segurança Interna', 'Salão de Festas', 'Acad...   \n",
       "3   ['Salão de Jogos', 'Segurança Interna', 'Estac...   \n",
       "4   ['Sauna', 'Bicicletário', 'Academia', 'Serviço...   \n",
       "5   ['Salão de Festas', 'Estacionamento Visitantes...   \n",
       "6   ['Bicicletário', 'Salão de Jogos', 'Segurança ...   \n",
       "7   ['Estacionamento Visitantes', 'Salão de Festas...   \n",
       "8   ['Elevador', 'Acessibilidade', 'Estacionamento...   \n",
       "9   ['Quadra Poliesportiva', 'Bicicletário', 'Pisc...   \n",
       "10                                       ['Academia']   \n",
       "11  ['Acessibilidade', 'Sistema de Incêndio', 'Por...   \n",
       "12  ['Salão de Jogos', 'Sistema de Incêndio', 'Sau...   \n",
       "13  ['Playground', 'Elevador', 'Salão de Festas', ...   \n",
       "14  ['Acessibilidade', 'Bicicletário', 'Aceita Pet...   \n",
       "15  ['Elevador', 'Salão de Festas', 'Porteiro 24 H...   \n",
       "16  ['Academia', 'Aceita Pet', 'Sistema de Incêndi...   \n",
       "17  ['Bicicletário', 'Sistema de Incêndio', 'Segur...   \n",
       "18  ['Playground', 'Depósito Privativo', 'Academia...   \n",
       "19  ['Academia', 'Quadra Poliesportiva', 'Sauna', ...   \n",
       "\n",
       "                       imovel_caracteristicas_entorno  \\\n",
       "0   ['Próximo a Serviços de Saúde', 'Próximo ao Sh...   \n",
       "1   ['Próximo ao Metrô', 'Próximo a Praia', 'Próxi...   \n",
       "2   ['Próximo a Restaurante', 'Próximo a Praia', '...   \n",
       "3   ['Próximo ao Shopping', 'Próximo a Escola Part...   \n",
       "4   ['Próximo a Serviços de Saúde', 'Próximo a Far...   \n",
       "5   ['Próximo a Mercado', 'Próximo a Parques e Áre...   \n",
       "6   ['Próximo a Praia', 'Próximo a Serviços de Saú...   \n",
       "7   ['Próximo a Escola Pública', 'Próximo ao Metrô...   \n",
       "8                                                  []   \n",
       "9   ['Próximo a Farmácia', 'Próximo a Áreas de Laz...   \n",
       "10  ['Próximo a Mercado', 'Próximo a Praia', 'Próx...   \n",
       "11  ['Próximo a Mercado', 'Próximo a Escola Partic...   \n",
       "12  ['Próximo a Farmácia', 'Próximo a Restaurante'...   \n",
       "13  ['Próximo a Restaurante', 'Próximo a Mercado',...   \n",
       "14  ['Próximo ao Metrô', 'Próximo a Restaurante', ...   \n",
       "15  ['Próximo a Farmácia', 'Próximo a Academia', '...   \n",
       "16  ['Próximo a Comércio Diversos', 'Próximo a Cen...   \n",
       "17                                                 []   \n",
       "18  ['Próximo a Praia', 'Próximo a Serviços de Saú...   \n",
       "19  ['Próximo a Comércio Diversos', 'Próximo a Áre...   \n",
       "\n",
       "   anuncio_tipos_publicacao anuncio_tipos_listagem  anuncio_valores_venda  \\\n",
       "0                    Padrão                  Usado               195772.0   \n",
       "1                  Destaque                  Usado               305000.0   \n",
       "2                    Padrão                  Usado              1050000.0   \n",
       "3                    Padrão                  Usado               250000.0   \n",
       "4                  Destaque             Lançamento               165000.0   \n",
       "5                   Premium                  Usado               900000.0   \n",
       "6                    Padrão                  Usado               630000.0   \n",
       "7                    Padrão                  Usado               475000.0   \n",
       "8                    Padrão                  Usado                    0.0   \n",
       "9                    Padrão                  Usado              1200000.0   \n",
       "10                   Padrão                  Usado               370000.0   \n",
       "11                   Padrão                  Usado               450000.0   \n",
       "12                   Padrão                  Usado              3000000.0   \n",
       "13                   Padrão                  Usado               350000.0   \n",
       "14                   Padrão                  Usado               265000.0   \n",
       "15                   Padrão                  Usado              1800000.0   \n",
       "16                  Premium                  Usado              4500000.0   \n",
       "17                 Destaque                  Usado               350000.0   \n",
       "18                  Premium                  Usado               619000.0   \n",
       "19                   Padrão                  Usado               580000.0   \n",
       "\n",
       "    anuncio_valores_aluguel  anuncio_valores_condominio  anuncio_valores_iptu  \\\n",
       "0                       0.0                         0.0                   0.0   \n",
       "1                       0.0                       667.0                 162.0   \n",
       "2                       0.0                         0.0                 315.0   \n",
       "3                       0.0                       350.0                 150.0   \n",
       "4                       0.0                       270.0                   0.0   \n",
       "5                       0.0                      1400.0                 180.0   \n",
       "6                       0.0                         0.0                1500.0   \n",
       "7                       0.0                       920.0                   0.0   \n",
       "8                       0.0                         0.0                   0.0   \n",
       "9                       0.0                      1608.0                3284.0   \n",
       "10                      0.0                       500.0                   0.0   \n",
       "11                      0.0                       827.0                 146.0   \n",
       "12                      0.0                      4000.0                3000.0   \n",
       "13                      0.0                         0.0                   0.0   \n",
       "14                      0.0                       220.0                   0.0   \n",
       "15                      0.0                      2000.0                2300.0   \n",
       "16                      0.0                      3600.0                7000.0   \n",
       "17                      0.0                       290.0                 182.0   \n",
       "18                      0.0                       506.0                1404.0   \n",
       "19                      0.0                         0.0                   0.0   \n",
       "\n",
       "                                    anuncio_descricao  \n",
       "0   Amplo imóvel para venda com 0 quartos, sendo 0...  \n",
       "1   Amplo imóvel para venda com 2 quartos, sendo 0...  \n",
       "2   Amplo imóvel para venda com 3 quartos, sendo 1...  \n",
       "3   Amplo imóvel para venda com 2 quartos, sendo 0...  \n",
       "4   Amplo imóvel para venda com 2 quartos, sendo 0...  \n",
       "5   Amplo imóvel para venda com 3 quartos, sendo 1...  \n",
       "6   Amplo imóvel para venda com 2 quartos, sendo 2...  \n",
       "7   Amplo imóvel para venda com 2 quartos, sendo 1...  \n",
       "8   Amplo imóvel para venda com 0 quartos, sendo 0...  \n",
       "9   Amplo imóvel para venda com 1 quartos, sendo 1...  \n",
       "10  Amplo imóvel para venda com 2 quartos, sendo 0...  \n",
       "11  Amplo imóvel para venda com 0 quartos, sendo 0...  \n",
       "12  Amplo imóvel para venda com 3 quartos, sendo 2...  \n",
       "13  Amplo imóvel para venda com 0 quartos, sendo 0...  \n",
       "14  Amplo imóvel para venda com 3 quartos, sendo 0...  \n",
       "15  Amplo imóvel para venda com 4 quartos, sendo 2...  \n",
       "16  Amplo imóvel para venda com 3 quartos, sendo 1...  \n",
       "17  Amplo imóvel para venda com 1 quartos, sendo 0...  \n",
       "18  Amplo imóvel para venda com 3 quartos, sendo 1...  \n",
       "19  Amplo imóvel para venda com 3 quartos, sendo 1...  "
      ]
     },
     "execution_count": 82,
     "metadata": {},
     "output_type": "execute_result"
    }
   ],
   "source": [
    "dados_highlights_listings = pd.json_normalize(data=dados.highlights, sep='_', record_path=['listings'])\n",
    "dados_highlights_listings"
   ]
  },
  {
   "cell_type": "markdown",
   "metadata": {
    "id": "cpaDGnecevgX"
   },
   "source": [
    "## Trabalhando com dados textuais"
   ]
  },
  {
   "cell_type": "markdown",
   "metadata": {
    "id": "CMgPdhFNevgX"
   },
   "source": [
    "### Transformando *strings* em listas do Python"
   ]
  },
  {
   "cell_type": "code",
   "execution_count": 83,
   "metadata": {
    "id": "vJmnnHZ_evgY",
    "scrolled": true
   },
   "outputs": [
    {
     "data": {
      "text/html": [
       "<div>\n",
       "<style scoped>\n",
       "    .dataframe tbody tr th:only-of-type {\n",
       "        vertical-align: middle;\n",
       "    }\n",
       "\n",
       "    .dataframe tbody tr th {\n",
       "        vertical-align: top;\n",
       "    }\n",
       "\n",
       "    .dataframe thead th {\n",
       "        text-align: right;\n",
       "    }\n",
       "</style>\n",
       "<table border=\"1\" class=\"dataframe\">\n",
       "  <thead>\n",
       "    <tr style=\"text-align: right;\">\n",
       "      <th></th>\n",
       "      <th>imovel_tipos_propriedade</th>\n",
       "      <th>imovel_endereco_bairro</th>\n",
       "      <th>imovel_endereco_localizacao_type</th>\n",
       "      <th>imovel_endereco_localizacao_coordinates</th>\n",
       "      <th>imovel_vagasGaragem</th>\n",
       "      <th>imovel_area</th>\n",
       "      <th>imovel_caracteristicas_propriedade</th>\n",
       "      <th>imovel_caracteristicas_condominio</th>\n",
       "      <th>imovel_caracteristicas_entorno</th>\n",
       "      <th>anuncio_tipos_publicacao</th>\n",
       "      <th>anuncio_tipos_listagem</th>\n",
       "      <th>anuncio_valores_venda</th>\n",
       "      <th>anuncio_valores_aluguel</th>\n",
       "      <th>anuncio_valores_condominio</th>\n",
       "      <th>anuncio_valores_iptu</th>\n",
       "      <th>anuncio_descricao</th>\n",
       "    </tr>\n",
       "  </thead>\n",
       "  <tbody>\n",
       "    <tr>\n",
       "      <th>0</th>\n",
       "      <td>Casa</td>\n",
       "      <td>Barra da Tijuca</td>\n",
       "      <td>Point</td>\n",
       "      <td>[-43.3039086, -23.0139692]</td>\n",
       "      <td>4</td>\n",
       "      <td>279</td>\n",
       "      <td>['Área de Serviço', 'Terraço', 'Churrasqueira'...</td>\n",
       "      <td>['Churrasqueira', 'Salão de Jogos', 'Sauna', '...</td>\n",
       "      <td>['Próximo a Escola Particular', 'Próximo ao Me...</td>\n",
       "      <td>Padrão</td>\n",
       "      <td>Lançamento</td>\n",
       "      <td>2400000.0</td>\n",
       "      <td>0.0</td>\n",
       "      <td>790.0</td>\n",
       "      <td>5700.0</td>\n",
       "      <td>Amplo imóvel para venda com 3 quartos, sendo 1...</td>\n",
       "    </tr>\n",
       "    <tr>\n",
       "      <th>1</th>\n",
       "      <td>Apartamento</td>\n",
       "      <td>Campo Grande</td>\n",
       "      <td>Point</td>\n",
       "      <td>[0, 0]</td>\n",
       "      <td>1</td>\n",
       "      <td>60</td>\n",
       "      <td>['Sauna']</td>\n",
       "      <td>['Elevador', 'Playground', 'Salão de Festas', ...</td>\n",
       "      <td>['Próximo ao Shopping', 'Próximo a Áreas de La...</td>\n",
       "      <td>Padrão</td>\n",
       "      <td>Usado</td>\n",
       "      <td>200000.0</td>\n",
       "      <td>0.0</td>\n",
       "      <td>0.0</td>\n",
       "      <td>0.0</td>\n",
       "      <td>Amplo imóvel para venda com 2 quartos, sendo 0...</td>\n",
       "    </tr>\n",
       "  </tbody>\n",
       "</table>\n",
       "</div>"
      ],
      "text/plain": [
       "  imovel_tipos_propriedade imovel_endereco_bairro  \\\n",
       "0                     Casa        Barra da Tijuca   \n",
       "1              Apartamento           Campo Grande   \n",
       "\n",
       "  imovel_endereco_localizacao_type imovel_endereco_localizacao_coordinates  \\\n",
       "0                            Point              [-43.3039086, -23.0139692]   \n",
       "1                            Point                                  [0, 0]   \n",
       "\n",
       "   imovel_vagasGaragem  imovel_area  \\\n",
       "0                    4          279   \n",
       "1                    1           60   \n",
       "\n",
       "                  imovel_caracteristicas_propriedade  \\\n",
       "0  ['Área de Serviço', 'Terraço', 'Churrasqueira'...   \n",
       "1                                          ['Sauna']   \n",
       "\n",
       "                   imovel_caracteristicas_condominio  \\\n",
       "0  ['Churrasqueira', 'Salão de Jogos', 'Sauna', '...   \n",
       "1  ['Elevador', 'Playground', 'Salão de Festas', ...   \n",
       "\n",
       "                      imovel_caracteristicas_entorno anuncio_tipos_publicacao  \\\n",
       "0  ['Próximo a Escola Particular', 'Próximo ao Me...                   Padrão   \n",
       "1  ['Próximo ao Shopping', 'Próximo a Áreas de La...                   Padrão   \n",
       "\n",
       "  anuncio_tipos_listagem  anuncio_valores_venda  anuncio_valores_aluguel  \\\n",
       "0             Lançamento              2400000.0                      0.0   \n",
       "1                  Usado               200000.0                      0.0   \n",
       "\n",
       "   anuncio_valores_condominio  anuncio_valores_iptu  \\\n",
       "0                       790.0                5700.0   \n",
       "1                         0.0                   0.0   \n",
       "\n",
       "                                   anuncio_descricao  \n",
       "0  Amplo imóvel para venda com 3 quartos, sendo 1...  \n",
       "1  Amplo imóvel para venda com 2 quartos, sendo 0...  "
      ]
     },
     "execution_count": 83,
     "metadata": {},
     "output_type": "execute_result"
    }
   ],
   "source": [
    "dados_normal_listings.head(2)"
   ]
  },
  {
   "cell_type": "code",
   "execution_count": 84,
   "metadata": {
    "id": "karvMBcBifJf"
   },
   "outputs": [
    {
     "data": {
      "text/plain": [
       "\"['Área de Serviço', 'Terraço', 'Churrasqueira', 'Quarto/WC Empregada', 'Sauna', 'Varanda', 'Gás Encanado', 'Closet', 'Piscina', 'Mobiliado', 'Armários Planejados', 'Acessibilidade']\""
      ]
     },
     "execution_count": 84,
     "metadata": {},
     "output_type": "execute_result"
    }
   ],
   "source": [
    "lista_str = dados_normal_listings.loc[0, 'imovel_caracteristicas_propriedade']\n",
    "lista_str"
   ]
  },
  {
   "cell_type": "code",
   "execution_count": 85,
   "metadata": {
    "id": "Cw5aR9T4ifJg"
   },
   "outputs": [
    {
     "data": {
      "text/plain": [
       "str"
      ]
     },
     "execution_count": 85,
     "metadata": {},
     "output_type": "execute_result"
    }
   ],
   "source": [
    "type(lista_str)"
   ]
  },
  {
   "cell_type": "code",
   "execution_count": 86,
   "metadata": {},
   "outputs": [
    {
     "data": {
      "text/plain": [
       "'['"
      ]
     },
     "execution_count": 86,
     "metadata": {},
     "output_type": "execute_result"
    }
   ],
   "source": [
    "lista_str[0]"
   ]
  },
  {
   "cell_type": "markdown",
   "metadata": {
    "id": "cYPl0qylifJj"
   },
   "source": [
    "#### Métodos de *strings*\n",
    "\n",
    "[Documentação](https://docs.python.org/3.6/library/stdtypes.html#string-methods)"
   ]
  },
  {
   "cell_type": "code",
   "execution_count": 87,
   "metadata": {
    "id": "IYEo2u_bifJl"
   },
   "outputs": [
    {
     "data": {
      "text/plain": [
       "\"'Área de Serviço', 'Terraço', 'Churrasqueira', 'Quarto/WC Empregada', 'Sauna', 'Varanda', 'Gás Encanado', 'Closet', 'Piscina', 'Mobiliado', 'Armários Planejados', 'Acessibilidade'\""
      ]
     },
     "execution_count": 87,
     "metadata": {},
     "output_type": "execute_result"
    }
   ],
   "source": [
    "lista_str[1:-1]"
   ]
  },
  {
   "cell_type": "code",
   "execution_count": 88,
   "metadata": {
    "id": "QEy7_TWJevgZ"
   },
   "outputs": [
    {
     "data": {
      "text/plain": [
       "\"'Área de Serviço', 'Terraço', 'Churrasqueira', 'Quarto/WC Empregada', 'Sauna', 'Varanda', 'Gás Encanado', 'Closet', 'Piscina', 'Mobiliado', 'Armários Planejados', 'Acessibilidade'\""
      ]
     },
     "execution_count": 88,
     "metadata": {},
     "output_type": "execute_result"
    }
   ],
   "source": [
    "lista_str.strip('[]')"
   ]
  },
  {
   "cell_type": "code",
   "execution_count": 89,
   "metadata": {
    "id": "lFO8yF2QifJt"
   },
   "outputs": [
    {
     "data": {
      "text/plain": [
       "'Área de Serviço, Terraço, Churrasqueira, Quarto/WC Empregada, Sauna, Varanda, Gás Encanado, Closet, Piscina, Mobiliado, Armários Planejados, Acessibilidade'"
      ]
     },
     "execution_count": 89,
     "metadata": {},
     "output_type": "execute_result"
    }
   ],
   "source": [
    "lista_str[1:-1].replace(\"'\", \"\")"
   ]
  },
  {
   "cell_type": "code",
   "execution_count": 90,
   "metadata": {
    "id": "-b5SugvuifJv"
   },
   "outputs": [
    {
     "data": {
      "text/plain": [
       "['Área de Serviço',\n",
       " 'Terraço',\n",
       " 'Churrasqueira',\n",
       " 'Quarto/WC Empregada',\n",
       " 'Sauna',\n",
       " 'Varanda',\n",
       " 'Gás Encanado',\n",
       " 'Closet',\n",
       " 'Piscina',\n",
       " 'Mobiliado',\n",
       " 'Armários Planejados',\n",
       " 'Acessibilidade']"
      ]
     },
     "execution_count": 90,
     "metadata": {},
     "output_type": "execute_result"
    }
   ],
   "source": [
    "lista = lista_str[1:-1].replace(\"'\", \"\").split(', ')\n",
    "lista"
   ]
  },
  {
   "cell_type": "code",
   "execution_count": 91,
   "metadata": {},
   "outputs": [
    {
     "data": {
      "text/plain": [
       "list"
      ]
     },
     "execution_count": 91,
     "metadata": {},
     "output_type": "execute_result"
    }
   ],
   "source": [
    "type(lista)"
   ]
  },
  {
   "cell_type": "code",
   "execution_count": 92,
   "metadata": {
    "id": "OagOgk64ifJx"
   },
   "outputs": [
    {
     "data": {
      "text/plain": [
       "0     ['Área de Serviço', 'Terraço', 'Churrasqueira'...\n",
       "1                                             ['Sauna']\n",
       "2     ['Acessibilidade', 'Área de Serviço', 'Sauna',...\n",
       "3     ['Vista Panorâmica', 'Piscina', 'Sauna', 'Clos...\n",
       "4                               ['Armários Planejados']\n",
       "                            ...                        \n",
       "45    ['Ambientes Integrados', 'Sauna', 'Piscina', '...\n",
       "46    ['Acessibilidade', 'Gás Encanado', 'Área de Se...\n",
       "47    ['Acessibilidade', 'Quarto/WC Empregada', 'Arm...\n",
       "48    ['Cozinha Americana', 'Mobiliado', 'Sauna', 'P...\n",
       "49    ['Varanda', 'Closet', 'Armários Planejados', '...\n",
       "Name: imovel_caracteristicas_propriedade, Length: 50, dtype: object"
      ]
     },
     "execution_count": 92,
     "metadata": {},
     "output_type": "execute_result"
    }
   ],
   "source": [
    "texto = dados_normal_listings.loc[:, 'imovel_caracteristicas_propriedade']\n",
    "texto"
   ]
  },
  {
   "cell_type": "markdown",
   "metadata": {
    "id": "8Ak250BYevga"
   },
   "source": [
    "#### `str`\n",
    "\n",
    "[Documentação](https://pandas.pydata.org/pandas-docs/stable/reference/api/pandas.Series.str.html)"
   ]
  },
  {
   "cell_type": "code",
   "execution_count": 93,
   "metadata": {
    "id": "6vv8s40ievga"
   },
   "outputs": [
    {
     "data": {
      "text/plain": [
       "<pandas.core.strings.accessor.StringMethods at 0x1d8dd616ee0>"
      ]
     },
     "execution_count": 93,
     "metadata": {},
     "output_type": "execute_result"
    }
   ],
   "source": [
    "texto.str"
   ]
  },
  {
   "cell_type": "code",
   "execution_count": 94,
   "metadata": {
    "id": "GKIZLU9_ifJ3"
   },
   "outputs": [
    {
     "data": {
      "text/plain": [
       "0     'Área de Serviço', 'Terraço', 'Churrasqueira',...\n",
       "1                                               'Sauna'\n",
       "2     'Acessibilidade', 'Área de Serviço', 'Sauna', ...\n",
       "3     'Vista Panorâmica', 'Piscina', 'Sauna', 'Close...\n",
       "4                                 'Armários Planejados'\n",
       "                            ...                        \n",
       "45    'Ambientes Integrados', 'Sauna', 'Piscina', 'V...\n",
       "46    'Acessibilidade', 'Gás Encanado', 'Área de Ser...\n",
       "47    'Acessibilidade', 'Quarto/WC Empregada', 'Armá...\n",
       "48    'Cozinha Americana', 'Mobiliado', 'Sauna', 'Pi...\n",
       "49    'Varanda', 'Closet', 'Armários Planejados', 'P...\n",
       "Name: imovel_caracteristicas_propriedade, Length: 50, dtype: object"
      ]
     },
     "execution_count": 94,
     "metadata": {},
     "output_type": "execute_result"
    }
   ],
   "source": [
    "texto.str[1:-1]"
   ]
  },
  {
   "cell_type": "code",
   "execution_count": 95,
   "metadata": {
    "id": "j5ZntTzAifJ5"
   },
   "outputs": [
    {
     "data": {
      "text/plain": [
       "0     'Área de Serviço', 'Terraço', 'Churrasqueira',...\n",
       "1                                               'Sauna'\n",
       "2     'Acessibilidade', 'Área de Serviço', 'Sauna', ...\n",
       "3     'Vista Panorâmica', 'Piscina', 'Sauna', 'Close...\n",
       "4                                 'Armários Planejados'\n",
       "                            ...                        \n",
       "45    'Ambientes Integrados', 'Sauna', 'Piscina', 'V...\n",
       "46    'Acessibilidade', 'Gás Encanado', 'Área de Ser...\n",
       "47    'Acessibilidade', 'Quarto/WC Empregada', 'Armá...\n",
       "48    'Cozinha Americana', 'Mobiliado', 'Sauna', 'Pi...\n",
       "49    'Varanda', 'Closet', 'Armários Planejados', 'P...\n",
       "Name: imovel_caracteristicas_propriedade, Length: 50, dtype: object"
      ]
     },
     "execution_count": 95,
     "metadata": {},
     "output_type": "execute_result"
    }
   ],
   "source": [
    "texto.str[1:-1].replace(\"'\", \"\")"
   ]
  },
  {
   "cell_type": "code",
   "execution_count": 96,
   "metadata": {
    "id": "TJpsQdSPifJ9"
   },
   "outputs": [
    {
     "data": {
      "text/plain": [
       "0     Área de Serviço, Terraço, Churrasqueira, Quart...\n",
       "1                                                 Sauna\n",
       "2     Acessibilidade, Área de Serviço, Sauna, Ambien...\n",
       "3     Vista Panorâmica, Piscina, Sauna, Closet, Mobi...\n",
       "4                                   Armários Planejados\n",
       "                            ...                        \n",
       "45    Ambientes Integrados, Sauna, Piscina, Vista Pa...\n",
       "46    Acessibilidade, Gás Encanado, Área de Serviço,...\n",
       "47    Acessibilidade, Quarto/WC Empregada, Armários ...\n",
       "48    Cozinha Americana, Mobiliado, Sauna, Piscina, ...\n",
       "49    Varanda, Closet, Armários Planejados, Piscina,...\n",
       "Name: imovel_caracteristicas_propriedade, Length: 50, dtype: object"
      ]
     },
     "execution_count": 96,
     "metadata": {},
     "output_type": "execute_result"
    }
   ],
   "source": [
    "texto.str[1:-1].str.replace(\"'\", \"\")"
   ]
  },
  {
   "cell_type": "code",
   "execution_count": 97,
   "metadata": {
    "id": "-diMtJl7ifKA"
   },
   "outputs": [
    {
     "data": {
      "text/plain": [
       "0     ['Área de Serviço', 'Terraço', 'Churrasqueira'...\n",
       "1                                             ['Sauna']\n",
       "2     ['Acessibilidade', 'Área de Serviço', 'Sauna',...\n",
       "3     ['Vista Panorâmica', 'Piscina', 'Sauna', 'Clos...\n",
       "4                               ['Armários Planejados']\n",
       "                            ...                        \n",
       "45    ['Ambientes Integrados', 'Sauna', 'Piscina', '...\n",
       "46    ['Acessibilidade', 'Gás Encanado', 'Área de Se...\n",
       "47    ['Acessibilidade', 'Quarto/WC Empregada', 'Arm...\n",
       "48    ['Cozinha Americana', 'Mobiliado', 'Sauna', 'P...\n",
       "49    ['Varanda', 'Closet', 'Armários Planejados', '...\n",
       "Name: imovel_caracteristicas_propriedade, Length: 50, dtype: object"
      ]
     },
     "execution_count": 97,
     "metadata": {},
     "output_type": "execute_result"
    }
   ],
   "source": [
    "texto = texto.str[1:-1].replace(\"'\", \"\").str.split(\", \")\n",
    "texto"
   ]
  },
  {
   "cell_type": "code",
   "execution_count": 98,
   "metadata": {
    "id": "yM8GML9yifKC"
   },
   "outputs": [
    {
     "data": {
      "text/plain": [
       "list"
      ]
     },
     "execution_count": 98,
     "metadata": {},
     "output_type": "execute_result"
    }
   ],
   "source": [
    "type(texto[0])"
   ]
  },
  {
   "cell_type": "markdown",
   "metadata": {
    "id": "udrVGc3_evgb"
   },
   "source": [
    "#### `filter`\n",
    "\n",
    "[Documentação](https://pandas.pydata.org/pandas-docs/stable/reference/api/pandas.DataFrame.filter.html)"
   ]
  },
  {
   "cell_type": "code",
   "execution_count": 99,
   "metadata": {
    "id": "7uNZ9jOCevgc"
   },
   "outputs": [],
   "source": [
    "columns = dados_normal_listings.filter(like='imovel_caracteristicas').columns\n",
    "\n",
    "for column in columns:\n",
    "    dados_normal_listings[column] = dados_normal_listings[column].str[1:-1].str.replace(\"'\", \"\").str.split(\", \")\n",
    "    dados_highlights_listings[column] = dados_highlights_listings[column].str[1:-1].str.replace(\"'\", \"\").str.split(\", \")\n"
   ]
  },
  {
   "cell_type": "code",
   "execution_count": 100,
   "metadata": {
    "id": "S1vRA6-pifKN",
    "scrolled": true
   },
   "outputs": [
    {
     "data": {
      "text/plain": [
       "'Área de Serviço'"
      ]
     },
     "execution_count": 100,
     "metadata": {},
     "output_type": "execute_result"
    }
   ],
   "source": [
    "dados_normal_listings.loc[0, 'imovel_caracteristicas_propriedade'][0]"
   ]
  },
  {
   "cell_type": "markdown",
   "metadata": {
    "id": "1NRyywesevgc"
   },
   "source": [
    "# COMBINANDO CONJUNTOS DE DADOS\n",
    "---"
   ]
  },
  {
   "cell_type": "code",
   "execution_count": null,
   "metadata": {
    "id": "fVukYp7wevgc"
   },
   "outputs": [],
   "source": []
  },
  {
   "cell_type": "code",
   "execution_count": null,
   "metadata": {
    "id": "ssxgfqonevgc"
   },
   "outputs": [],
   "source": []
  },
  {
   "cell_type": "markdown",
   "metadata": {
    "id": "rZgiUKLdevgc"
   },
   "source": [
    "## Empilhando *DataFrames*"
   ]
  },
  {
   "cell_type": "markdown",
   "metadata": {
    "id": "-h32tlhVevgd"
   },
   "source": [
    "### `append`\n",
    "\n",
    "[Documentação](https://pandas.pydata.org/pandas-docs/stable/reference/api/pandas.DataFrame.append.html)"
   ]
  },
  {
   "cell_type": "code",
   "execution_count": null,
   "metadata": {
    "id": "LHCKRDJ_evgd",
    "scrolled": true
   },
   "outputs": [],
   "source": []
  },
  {
   "cell_type": "code",
   "execution_count": null,
   "metadata": {
    "id": "tF1g0sR2evgd",
    "scrolled": true
   },
   "outputs": [],
   "source": []
  },
  {
   "cell_type": "code",
   "execution_count": null,
   "metadata": {
    "id": "bbBmb6dRevgd"
   },
   "outputs": [],
   "source": []
  },
  {
   "cell_type": "code",
   "execution_count": null,
   "metadata": {
    "id": "i9p8pJONevgd",
    "scrolled": true
   },
   "outputs": [],
   "source": []
  },
  {
   "cell_type": "markdown",
   "metadata": {
    "id": "r2--u5uMevgd"
   },
   "source": [
    "### `concat`\n",
    "\n",
    "[Documentação](https://pandas.pydata.org/pandas-docs/stable/reference/api/pandas.concat.html)"
   ]
  },
  {
   "cell_type": "code",
   "execution_count": null,
   "metadata": {
    "id": "Slce5RQdevge"
   },
   "outputs": [],
   "source": []
  },
  {
   "cell_type": "code",
   "execution_count": null,
   "metadata": {
    "id": "44uiNz8Oevge"
   },
   "outputs": [],
   "source": []
  },
  {
   "cell_type": "markdown",
   "metadata": {
    "id": "GJbtme1Gevge"
   },
   "source": [
    "## Combinando *DataFrames* a partir de uma chave de ligação"
   ]
  },
  {
   "cell_type": "code",
   "execution_count": null,
   "metadata": {
    "id": "-wKGhtQ0evge"
   },
   "outputs": [],
   "source": []
  },
  {
   "cell_type": "code",
   "execution_count": null,
   "metadata": {
    "id": "JphM_Y6Vevge"
   },
   "outputs": [],
   "source": []
  },
  {
   "cell_type": "markdown",
   "metadata": {
    "id": "iWSZcYnuevgf"
   },
   "source": [
    "### Tratando a variável de ligação"
   ]
  },
  {
   "cell_type": "markdown",
   "metadata": {
    "id": "EnAauv0Qevgf"
   },
   "source": [
    "#### Selecionando a variável de ligação nos dois *DataFrames*"
   ]
  },
  {
   "cell_type": "code",
   "execution_count": null,
   "metadata": {
    "id": "9ZROypsOevgf"
   },
   "outputs": [],
   "source": []
  },
  {
   "cell_type": "markdown",
   "metadata": {
    "id": "l38MglWkevgf"
   },
   "source": [
    "[Documentação: `get_level_values`](https://pandas.pydata.org/pandas-docs/stable/reference/api/pandas.MultiIndex.get_level_values.html)"
   ]
  },
  {
   "cell_type": "code",
   "execution_count": null,
   "metadata": {
    "id": "PqOX0cVRevgf"
   },
   "outputs": [],
   "source": []
  },
  {
   "cell_type": "markdown",
   "metadata": {
    "id": "mQQGRwbVevgg"
   },
   "source": [
    "#### Identificando e eliminando valores duplicados - `nunique` e `unique`\n",
    "\n",
    "[Documentação: `nunique`](https://pandas.pydata.org/pandas-docs/stable/reference/api/pandas.Series.nunique.html)\n",
    "\n",
    "[Documentação: `unique`](https://pandas.pydata.org/pandas-docs/stable/reference/api/pandas.Series.unique.html)"
   ]
  },
  {
   "cell_type": "code",
   "execution_count": null,
   "metadata": {
    "id": "oQ7JrM4oevgg"
   },
   "outputs": [],
   "source": []
  },
  {
   "cell_type": "code",
   "execution_count": null,
   "metadata": {
    "id": "3EseTUMGevgg"
   },
   "outputs": [],
   "source": []
  },
  {
   "cell_type": "code",
   "execution_count": null,
   "metadata": {
    "id": "wTzTjSG4evgg"
   },
   "outputs": [],
   "source": []
  },
  {
   "cell_type": "code",
   "execution_count": null,
   "metadata": {
    "id": "phexF7SWevgg"
   },
   "outputs": [],
   "source": []
  },
  {
   "cell_type": "code",
   "execution_count": null,
   "metadata": {
    "id": "P8IO0v72evgh",
    "scrolled": true
   },
   "outputs": [],
   "source": []
  },
  {
   "cell_type": "markdown",
   "metadata": {
    "id": "SzEMZcrBevgh"
   },
   "source": [
    "---"
   ]
  },
  {
   "cell_type": "code",
   "execution_count": null,
   "metadata": {
    "id": "QDoTILAcevgh"
   },
   "outputs": [],
   "source": []
  },
  {
   "cell_type": "code",
   "execution_count": null,
   "metadata": {
    "id": "P8VPy0fmevgh"
   },
   "outputs": [],
   "source": []
  },
  {
   "cell_type": "code",
   "execution_count": null,
   "metadata": {
    "id": "d2r54C34evgi",
    "scrolled": true
   },
   "outputs": [],
   "source": []
  },
  {
   "cell_type": "markdown",
   "metadata": {
    "id": "ivrVtUQlevgi"
   },
   "source": [
    "#### Verificando se existe correspondência entre as variáveis de ligação\n",
    "\n",
    "[Documentação](https://pandas.pydata.org/pandas-docs/stable/reference/api/pandas.Series.isin.html)"
   ]
  },
  {
   "cell_type": "code",
   "execution_count": null,
   "metadata": {
    "id": "RCPjMO2levgi",
    "scrolled": false
   },
   "outputs": [],
   "source": []
  },
  {
   "cell_type": "code",
   "execution_count": null,
   "metadata": {
    "id": "IFWWnS4Kevgi",
    "scrolled": true
   },
   "outputs": [],
   "source": []
  },
  {
   "cell_type": "code",
   "execution_count": null,
   "metadata": {
    "id": "uiacZ9lnevgi"
   },
   "outputs": [],
   "source": []
  },
  {
   "cell_type": "code",
   "execution_count": null,
   "metadata": {
    "id": "HSpGW6vdevgj"
   },
   "outputs": [],
   "source": []
  },
  {
   "cell_type": "markdown",
   "metadata": {
    "id": "poxpGTtuevgj"
   },
   "source": [
    "#### Ajustando os valores\n",
    "\n",
    "[Documentação](https://pandas.pydata.org/pandas-docs/stable/reference/api/pandas.Series.replace.html)"
   ]
  },
  {
   "cell_type": "code",
   "execution_count": null,
   "metadata": {
    "id": "XTDo7AvYevgk"
   },
   "outputs": [],
   "source": []
  },
  {
   "cell_type": "code",
   "execution_count": null,
   "metadata": {
    "id": "NAqMX05Yevgk",
    "scrolled": true
   },
   "outputs": [],
   "source": []
  },
  {
   "cell_type": "code",
   "execution_count": null,
   "metadata": {
    "id": "iGudgRQ6evgk",
    "scrolled": false
   },
   "outputs": [],
   "source": []
  },
  {
   "cell_type": "markdown",
   "metadata": {
    "id": "3btbFOGeevgl"
   },
   "source": [
    "### Combinando os *DataFrames*"
   ]
  },
  {
   "cell_type": "markdown",
   "metadata": {
    "id": "CBTdNyc1evgl"
   },
   "source": [
    "#### `merge`\n",
    "\n",
    "[Documentação](https://pandas.pydata.org/pandas-docs/stable/reference/api/pandas.merge.html)\n",
    "\n",
    "```\n",
    "pandas.merge(left, right, how='inner', on=None, left_on=None, right_on=None, left_index=False, right_index=False, sort=False, suffixes='_x', '_y', copy=True, indicator=False, validate=None)\n",
    "```\n",
    "\n",
    "**Parameters**\n",
    "\n",
    "- **left**: DataFrame\n",
    "\n",
    "\n",
    "- **right**: DataFrame\n",
    "    \n",
    "\n",
    "- **how**: {‘left’, ‘right’, ‘outer’, ‘inner’}, *default* ‘inner’\n",
    "\n",
    "        Tipo de junção que será realizada.\n",
    "\n",
    "        - left: usa apenas as chaves do DataFrame especificado no parâmetro left.\n",
    "\n",
    "        - right: usa apenas as chaves do DataFrame especificado no parâmetro right.\n",
    "\n",
    "        - outer: considera todos os registros dos DataFrames especificados nos parâmetros left e right, isto é, faz a união das chaves.\n",
    "\n",
    "        - inner: considera apenas a interseção das chaves dos DataFrames especificados nos parâmetros left e right.\n",
    "    \n",
    "\n",
    "- **on**: label ou list\n",
    "\n",
    "        Nomes das colunas ou dos índices que serão utilizados na junção. Estes devem ser encontrados em ambos os DataFrames.\n",
    "        \n",
    "\n",
    "- **left_on**: label ou list, or array-like\n",
    "\n",
    "        Nomes das colunas ou dos índices do DataFrame especificado em left que serão utilizados na junção.\n",
    "        \n",
    "\n",
    "- **right_on**: label or list, or array-like\n",
    "\n",
    "        Nomes das colunas ou dos índices do DataFrame especificado em right que serão utilizados na junção.\n",
    "    \n",
    "\n",
    "- **left_index**: bool, *default False*\n",
    "\n",
    "        Indica se o índice do DataFrame especificado no parâmetro left deve ser utilizado como chave de junção.\n",
    "        \n",
    "\n",
    "- **right_index**: bool, *default False*\n",
    "\n",
    "        Indica se o índice do DataFrame especificado no parâmetro right deve ser utilizado como chave de junção."
   ]
  },
  {
   "cell_type": "code",
   "execution_count": null,
   "metadata": {
    "id": "wo8ttXKcevgn",
    "scrolled": true
   },
   "outputs": [],
   "source": []
  },
  {
   "cell_type": "markdown",
   "metadata": {
    "id": "ymrhrLaYevgn"
   },
   "source": [
    "# ADICIONANDO INFORMAÇÕES\n",
    "---"
   ]
  },
  {
   "cell_type": "markdown",
   "metadata": {
    "id": "4aqxo4l-evgn"
   },
   "source": [
    "## Criando as colunas `quartos`, `suites` e `banheiros`"
   ]
  },
  {
   "cell_type": "code",
   "execution_count": null,
   "metadata": {
    "id": "giBGU4gOevgs"
   },
   "outputs": [],
   "source": []
  },
  {
   "cell_type": "markdown",
   "metadata": {
    "id": "nya9Yy7Kevgs"
   },
   "source": [
    "### `str.extractall`\n",
    "\n",
    "[Documentação](https://pandas.pydata.org/pandas-docs/stable/reference/api/pandas.Series.str.extractall.html)"
   ]
  },
  {
   "cell_type": "code",
   "execution_count": null,
   "metadata": {
    "id": "Toi4yfM-evgs",
    "scrolled": true
   },
   "outputs": [],
   "source": []
  },
  {
   "cell_type": "markdown",
   "metadata": {
    "id": "p2bibVe9evgs"
   },
   "source": [
    "### `unstack`\n",
    "\n",
    "[Documentação](https://pandas.pydata.org/pandas-docs/stable/reference/api/pandas.DataFrame.unstack.html)"
   ]
  },
  {
   "cell_type": "code",
   "execution_count": null,
   "metadata": {
    "id": "QXWYy2h8evgt"
   },
   "outputs": [],
   "source": []
  },
  {
   "cell_type": "code",
   "execution_count": null,
   "metadata": {
    "id": "FktwCtLTevgt"
   },
   "outputs": [],
   "source": []
  },
  {
   "cell_type": "markdown",
   "metadata": {
    "id": "-jVhoVI-evgt"
   },
   "source": [
    "### `droplevel`\n",
    "\n",
    "[Documentação](https://pandas.pydata.org/pandas-docs/stable/reference/api/pandas.DataFrame.droplevel.html)"
   ]
  },
  {
   "cell_type": "code",
   "execution_count": null,
   "metadata": {
    "id": "TSojRmn9evgt"
   },
   "outputs": [],
   "source": []
  },
  {
   "cell_type": "code",
   "execution_count": null,
   "metadata": {
    "id": "ac4wLkEGevgt",
    "scrolled": true
   },
   "outputs": [],
   "source": []
  },
  {
   "cell_type": "markdown",
   "metadata": {
    "id": "m2CS8xkuevgu"
   },
   "source": [
    "## Criando novas classificações"
   ]
  },
  {
   "cell_type": "markdown",
   "metadata": {
    "id": "bJqulTItevgu"
   },
   "source": [
    "### Com dados categóricos - `map`\n",
    "\n",
    "[Documentação](https://pandas.pydata.org/pandas-docs/stable/reference/api/pandas.Series.map.html)"
   ]
  },
  {
   "cell_type": "code",
   "execution_count": null,
   "metadata": {
    "id": "_l0qDgFzevgu"
   },
   "outputs": [],
   "source": [
    "tipo_uso = {\n",
    "    'Apartamento': 'Residencial',\n",
    "    'Casa': 'Residencial',\n",
    "    'Cobertura': 'Residencial',\n",
    "    'Consultório': 'Comercial',\n",
    "    'Imóvel Comercial': 'Comercial',\n",
    "    'Loja': 'Comercial',\n",
    "    'Sala Comercial': 'Comercial'\n",
    "}"
   ]
  },
  {
   "cell_type": "code",
   "execution_count": null,
   "metadata": {
    "id": "DwyFjomsevgu",
    "scrolled": true
   },
   "outputs": [],
   "source": []
  },
  {
   "cell_type": "code",
   "execution_count": null,
   "metadata": {
    "id": "X3B_8DLvevgv"
   },
   "outputs": [],
   "source": []
  },
  {
   "cell_type": "markdown",
   "metadata": {
    "id": "995hOzHhevgv"
   },
   "source": [
    "#### `insert`\n",
    "\n",
    "[Documentação](https://pandas.pydata.org/pandas-docs/stable/reference/api/pandas.DataFrame.insert.html)"
   ]
  },
  {
   "cell_type": "code",
   "execution_count": null,
   "metadata": {
    "id": "tuPwv1JTevgv"
   },
   "outputs": [],
   "source": []
  },
  {
   "cell_type": "code",
   "execution_count": null,
   "metadata": {
    "id": "IMSZeeIhevgw",
    "scrolled": true
   },
   "outputs": [],
   "source": []
  },
  {
   "cell_type": "markdown",
   "metadata": {
    "id": "1CRwFHsfevgw"
   },
   "source": [
    "### Com dados numéricos - `cut`\n",
    "\n",
    "[Documentação](https://pandas.pydata.org/pandas-docs/stable/reference/api/pandas.cut.html)"
   ]
  },
  {
   "cell_type": "markdown",
   "metadata": {
    "id": "2g4jSmX1evgw"
   },
   "source": [
    "#### Utilizando classes fixas"
   ]
  },
  {
   "cell_type": "code",
   "execution_count": null,
   "metadata": {
    "id": "0KTpjlnhevgx"
   },
   "outputs": [],
   "source": []
  },
  {
   "cell_type": "code",
   "execution_count": null,
   "metadata": {
    "id": "zapsO_NJAoj7"
   },
   "outputs": [],
   "source": []
  },
  {
   "cell_type": "code",
   "execution_count": null,
   "metadata": {
    "id": "ztdhjZ2mevgx"
   },
   "outputs": [],
   "source": []
  },
  {
   "cell_type": "code",
   "execution_count": null,
   "metadata": {
    "id": "je6VWPuYevgx",
    "scrolled": true
   },
   "outputs": [],
   "source": []
  },
  {
   "cell_type": "code",
   "execution_count": null,
   "metadata": {
    "id": "vY7d-5z5ceWO",
    "scrolled": true
   },
   "outputs": [],
   "source": []
  },
  {
   "cell_type": "code",
   "execution_count": null,
   "metadata": {
    "id": "q1ENkBM0evgy"
   },
   "outputs": [],
   "source": []
  },
  {
   "cell_type": "markdown",
   "metadata": {
    "id": "hGo5UyTsevgy"
   },
   "source": [
    "#### Utilizando classes personalizadas"
   ]
  },
  {
   "cell_type": "code",
   "execution_count": null,
   "metadata": {
    "id": "XzoW4Hasb8q7"
   },
   "outputs": [],
   "source": []
  },
  {
   "cell_type": "code",
   "execution_count": null,
   "metadata": {
    "id": "I65cC8pkevgz",
    "scrolled": true
   },
   "outputs": [],
   "source": []
  },
  {
   "cell_type": "code",
   "execution_count": null,
   "metadata": {
    "id": "mfZ0S5b0evgz",
    "scrolled": true
   },
   "outputs": [],
   "source": []
  },
  {
   "cell_type": "code",
   "execution_count": null,
   "metadata": {
    "id": "iHDPvSAPevgz"
   },
   "outputs": [],
   "source": []
  },
  {
   "cell_type": "markdown",
   "metadata": {
    "id": "zWGPxzcuevg0"
   },
   "source": [
    "## Novas colunas derivadas das informações existentes"
   ]
  },
  {
   "cell_type": "markdown",
   "metadata": {
    "id": "LLxPnrTHevg0"
   },
   "source": [
    "### Valor por m²"
   ]
  },
  {
   "cell_type": "code",
   "execution_count": null,
   "metadata": {
    "id": "ucf8dkBzevg0",
    "scrolled": true
   },
   "outputs": [],
   "source": []
  },
  {
   "cell_type": "code",
   "execution_count": null,
   "metadata": {
    "id": "RAPOfBHgevg0"
   },
   "outputs": [],
   "source": []
  },
  {
   "cell_type": "markdown",
   "metadata": {
    "id": "JxaCGr1Devg1"
   },
   "source": [
    "#### `apply`\n",
    "\n",
    "[Documentação](https://pandas.pydata.org/pandas-docs/stable/reference/api/pandas.DataFrame.apply.html)"
   ]
  },
  {
   "cell_type": "code",
   "execution_count": null,
   "metadata": {
    "id": "yNmvRWLievg1"
   },
   "outputs": [],
   "source": []
  },
  {
   "cell_type": "code",
   "execution_count": null,
   "metadata": {
    "id": "Xeqd609_evg1"
   },
   "outputs": [],
   "source": []
  },
  {
   "cell_type": "code",
   "execution_count": null,
   "metadata": {
    "id": "ZEvfUpFoevg2"
   },
   "outputs": [],
   "source": []
  },
  {
   "cell_type": "markdown",
   "metadata": {
    "id": "1Pcx255bevg2"
   },
   "source": [
    "### Piscina?"
   ]
  },
  {
   "cell_type": "code",
   "execution_count": null,
   "metadata": {
    "id": "U6z63nqXevg2"
   },
   "outputs": [],
   "source": []
  },
  {
   "cell_type": "markdown",
   "metadata": {
    "id": "KNSWnriMevg2"
   },
   "source": [
    "# TABULAÇÕES E SUMARIZAÇÕES\n",
    "---"
   ]
  },
  {
   "cell_type": "markdown",
   "metadata": {
    "id": "eiFZz3Gcevg2"
   },
   "source": [
    "## Agrupamentos"
   ]
  },
  {
   "cell_type": "code",
   "execution_count": null,
   "metadata": {
    "id": "GepN60rgevg2"
   },
   "outputs": [],
   "source": []
  },
  {
   "cell_type": "markdown",
   "metadata": {
    "id": "4VGAbY3Sevg3"
   },
   "source": [
    "### `aggregate`\n",
    "\n",
    "[Documentação](https://pandas.pydata.org/pandas-docs/stable/reference/api/pandas.DataFrame.aggregate.html)"
   ]
  },
  {
   "cell_type": "code",
   "execution_count": null,
   "metadata": {
    "id": "CJopCPinevg3"
   },
   "outputs": [],
   "source": []
  },
  {
   "cell_type": "code",
   "execution_count": null,
   "metadata": {
    "id": "fiQc4618evg3"
   },
   "outputs": [],
   "source": []
  },
  {
   "cell_type": "markdown",
   "metadata": {
    "id": "Y_T5j1Dkevg3"
   },
   "source": [
    "### `groupby`\n",
    "\n",
    "[Documentação](https://pandas.pydata.org/pandas-docs/stable/reference/api/pandas.DataFrame.groupby.html)"
   ]
  },
  {
   "cell_type": "code",
   "execution_count": null,
   "metadata": {
    "id": "Zu9QU8XYevg3"
   },
   "outputs": [],
   "source": []
  },
  {
   "cell_type": "code",
   "execution_count": null,
   "metadata": {
    "id": "UVdqyITfevg4"
   },
   "outputs": [],
   "source": []
  },
  {
   "cell_type": "code",
   "execution_count": null,
   "metadata": {
    "id": "QNe-9qufevg4"
   },
   "outputs": [],
   "source": []
  },
  {
   "cell_type": "code",
   "execution_count": null,
   "metadata": {
    "id": "2mF_L8cAevg4"
   },
   "outputs": [],
   "source": []
  },
  {
   "cell_type": "code",
   "execution_count": null,
   "metadata": {
    "id": "cafTo2wUevg4"
   },
   "outputs": [],
   "source": []
  },
  {
   "cell_type": "code",
   "execution_count": null,
   "metadata": {
    "id": "zVu7oxvYevg5"
   },
   "outputs": [],
   "source": []
  },
  {
   "cell_type": "markdown",
   "metadata": {
    "id": "AUBj_APUevg5"
   },
   "source": [
    "### `value_counts`\n",
    "\n",
    "[Documentação](https://pandas.pydata.org/pandas-docs/stable/reference/api/pandas.DataFrame.value_counts.html)"
   ]
  },
  {
   "cell_type": "code",
   "execution_count": null,
   "metadata": {
    "id": "EF2L8WmHevg5"
   },
   "outputs": [],
   "source": []
  },
  {
   "cell_type": "code",
   "execution_count": null,
   "metadata": {
    "id": "IOZ1Fb0Tevg5"
   },
   "outputs": [],
   "source": []
  },
  {
   "cell_type": "code",
   "execution_count": null,
   "metadata": {
    "id": "irStjJUvevg5"
   },
   "outputs": [],
   "source": []
  },
  {
   "cell_type": "markdown",
   "metadata": {
    "id": "KJtrt3l5evg6"
   },
   "source": [
    "#### `to_frame`\n",
    "\n",
    "[Documentação](https://pandas.pydata.org/pandas-docs/stable/reference/api/pandas.Series.to_frame.html)"
   ]
  },
  {
   "cell_type": "code",
   "execution_count": null,
   "metadata": {
    "id": "86UZBXs9evg6"
   },
   "outputs": [],
   "source": []
  },
  {
   "cell_type": "markdown",
   "metadata": {
    "id": "zfIcPdHpevg6"
   },
   "source": [
    "## Mudando o formato de um *DataFrame*"
   ]
  },
  {
   "cell_type": "markdown",
   "metadata": {
    "id": "FMI3APPqevg6"
   },
   "source": [
    "### `unstack`\n",
    "\n",
    "Faz a rotação ou o pivoteamento das linhas para as colunas.\n",
    "\n",
    "[Documentação](https://pandas.pydata.org/pandas-docs/stable/reference/api/pandas.DataFrame.unstack.html)"
   ]
  },
  {
   "cell_type": "code",
   "execution_count": null,
   "metadata": {
    "id": "ihUiFlUoevg6"
   },
   "outputs": [],
   "source": []
  },
  {
   "cell_type": "code",
   "execution_count": null,
   "metadata": {
    "id": "QJ4pCdlnevg6"
   },
   "outputs": [],
   "source": []
  },
  {
   "cell_type": "code",
   "execution_count": null,
   "metadata": {
    "id": "v_n21a8cevg7"
   },
   "outputs": [],
   "source": []
  },
  {
   "cell_type": "markdown",
   "metadata": {
    "id": "se1knkwkevg7"
   },
   "source": [
    "### `stack`\n",
    "\n",
    "Faz a rotação ou o pivoteamento das colunas de um *DataFrame* para as linhas.\n",
    "\n",
    "[Documentação](https://pandas.pydata.org/pandas-docs/stable/reference/api/pandas.DataFrame.stack.html)"
   ]
  },
  {
   "cell_type": "code",
   "execution_count": null,
   "metadata": {
    "id": "xJRpaXH_evg7"
   },
   "outputs": [],
   "source": []
  },
  {
   "cell_type": "code",
   "execution_count": null,
   "metadata": {
    "id": "QkWRUW1Hevg7"
   },
   "outputs": [],
   "source": []
  },
  {
   "cell_type": "code",
   "execution_count": null,
   "metadata": {
    "id": "dGE9_h4Eevg7",
    "scrolled": true
   },
   "outputs": [],
   "source": []
  },
  {
   "cell_type": "code",
   "execution_count": null,
   "metadata": {
    "id": "SYBirwOQevg7",
    "scrolled": true
   },
   "outputs": [],
   "source": []
  },
  {
   "cell_type": "markdown",
   "metadata": {
    "id": "721L30DGevg8"
   },
   "source": [
    "## Criando tabelas dinâmicas"
   ]
  },
  {
   "cell_type": "markdown",
   "metadata": {
    "id": "MT9R7ULTevg8"
   },
   "source": [
    "### `pivot`\n",
    "\n",
    "[Documentação](https://pandas.pydata.org/pandas-docs/stable/reference/api/pandas.DataFrame.pivot.html)"
   ]
  },
  {
   "cell_type": "code",
   "execution_count": null,
   "metadata": {
    "id": "TxCjxASHevg8"
   },
   "outputs": [],
   "source": []
  },
  {
   "cell_type": "markdown",
   "metadata": {
    "id": "KK2lRVTZevg8"
   },
   "source": [
    "#### `droplevel`\n",
    "\n",
    "[Documentação](https://pandas.pydata.org/pandas-docs/stable/reference/api/pandas.DataFrame.droplevel.html)"
   ]
  },
  {
   "cell_type": "code",
   "execution_count": null,
   "metadata": {
    "id": "WM8eGmWyevg9"
   },
   "outputs": [],
   "source": []
  },
  {
   "cell_type": "markdown",
   "metadata": {
    "id": "JV0cPfjjevg9"
   },
   "source": [
    "#### `reset_index`\n",
    "\n",
    "[Documentação](https://pandas.pydata.org/pandas-docs/stable/reference/api/pandas.DataFrame.reset_index.html)"
   ]
  },
  {
   "cell_type": "code",
   "execution_count": null,
   "metadata": {
    "id": "_2zbYlDUevg9",
    "scrolled": true
   },
   "outputs": [],
   "source": []
  },
  {
   "cell_type": "code",
   "execution_count": null,
   "metadata": {
    "id": "Tr3lQ7_Pevg9"
   },
   "outputs": [],
   "source": []
  },
  {
   "cell_type": "markdown",
   "metadata": {
    "id": "si3S5yVIevg9"
   },
   "source": [
    "### `pivot_table`\n",
    "\n",
    "[Documentação](https://pandas.pydata.org/pandas-docs/stable/reference/api/pandas.DataFrame.pivot_table.html)"
   ]
  },
  {
   "cell_type": "code",
   "execution_count": null,
   "metadata": {
    "id": "Cc8GufF3evg-"
   },
   "outputs": [],
   "source": []
  },
  {
   "cell_type": "code",
   "execution_count": null,
   "metadata": {
    "id": "VxFFo13gevg-"
   },
   "outputs": [],
   "source": []
  },
  {
   "cell_type": "code",
   "execution_count": null,
   "metadata": {
    "id": "5AzhTNwaevg-"
   },
   "outputs": [],
   "source": []
  },
  {
   "cell_type": "markdown",
   "metadata": {
    "id": "z3WPXV_1evg-"
   },
   "source": [
    "# TABULAÇÕES E ESTILIZAÇÃO\n",
    "---"
   ]
  },
  {
   "cell_type": "markdown",
   "metadata": {
    "id": "hEMpF1yYevg-"
   },
   "source": [
    "## Tabulações a partir de informações no formato de listas"
   ]
  },
  {
   "cell_type": "markdown",
   "metadata": {
    "id": "ZFqI6k6_evg-"
   },
   "source": [
    "### `explode`\n",
    "\n",
    "[Documentação](https://pandas.pydata.org/pandas-docs/stable/reference/api/pandas.DataFrame.explode.html)"
   ]
  },
  {
   "cell_type": "code",
   "execution_count": null,
   "metadata": {
    "id": "JFZCZ7Yuevg_",
    "scrolled": true
   },
   "outputs": [],
   "source": []
  },
  {
   "cell_type": "code",
   "execution_count": null,
   "metadata": {
    "id": "VhIcLAXzevg_"
   },
   "outputs": [],
   "source": []
  },
  {
   "cell_type": "code",
   "execution_count": null,
   "metadata": {
    "id": "q8dhRb3sevg_",
    "scrolled": false
   },
   "outputs": [],
   "source": []
  },
  {
   "cell_type": "markdown",
   "metadata": {
    "id": "f8aTRZ-Mevg_"
   },
   "source": [
    "#### `where`\n",
    "\n",
    "[Documentação](https://pandas.pydata.org/pandas-docs/stable/reference/api/pandas.Series.where.html)"
   ]
  },
  {
   "cell_type": "code",
   "execution_count": null,
   "metadata": {
    "id": "eVqYjcWievg_"
   },
   "outputs": [],
   "source": []
  },
  {
   "cell_type": "code",
   "execution_count": null,
   "metadata": {
    "id": "IRMPSZhvevhA"
   },
   "outputs": [],
   "source": []
  },
  {
   "cell_type": "markdown",
   "metadata": {
    "id": "Hqsk2TCqevhA"
   },
   "source": [
    "## Estilizando um DataFrame"
   ]
  },
  {
   "cell_type": "markdown",
   "metadata": {
    "id": "D9fI8e5TevhA"
   },
   "source": [
    "### `style`\n",
    "\n",
    "[Documentação](https://pandas.pydata.org/pandas-docs/stable/reference/api/pandas.DataFrame.style.html)"
   ]
  },
  {
   "cell_type": "code",
   "execution_count": null,
   "metadata": {
    "id": "6RSwWnIhevhA"
   },
   "outputs": [],
   "source": []
  },
  {
   "cell_type": "code",
   "execution_count": null,
   "metadata": {
    "id": "0m_-TJTuevhA"
   },
   "outputs": [],
   "source": []
  },
  {
   "cell_type": "code",
   "execution_count": null,
   "metadata": {
    "id": "1KnL7z-CevhA"
   },
   "outputs": [],
   "source": []
  },
  {
   "cell_type": "markdown",
   "metadata": {
    "id": "yvFSL0PAevhB"
   },
   "source": [
    "#### `format`\n",
    "\n",
    "[Documentação](https://pandas.pydata.org/pandas-docs/stable/reference/api/pandas.io.formats.style.Styler.format.html)"
   ]
  },
  {
   "cell_type": "code",
   "execution_count": null,
   "metadata": {
    "id": "r_0DbWypevhB"
   },
   "outputs": [],
   "source": []
  },
  {
   "cell_type": "markdown",
   "metadata": {
    "id": "ncaZ5etWevhB"
   },
   "source": [
    "#### `bar`\n",
    "\n",
    "[Documentação](https://pandas.pydata.org/pandas-docs/stable/reference/api/pandas.io.formats.style.Styler.bar.html)"
   ]
  },
  {
   "cell_type": "code",
   "execution_count": null,
   "metadata": {
    "id": "0DYposenevhB"
   },
   "outputs": [],
   "source": []
  },
  {
   "cell_type": "markdown",
   "metadata": {
    "id": "q9EV6PsZevhB"
   },
   "source": [
    "#### `applymap`\n",
    "\n",
    "[Documentação](https://pandas.pydata.org/pandas-docs/stable/reference/api/pandas.io.formats.style.Styler.applymap.html)"
   ]
  },
  {
   "cell_type": "code",
   "execution_count": null,
   "metadata": {
    "id": "dwRK5vwXevhB"
   },
   "outputs": [],
   "source": []
  },
  {
   "cell_type": "code",
   "execution_count": null,
   "metadata": {
    "id": "qyMctQrhevhD"
   },
   "outputs": [],
   "source": []
  },
  {
   "cell_type": "markdown",
   "metadata": {
    "id": "xklcN2wjevhD"
   },
   "source": [
    "#### `highlight_max` e `highlight_min`\n",
    "\n",
    "[Documentação: `highlight_max`](https://pandas.pydata.org/pandas-docs/stable/reference/api/pandas.io.formats.style.Styler.highlight_max.html)\n",
    "\n",
    "[Documentação: `highlight_min`](https://pandas.pydata.org/pandas-docs/stable/reference/api/pandas.io.formats.style.Styler.highlight_min.html)"
   ]
  },
  {
   "cell_type": "code",
   "execution_count": null,
   "metadata": {
    "id": "bH5k6L7FevhE"
   },
   "outputs": [],
   "source": []
  },
  {
   "cell_type": "code",
   "execution_count": null,
   "metadata": {
    "id": "QfSwVQg9evhE"
   },
   "outputs": [],
   "source": []
  },
  {
   "cell_type": "code",
   "execution_count": null,
   "metadata": {
    "id": "Q2WvRk1eevhF",
    "scrolled": true
   },
   "outputs": [],
   "source": []
  },
  {
   "cell_type": "code",
   "execution_count": null,
   "metadata": {
    "id": "JHoRZr3gevhG"
   },
   "outputs": [],
   "source": []
  },
  {
   "cell_type": "code",
   "execution_count": null,
   "metadata": {
    "id": "07rpMsdIevhG"
   },
   "outputs": [],
   "source": []
  },
  {
   "cell_type": "code",
   "execution_count": null,
   "metadata": {
    "id": "OkZyFqDdevhG"
   },
   "outputs": [],
   "source": []
  },
  {
   "cell_type": "code",
   "execution_count": null,
   "metadata": {
    "id": "WX5UuzeYevhG"
   },
   "outputs": [],
   "source": []
  },
  {
   "cell_type": "markdown",
   "metadata": {
    "id": "A13lh-6WevhH"
   },
   "source": [
    "#### `background_gradient`\n",
    "\n",
    "[Documentação](https://pandas.pydata.org/pandas-docs/stable/reference/api/pandas.io.formats.style.Styler.background_gradient.html)"
   ]
  },
  {
   "cell_type": "code",
   "execution_count": null,
   "metadata": {
    "id": "DUUt_GaRevhH"
   },
   "outputs": [],
   "source": []
  },
  {
   "cell_type": "code",
   "execution_count": null,
   "metadata": {
    "id": "Cqbg9GgvevhJ"
   },
   "outputs": [],
   "source": []
  },
  {
   "cell_type": "code",
   "execution_count": null,
   "metadata": {
    "id": "1YYNpDxbevhJ"
   },
   "outputs": [],
   "source": []
  },
  {
   "cell_type": "markdown",
   "metadata": {
    "id": "IKxU1RsFevhJ"
   },
   "source": [
    "#### `to_excel`\n",
    "\n",
    "[Documentação](https://pandas.pydata.org/pandas-docs/stable/reference/api/pandas.io.formats.style.Styler.to_excel.html)"
   ]
  },
  {
   "cell_type": "code",
   "execution_count": null,
   "metadata": {
    "id": "Hqc01SzXevhK"
   },
   "outputs": [],
   "source": []
  },
  {
   "cell_type": "markdown",
   "metadata": {
    "id": "A75CwZB0evhK"
   },
   "source": [
    "# ANEXOS\n",
    "---"
   ]
  },
  {
   "cell_type": "markdown",
   "metadata": {
    "id": "TcE_9F2eevhL"
   },
   "source": [
    "### Opções para o parâmetro `cmap`\n",
    "\n",
    "[Documentação](https://matplotlib.org/3.3.2/tutorials/colors/colormaps.html)"
   ]
  },
  {
   "cell_type": "code",
   "execution_count": null,
   "metadata": {
    "id": "hpyWIdU2evhL"
   },
   "outputs": [],
   "source": [
    "import numpy as np\n",
    "import matplotlib as mpl\n",
    "import matplotlib.pyplot as plt\n",
    "from matplotlib import cm\n",
    "from collections import OrderedDict\n",
    "\n",
    "cmaps = OrderedDict()"
   ]
  },
  {
   "cell_type": "code",
   "execution_count": null,
   "metadata": {
    "id": "DbvdFKVievhM"
   },
   "outputs": [],
   "source": [
    "cmaps['Perceptually Uniform Sequential'] = [\n",
    "            'viridis', 'plasma', 'inferno', 'magma', 'cividis']\n",
    "\n",
    "cmaps['Sequential'] = [\n",
    "            'Greys', 'Purples', 'Blues', 'Greens', 'Oranges', 'Reds',\n",
    "            'YlOrBr', 'YlOrRd', 'OrRd', 'PuRd', 'RdPu', 'BuPu',\n",
    "            'GnBu', 'PuBu', 'YlGnBu', 'PuBuGn', 'BuGn', 'YlGn']\n",
    "\n",
    "cmaps['Sequential (2)'] = [\n",
    "            'binary', 'gist_yarg', 'gist_gray', 'gray', 'bone', 'pink',\n",
    "            'spring', 'summer', 'autumn', 'winter', 'cool', 'Wistia',\n",
    "            'hot', 'afmhot', 'gist_heat', 'copper']\n",
    "\n",
    "cmaps['Diverging'] = [\n",
    "            'PiYG', 'PRGn', 'BrBG', 'PuOr', 'RdGy', 'RdBu',\n",
    "            'RdYlBu', 'RdYlGn', 'Spectral', 'coolwarm', 'bwr', 'seismic']\n",
    "\n",
    "cmaps['Cyclic'] = ['twilight', 'twilight_shifted', 'hsv']\n",
    "\n",
    "cmaps['Qualitative'] = ['Pastel1', 'Pastel2', 'Paired', 'Accent',\n",
    "                        'Dark2', 'Set1', 'Set2', 'Set3',\n",
    "                        'tab10', 'tab20', 'tab20b', 'tab20c']\n",
    "\n",
    "cmaps['Miscellaneous'] = [\n",
    "            'flag', 'prism', 'ocean', 'gist_earth', 'terrain', 'gist_stern',\n",
    "            'gnuplot', 'gnuplot2', 'CMRmap', 'cubehelix', 'brg',\n",
    "            'gist_rainbow', 'rainbow', 'jet', 'nipy_spectral',\n",
    "            'gist_ncar']"
   ]
  },
  {
   "cell_type": "code",
   "execution_count": null,
   "metadata": {
    "id": "krg94xcfevhM",
    "scrolled": false
   },
   "outputs": [],
   "source": [
    "nrows = max(len(cmap_list) for cmap_category, cmap_list in cmaps.items())\n",
    "gradient = np.linspace(0, 1, 256)\n",
    "gradient = np.vstack((gradient, gradient))\n",
    "\n",
    "\n",
    "def plot_color_gradients(cmap_category, cmap_list, nrows):\n",
    "    fig, axes = plt.subplots(nrows=nrows)\n",
    "    fig.subplots_adjust(top=0.95, bottom=0.01, left=0.2, right=0.99)\n",
    "    axes[0].set_title(cmap_category + ' colormaps', fontsize=14)\n",
    "\n",
    "    for ax, name in zip(axes, cmap_list):\n",
    "        ax.imshow(gradient, aspect='auto', cmap=plt.get_cmap(name))\n",
    "        pos = list(ax.get_position().bounds)\n",
    "        x_text = pos[0] - 0.01\n",
    "        y_text = pos[1] + pos[3]/2.\n",
    "        fig.text(x_text, y_text, name, va='center', ha='right', fontsize=10)\n",
    "\n",
    "    # Turn off *all* ticks & spines, not just the ones with colormaps.\n",
    "    for ax in axes:\n",
    "        ax.set_axis_off()\n",
    "\n",
    "\n",
    "for cmap_category, cmap_list in cmaps.items():\n",
    "    plot_color_gradients(cmap_category, cmap_list, nrows)\n",
    "\n",
    "plt.show()"
   ]
  },
  {
   "cell_type": "code",
   "execution_count": null,
   "metadata": {
    "id": "vmmcXYh2evhN"
   },
   "outputs": [],
   "source": []
  }
 ],
 "metadata": {
  "colab": {
   "name": "Projeto.ipynb",
   "provenance": []
  },
  "kernelspec": {
   "display_name": "Python 3 (ipykernel)",
   "language": "python",
   "name": "python3"
  },
  "language_info": {
   "codemirror_mode": {
    "name": "ipython",
    "version": 3
   },
   "file_extension": ".py",
   "mimetype": "text/x-python",
   "name": "python",
   "nbconvert_exporter": "python",
   "pygments_lexer": "ipython3",
   "version": "3.9.6"
  },
  "toc": {
   "base_numbering": 1,
   "nav_menu": {},
   "number_sections": false,
   "sideBar": true,
   "skip_h1_title": false,
   "title_cell": "Table of Contents",
   "title_sidebar": "Contents",
   "toc_cell": false,
   "toc_position": {
    "height": "calc(100% - 180px)",
    "left": "10px",
    "top": "150px",
    "width": "268.2px"
   },
   "toc_section_display": true,
   "toc_window_display": false
  },
  "varInspector": {
   "cols": {
    "lenName": 16,
    "lenType": 16,
    "lenVar": 40
   },
   "kernels_config": {
    "python": {
     "delete_cmd_postfix": "",
     "delete_cmd_prefix": "del ",
     "library": "var_list.py",
     "varRefreshCmd": "print(var_dic_list())"
    },
    "r": {
     "delete_cmd_postfix": ") ",
     "delete_cmd_prefix": "rm(",
     "library": "var_list.r",
     "varRefreshCmd": "cat(var_dic_list()) "
    }
   },
   "types_to_exclude": [
    "module",
    "function",
    "builtin_function_or_method",
    "instance",
    "_Feature"
   ],
   "window_display": false
  }
 },
 "nbformat": 4,
 "nbformat_minor": 1
}
